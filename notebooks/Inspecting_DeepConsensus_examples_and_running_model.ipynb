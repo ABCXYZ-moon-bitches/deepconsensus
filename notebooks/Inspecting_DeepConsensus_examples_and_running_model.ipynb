{
  "cells": [
    {
      "cell_type": "markdown",
      "metadata": {
        "id": "QPm4rl4u-kHD"
      },
      "source": [
        "# Inspecting DeepConsensus examples and running model"
      ]
    },
    {
      "cell_type": "markdown",
      "metadata": {
        "id": "UyUxIkM832Mf"
      },
      "source": [
        "## Imports\n",
        "\n"
      ]
    },
    {
      "cell_type": "markdown",
      "metadata": {
        "id": "hAGpwYlc-wSb"
      },
      "source": [
        "Run these in order. These libraries are finicky about which order they're installed and loaded in."
      ]
    },
    {
      "cell_type": "code",
      "execution_count": null,
      "metadata": {
        "id": "1ki5JOv1N6NO"
      },
      "outputs": [],
      "source": [
        "import tensorflow as tf"
      ]
    },
    {
      "cell_type": "code",
      "execution_count": null,
      "metadata": {
        "colab": {
          "base_uri": "https://localhost:8080/",
          "height": 1000
        },
        "id": "rxPOVn8fZz08",
        "outputId": "5d307d9b-0ede-429e-fbcd-87e60f240ef1"
      },
      "outputs": [
        {
          "name": "stdout",
          "output_type": "stream",
          "text": [
            "Looking in indexes: https://test.pypi.org/simple/, https://us-python.pkg.dev/colab-wheels/public/simple/, https://pypi.org/simple\n",
            "Collecting deepconsensus==0.3.0rc1\n",
            "  Downloading https://test-files.pythonhosted.org/packages/51/27/91f3c97c252cf13783218d78505cc6c1a44acebf90e3285606c1a94f53e0/deepconsensus-0.3.0rc1-py3-none-any.whl (145 kB)\n",
            "\u001b[K     |████████████████████████████████| 145 kB 1.7 MB/s \n",
            "\u001b[?25hRequirement already satisfied: httplib2\u003c1dev,\u003e=0.15.0 in /usr/local/lib/python3.7/dist-packages (from deepconsensus==0.3.0rc1) (0.17.4)\n",
            "Collecting testresources\n",
            "  Downloading testresources-2.0.1-py2.py3-none-any.whl (36 kB)\n",
            "Requirement already satisfied: protobuf\u003c3.20,\u003c4,\u003e=3.13,\u003e=3.9.2 in /usr/local/lib/python3.7/dist-packages (from deepconsensus==0.3.0rc1) (3.17.3)\n",
            "Collecting flatbuffers\u003c2,\u003e=1.12\n",
            "  Downloading flatbuffers-1.12-py2.py3-none-any.whl (15 kB)\n",
            "Collecting ml-collections\u003e=0.1.0\n",
            "  Downloading ml_collections-0.1.1.tar.gz (77 kB)\n",
            "\u001b[K     |████████████████████████████████| 77 kB 4.0 MB/s \n",
            "\u001b[?25hRequirement already satisfied: absl-py\u003e=0.13.0 in /usr/local/lib/python3.7/dist-packages (from deepconsensus==0.3.0rc1) (1.1.0)\n",
            "Collecting keras\u003c2.10.0,\u003e=2.9.0\n",
            "  Downloading keras-2.9.0-py2.py3-none-any.whl (1.6 MB)\n",
            "\u001b[K     |████████████████████████████████| 1.6 MB 13.7 MB/s \n",
            "\u001b[?25hRequirement already satisfied: numpy\u003e=1.19 in /usr/local/lib/python3.7/dist-packages (from deepconsensus==0.3.0rc1) (1.21.6)\n",
            "Collecting pysam==0.19.0\n",
            "  Downloading pysam-0.19.0-cp37-cp37m-manylinux_2_12_x86_64.manylinux2010_x86_64.whl (15.0 MB)\n",
            "\u001b[K     |████████████████████████████████| 15.0 MB 10.8 MB/s \n",
            "\u001b[?25hRequirement already satisfied: zipp\u003e=3.1.0 in /usr/local/lib/python3.7/dist-packages (from deepconsensus==0.3.0rc1) (3.8.0)\n",
            "Requirement already satisfied: pandas\u003e=1.1 in /usr/local/lib/python3.7/dist-packages (from deepconsensus==0.3.0rc1) (1.3.5)\n",
            "Collecting tf-models-official\u003e=2.9.0\n",
            "  Downloading tf_models_official-2.9.2-py2.py3-none-any.whl (2.1 MB)\n",
            "\u001b[K     |████████████████████████████████| 2.1 MB 51.4 MB/s \n",
            "\u001b[?25hCollecting tensorflow-estimator\u003c2.10.0,\u003e=2.9.0\n",
            "  Downloading tensorflow_estimator-2.9.0-py2.py3-none-any.whl (438 kB)\n",
            "\u001b[K     |████████████████████████████████| 438 kB 78.3 MB/s \n",
            "\u001b[?25hRequirement already satisfied: PyYAML in /usr/local/lib/python3.7/dist-packages (from ml-collections\u003e=0.1.0-\u003edeepconsensus==0.3.0rc1) (3.13)\n",
            "Requirement already satisfied: six in /usr/local/lib/python3.7/dist-packages (from ml-collections\u003e=0.1.0-\u003edeepconsensus==0.3.0rc1) (1.15.0)\n",
            "Requirement already satisfied: contextlib2 in /usr/local/lib/python3.7/dist-packages (from ml-collections\u003e=0.1.0-\u003edeepconsensus==0.3.0rc1) (0.5.5)\n",
            "Requirement already satisfied: python-dateutil\u003e=2.7.3 in /usr/local/lib/python3.7/dist-packages (from pandas\u003e=1.1-\u003edeepconsensus==0.3.0rc1) (2.8.2)\n",
            "Requirement already satisfied: pytz\u003e=2017.3 in /usr/local/lib/python3.7/dist-packages (from pandas\u003e=1.1-\u003edeepconsensus==0.3.0rc1) (2022.1)\n",
            "Collecting opencv-python-headless\n",
            "  Downloading opencv_python_headless-4.6.0.66-cp36-abi3-manylinux_2_17_x86_64.manylinux2014_x86_64.whl (48.3 MB)\n",
            "\u001b[K     |████████████████████████████████| 48.3 MB 1.4 MB/s \n",
            "\u001b[?25hCollecting sentencepiece\n",
            "  Downloading sentencepiece-0.1.96-cp37-cp37m-manylinux_2_17_x86_64.manylinux2014_x86_64.whl (1.2 MB)\n",
            "\u001b[K     |████████████████████████████████| 1.2 MB 61.4 MB/s \n",
            "\u001b[?25hRequirement already satisfied: oauth2client in /usr/local/lib/python3.7/dist-packages (from tf-models-official\u003e=2.9.0-\u003edeepconsensus==0.3.0rc1) (4.1.3)\n",
            "Collecting PyYAML\n",
            "  Downloading PyYAML-5.4.1-cp37-cp37m-manylinux1_x86_64.whl (636 kB)\n",
            "\u001b[K     |████████████████████████████████| 636 kB 58.0 MB/s \n",
            "\u001b[?25hRequirement already satisfied: Pillow in /usr/local/lib/python3.7/dist-packages (from tf-models-official\u003e=2.9.0-\u003edeepconsensus==0.3.0rc1) (7.1.2)\n",
            "Requirement already satisfied: gin-config in /usr/local/lib/python3.7/dist-packages (from tf-models-official\u003e=2.9.0-\u003edeepconsensus==0.3.0rc1) (0.5.0)\n",
            "Requirement already satisfied: psutil\u003e=5.4.3 in /usr/local/lib/python3.7/dist-packages (from tf-models-official\u003e=2.9.0-\u003edeepconsensus==0.3.0rc1) (5.4.8)\n",
            "Requirement already satisfied: tensorflow-datasets in /usr/local/lib/python3.7/dist-packages (from tf-models-official\u003e=2.9.0-\u003edeepconsensus==0.3.0rc1) (4.0.1)\n",
            "Requirement already satisfied: kaggle\u003e=1.3.9 in /usr/local/lib/python3.7/dist-packages (from tf-models-official\u003e=2.9.0-\u003edeepconsensus==0.3.0rc1) (1.5.12)\n",
            "Collecting tensorflow~=2.9.0\n",
            "  Downloading tensorflow-2.9.1-cp37-cp37m-manylinux_2_17_x86_64.manylinux2014_x86_64.whl (511.7 MB)\n",
            "\u001b[K     |████████████████████████████████| 511.7 MB 7.9 kB/s \n",
            "\u001b[?25hCollecting seqeval\n",
            "  Downloading seqeval-1.2.2.tar.gz (43 kB)\n",
            "\u001b[K     |████████████████████████████████| 43 kB 2.9 MB/s \n",
            "\u001b[?25hRequirement already satisfied: pycocotools in /usr/local/lib/python3.7/dist-packages (from tf-models-official\u003e=2.9.0-\u003edeepconsensus==0.3.0rc1) (2.0.4)\n",
            "Requirement already satisfied: google-api-python-client\u003e=1.6.7 in /usr/local/lib/python3.7/dist-packages (from tf-models-official\u003e=2.9.0-\u003edeepconsensus==0.3.0rc1) (1.12.11)\n",
            "Collecting tensorflow-addons\n",
            "  Downloading tensorflow_addons-0.17.1-cp37-cp37m-manylinux_2_17_x86_64.manylinux2014_x86_64.whl (1.1 MB)\n",
            "\u001b[K     |████████████████████████████████| 1.1 MB 52.8 MB/s \n",
            "\u001b[?25hRequirement already satisfied: tensorflow-hub\u003e=0.6.0 in /usr/local/lib/python3.7/dist-packages (from tf-models-official\u003e=2.9.0-\u003edeepconsensus==0.3.0rc1) (0.12.0)\n",
            "Requirement already satisfied: matplotlib in /usr/local/lib/python3.7/dist-packages (from tf-models-official\u003e=2.9.0-\u003edeepconsensus==0.3.0rc1) (3.2.2)\n",
            "Requirement already satisfied: Cython in /usr/local/lib/python3.7/dist-packages (from tf-models-official\u003e=2.9.0-\u003edeepconsensus==0.3.0rc1) (0.29.30)\n",
            "Collecting sacrebleu\n",
            "  Downloading sacrebleu-2.1.0-py3-none-any.whl (92 kB)\n",
            "\u001b[K     |████████████████████████████████| 92 kB 15.4 MB/s \n",
            "\u001b[?25hCollecting tensorflow-text~=2.9.0\n",
            "  Downloading tensorflow_text-2.9.0-cp37-cp37m-manylinux_2_17_x86_64.manylinux2014_x86_64.whl (4.6 MB)\n",
            "\u001b[K     |████████████████████████████████| 4.6 MB 61.5 MB/s \n",
            "\u001b[?25hCollecting tf-slim\u003e=1.1.0\n",
            "  Downloading tf_slim-1.1.0-py2.py3-none-any.whl (352 kB)\n",
            "\u001b[K     |████████████████████████████████| 352 kB 62.9 MB/s \n",
            "\u001b[?25hCollecting py-cpuinfo\u003e=3.3.0\n",
            "  Downloading py-cpuinfo-8.0.0.tar.gz (99 kB)\n",
            "\u001b[K     |████████████████████████████████| 99 kB 9.8 MB/s \n",
            "\u001b[?25hRequirement already satisfied: scipy\u003e=0.19.1 in /usr/local/lib/python3.7/dist-packages (from tf-models-official\u003e=2.9.0-\u003edeepconsensus==0.3.0rc1) (1.4.1)\n",
            "Collecting tensorflow-model-optimization\u003e=0.4.1\n",
            "  Downloading tensorflow_model_optimization-0.7.2-py2.py3-none-any.whl (237 kB)\n",
            "\u001b[K     |████████████████████████████████| 237 kB 92.4 MB/s \n",
            "\u001b[?25hRequirement already satisfied: google-auth\u003c3dev,\u003e=1.16.0 in /usr/local/lib/python3.7/dist-packages (from google-api-python-client\u003e=1.6.7-\u003etf-models-official\u003e=2.9.0-\u003edeepconsensus==0.3.0rc1) (1.35.0)\n",
            "Requirement already satisfied: uritemplate\u003c4dev,\u003e=3.0.0 in /usr/local/lib/python3.7/dist-packages (from google-api-python-client\u003e=1.6.7-\u003etf-models-official\u003e=2.9.0-\u003edeepconsensus==0.3.0rc1) (3.0.1)\n",
            "Requirement already satisfied: google-auth-httplib2\u003e=0.0.3 in /usr/local/lib/python3.7/dist-packages (from google-api-python-client\u003e=1.6.7-\u003etf-models-official\u003e=2.9.0-\u003edeepconsensus==0.3.0rc1) (0.0.4)\n",
            "Requirement already satisfied: google-api-core\u003c3dev,\u003e=1.21.0 in /usr/local/lib/python3.7/dist-packages (from google-api-python-client\u003e=1.6.7-\u003etf-models-official\u003e=2.9.0-\u003edeepconsensus==0.3.0rc1) (1.31.6)\n",
            "Requirement already satisfied: packaging\u003e=14.3 in /usr/local/lib/python3.7/dist-packages (from google-api-core\u003c3dev,\u003e=1.21.0-\u003egoogle-api-python-client\u003e=1.6.7-\u003etf-models-official\u003e=2.9.0-\u003edeepconsensus==0.3.0rc1) (21.3)\n",
            "Requirement already satisfied: setuptools\u003e=40.3.0 in /usr/local/lib/python3.7/dist-packages (from google-api-core\u003c3dev,\u003e=1.21.0-\u003egoogle-api-python-client\u003e=1.6.7-\u003etf-models-official\u003e=2.9.0-\u003edeepconsensus==0.3.0rc1) (57.4.0)\n",
            "Requirement already satisfied: googleapis-common-protos\u003c2.0dev,\u003e=1.6.0 in /usr/local/lib/python3.7/dist-packages (from google-api-core\u003c3dev,\u003e=1.21.0-\u003egoogle-api-python-client\u003e=1.6.7-\u003etf-models-official\u003e=2.9.0-\u003edeepconsensus==0.3.0rc1) (1.56.2)\n",
            "Requirement already satisfied: requests\u003c3.0.0dev,\u003e=2.18.0 in /usr/local/lib/python3.7/dist-packages (from google-api-core\u003c3dev,\u003e=1.21.0-\u003egoogle-api-python-client\u003e=1.6.7-\u003etf-models-official\u003e=2.9.0-\u003edeepconsensus==0.3.0rc1) (2.23.0)\n",
            "Requirement already satisfied: cachetools\u003c5.0,\u003e=2.0.0 in /usr/local/lib/python3.7/dist-packages (from google-auth\u003c3dev,\u003e=1.16.0-\u003egoogle-api-python-client\u003e=1.6.7-\u003etf-models-official\u003e=2.9.0-\u003edeepconsensus==0.3.0rc1) (4.2.4)\n",
            "Requirement already satisfied: pyasn1-modules\u003e=0.2.1 in /usr/local/lib/python3.7/dist-packages (from google-auth\u003c3dev,\u003e=1.16.0-\u003egoogle-api-python-client\u003e=1.6.7-\u003etf-models-official\u003e=2.9.0-\u003edeepconsensus==0.3.0rc1) (0.2.8)\n",
            "Requirement already satisfied: rsa\u003c5,\u003e=3.1.4 in /usr/local/lib/python3.7/dist-packages (from google-auth\u003c3dev,\u003e=1.16.0-\u003egoogle-api-python-client\u003e=1.6.7-\u003etf-models-official\u003e=2.9.0-\u003edeepconsensus==0.3.0rc1) (4.8)\n",
            "Requirement already satisfied: python-slugify in /usr/local/lib/python3.7/dist-packages (from kaggle\u003e=1.3.9-\u003etf-models-official\u003e=2.9.0-\u003edeepconsensus==0.3.0rc1) (6.1.2)\n",
            "Requirement already satisfied: urllib3 in /usr/local/lib/python3.7/dist-packages (from kaggle\u003e=1.3.9-\u003etf-models-official\u003e=2.9.0-\u003edeepconsensus==0.3.0rc1) (1.24.3)\n",
            "Requirement already satisfied: certifi in /usr/local/lib/python3.7/dist-packages (from kaggle\u003e=1.3.9-\u003etf-models-official\u003e=2.9.0-\u003edeepconsensus==0.3.0rc1) (2022.6.15)\n",
            "Requirement already satisfied: tqdm in /usr/local/lib/python3.7/dist-packages (from kaggle\u003e=1.3.9-\u003etf-models-official\u003e=2.9.0-\u003edeepconsensus==0.3.0rc1) (4.64.0)\n",
            "Requirement already satisfied: pyparsing!=3.0.5,\u003e=2.0.2 in /usr/local/lib/python3.7/dist-packages (from packaging\u003e=14.3-\u003egoogle-api-core\u003c3dev,\u003e=1.21.0-\u003egoogle-api-python-client\u003e=1.6.7-\u003etf-models-official\u003e=2.9.0-\u003edeepconsensus==0.3.0rc1) (3.0.9)\n",
            "Requirement already satisfied: pyasn1\u003c0.5.0,\u003e=0.4.6 in /usr/local/lib/python3.7/dist-packages (from pyasn1-modules\u003e=0.2.1-\u003egoogle-auth\u003c3dev,\u003e=1.16.0-\u003egoogle-api-python-client\u003e=1.6.7-\u003etf-models-official\u003e=2.9.0-\u003edeepconsensus==0.3.0rc1) (0.4.8)\n",
            "Requirement already satisfied: chardet\u003c4,\u003e=3.0.2 in /usr/local/lib/python3.7/dist-packages (from requests\u003c3.0.0dev,\u003e=2.18.0-\u003egoogle-api-core\u003c3dev,\u003e=1.21.0-\u003egoogle-api-python-client\u003e=1.6.7-\u003etf-models-official\u003e=2.9.0-\u003edeepconsensus==0.3.0rc1) (3.0.4)\n",
            "Requirement already satisfied: idna\u003c3,\u003e=2.5 in /usr/local/lib/python3.7/dist-packages (from requests\u003c3.0.0dev,\u003e=2.18.0-\u003egoogle-api-core\u003c3dev,\u003e=1.21.0-\u003egoogle-api-python-client\u003e=1.6.7-\u003etf-models-official\u003e=2.9.0-\u003edeepconsensus==0.3.0rc1) (2.10)\n",
            "Requirement already satisfied: wrapt\u003e=1.11.0 in /usr/local/lib/python3.7/dist-packages (from tensorflow~=2.9.0-\u003etf-models-official\u003e=2.9.0-\u003edeepconsensus==0.3.0rc1) (1.14.1)\n",
            "Requirement already satisfied: termcolor\u003e=1.1.0 in /usr/local/lib/python3.7/dist-packages (from tensorflow~=2.9.0-\u003etf-models-official\u003e=2.9.0-\u003edeepconsensus==0.3.0rc1) (1.1.0)\n",
            "Requirement already satisfied: grpcio\u003c2.0,\u003e=1.24.3 in /usr/local/lib/python3.7/dist-packages (from tensorflow~=2.9.0-\u003etf-models-official\u003e=2.9.0-\u003edeepconsensus==0.3.0rc1) (1.46.3)\n",
            "Collecting gast\u003c=0.4.0,\u003e=0.2.1\n",
            "  Downloading gast-0.4.0-py3-none-any.whl (9.8 kB)\n",
            "Requirement already satisfied: libclang\u003e=13.0.0 in /usr/local/lib/python3.7/dist-packages (from tensorflow~=2.9.0-\u003etf-models-official\u003e=2.9.0-\u003edeepconsensus==0.3.0rc1) (14.0.1)\n",
            "Collecting tensorboard\u003c2.10,\u003e=2.9\n",
            "  Downloading tensorboard-2.9.1-py3-none-any.whl (5.8 MB)\n",
            "\u001b[K     |████████████████████████████████| 5.8 MB 87.3 MB/s \n",
            "\u001b[?25hRequirement already satisfied: h5py\u003e=2.9.0 in /usr/local/lib/python3.7/dist-packages (from tensorflow~=2.9.0-\u003etf-models-official\u003e=2.9.0-\u003edeepconsensus==0.3.0rc1) (3.1.0)\n",
            "Requirement already satisfied: astunparse\u003e=1.6.0 in /usr/local/lib/python3.7/dist-packages (from tensorflow~=2.9.0-\u003etf-models-official\u003e=2.9.0-\u003edeepconsensus==0.3.0rc1) (1.6.3)\n",
            "Requirement already satisfied: tensorflow-io-gcs-filesystem\u003e=0.23.1 in /usr/local/lib/python3.7/dist-packages (from tensorflow~=2.9.0-\u003etf-models-official\u003e=2.9.0-\u003edeepconsensus==0.3.0rc1) (0.26.0)\n",
            "Requirement already satisfied: google-pasta\u003e=0.1.1 in /usr/local/lib/python3.7/dist-packages (from tensorflow~=2.9.0-\u003etf-models-official\u003e=2.9.0-\u003edeepconsensus==0.3.0rc1) (0.2.0)\n",
            "Requirement already satisfied: keras-preprocessing\u003e=1.1.1 in /usr/local/lib/python3.7/dist-packages (from tensorflow~=2.9.0-\u003etf-models-official\u003e=2.9.0-\u003edeepconsensus==0.3.0rc1) (1.1.2)\n",
            "Requirement already satisfied: opt-einsum\u003e=2.3.2 in /usr/local/lib/python3.7/dist-packages (from tensorflow~=2.9.0-\u003etf-models-official\u003e=2.9.0-\u003edeepconsensus==0.3.0rc1) (3.3.0)\n",
            "Requirement already satisfied: typing-extensions\u003e=3.6.6 in /usr/local/lib/python3.7/dist-packages (from tensorflow~=2.9.0-\u003etf-models-official\u003e=2.9.0-\u003edeepconsensus==0.3.0rc1) (4.1.1)\n",
            "Requirement already satisfied: wheel\u003c1.0,\u003e=0.23.0 in /usr/local/lib/python3.7/dist-packages (from astunparse\u003e=1.6.0-\u003etensorflow~=2.9.0-\u003etf-models-official\u003e=2.9.0-\u003edeepconsensus==0.3.0rc1) (0.37.1)\n",
            "Requirement already satisfied: cached-property in /usr/local/lib/python3.7/dist-packages (from h5py\u003e=2.9.0-\u003etensorflow~=2.9.0-\u003etf-models-official\u003e=2.9.0-\u003edeepconsensus==0.3.0rc1) (1.5.2)\n",
            "Requirement already satisfied: tensorboard-data-server\u003c0.7.0,\u003e=0.6.0 in /usr/local/lib/python3.7/dist-packages (from tensorboard\u003c2.10,\u003e=2.9-\u003etensorflow~=2.9.0-\u003etf-models-official\u003e=2.9.0-\u003edeepconsensus==0.3.0rc1) (0.6.1)\n",
            "Requirement already satisfied: tensorboard-plugin-wit\u003e=1.6.0 in /usr/local/lib/python3.7/dist-packages (from tensorboard\u003c2.10,\u003e=2.9-\u003etensorflow~=2.9.0-\u003etf-models-official\u003e=2.9.0-\u003edeepconsensus==0.3.0rc1) (1.8.1)\n",
            "Requirement already satisfied: markdown\u003e=2.6.8 in /usr/local/lib/python3.7/dist-packages (from tensorboard\u003c2.10,\u003e=2.9-\u003etensorflow~=2.9.0-\u003etf-models-official\u003e=2.9.0-\u003edeepconsensus==0.3.0rc1) (3.3.7)\n",
            "Requirement already satisfied: google-auth-oauthlib\u003c0.5,\u003e=0.4.1 in /usr/local/lib/python3.7/dist-packages (from tensorboard\u003c2.10,\u003e=2.9-\u003etensorflow~=2.9.0-\u003etf-models-official\u003e=2.9.0-\u003edeepconsensus==0.3.0rc1) (0.4.6)\n",
            "Requirement already satisfied: werkzeug\u003e=1.0.1 in /usr/local/lib/python3.7/dist-packages (from tensorboard\u003c2.10,\u003e=2.9-\u003etensorflow~=2.9.0-\u003etf-models-official\u003e=2.9.0-\u003edeepconsensus==0.3.0rc1) (1.0.1)\n",
            "Requirement already satisfied: requests-oauthlib\u003e=0.7.0 in /usr/local/lib/python3.7/dist-packages (from google-auth-oauthlib\u003c0.5,\u003e=0.4.1-\u003etensorboard\u003c2.10,\u003e=2.9-\u003etensorflow~=2.9.0-\u003etf-models-official\u003e=2.9.0-\u003edeepconsensus==0.3.0rc1) (1.3.1)\n",
            "Requirement already satisfied: importlib-metadata\u003e=4.4 in /usr/local/lib/python3.7/dist-packages (from markdown\u003e=2.6.8-\u003etensorboard\u003c2.10,\u003e=2.9-\u003etensorflow~=2.9.0-\u003etf-models-official\u003e=2.9.0-\u003edeepconsensus==0.3.0rc1) (4.11.4)\n",
            "Requirement already satisfied: oauthlib\u003e=3.0.0 in /usr/local/lib/python3.7/dist-packages (from requests-oauthlib\u003e=0.7.0-\u003egoogle-auth-oauthlib\u003c0.5,\u003e=0.4.1-\u003etensorboard\u003c2.10,\u003e=2.9-\u003etensorflow~=2.9.0-\u003etf-models-official\u003e=2.9.0-\u003edeepconsensus==0.3.0rc1) (3.2.0)\n",
            "Requirement already satisfied: dm-tree~=0.1.1 in /usr/local/lib/python3.7/dist-packages (from tensorflow-model-optimization\u003e=0.4.1-\u003etf-models-official\u003e=2.9.0-\u003edeepconsensus==0.3.0rc1) (0.1.7)\n",
            "Requirement already satisfied: cycler\u003e=0.10 in /usr/local/lib/python3.7/dist-packages (from matplotlib-\u003etf-models-official\u003e=2.9.0-\u003edeepconsensus==0.3.0rc1) (0.11.0)\n",
            "Requirement already satisfied: kiwisolver\u003e=1.0.1 in /usr/local/lib/python3.7/dist-packages (from matplotlib-\u003etf-models-official\u003e=2.9.0-\u003edeepconsensus==0.3.0rc1) (1.4.3)\n",
            "Requirement already satisfied: text-unidecode\u003e=1.3 in /usr/local/lib/python3.7/dist-packages (from python-slugify-\u003ekaggle\u003e=1.3.9-\u003etf-models-official\u003e=2.9.0-\u003edeepconsensus==0.3.0rc1) (1.3)\n",
            "Requirement already satisfied: regex in /usr/local/lib/python3.7/dist-packages (from sacrebleu-\u003etf-models-official\u003e=2.9.0-\u003edeepconsensus==0.3.0rc1) (2022.6.2)\n",
            "Requirement already satisfied: tabulate\u003e=0.8.9 in /usr/local/lib/python3.7/dist-packages (from sacrebleu-\u003etf-models-official\u003e=2.9.0-\u003edeepconsensus==0.3.0rc1) (0.8.9)\n",
            "Collecting colorama\n",
            "  Downloading colorama-0.4.5-py2.py3-none-any.whl (16 kB)\n",
            "Collecting portalocker\n",
            "  Downloading portalocker-2.4.0-py2.py3-none-any.whl (16 kB)\n",
            "Requirement already satisfied: scikit-learn\u003e=0.21.3 in /usr/local/lib/python3.7/dist-packages (from seqeval-\u003etf-models-official\u003e=2.9.0-\u003edeepconsensus==0.3.0rc1) (1.0.2)\n",
            "Requirement already satisfied: joblib\u003e=0.11 in /usr/local/lib/python3.7/dist-packages (from scikit-learn\u003e=0.21.3-\u003eseqeval-\u003etf-models-official\u003e=2.9.0-\u003edeepconsensus==0.3.0rc1) (1.1.0)\n",
            "Requirement already satisfied: threadpoolctl\u003e=2.0.0 in /usr/local/lib/python3.7/dist-packages (from scikit-learn\u003e=0.21.3-\u003eseqeval-\u003etf-models-official\u003e=2.9.0-\u003edeepconsensus==0.3.0rc1) (3.1.0)\n",
            "Requirement already satisfied: typeguard\u003e=2.7 in /usr/local/lib/python3.7/dist-packages (from tensorflow-addons-\u003etf-models-official\u003e=2.9.0-\u003edeepconsensus==0.3.0rc1) (2.7.1)\n",
            "Requirement already satisfied: promise in /usr/local/lib/python3.7/dist-packages (from tensorflow-datasets-\u003etf-models-official\u003e=2.9.0-\u003edeepconsensus==0.3.0rc1) (2.3)\n",
            "Requirement already satisfied: tensorflow-metadata in /usr/local/lib/python3.7/dist-packages (from tensorflow-datasets-\u003etf-models-official\u003e=2.9.0-\u003edeepconsensus==0.3.0rc1) (1.8.0)\n",
            "Requirement already satisfied: dill in /usr/local/lib/python3.7/dist-packages (from tensorflow-datasets-\u003etf-models-official\u003e=2.9.0-\u003edeepconsensus==0.3.0rc1) (0.3.5.1)\n",
            "Requirement already satisfied: importlib-resources in /usr/local/lib/python3.7/dist-packages (from tensorflow-datasets-\u003etf-models-official\u003e=2.9.0-\u003edeepconsensus==0.3.0rc1) (5.7.1)\n",
            "Requirement already satisfied: attrs\u003e=18.1.0 in /usr/local/lib/python3.7/dist-packages (from tensorflow-datasets-\u003etf-models-official\u003e=2.9.0-\u003edeepconsensus==0.3.0rc1) (21.4.0)\n",
            "Requirement already satisfied: future in /usr/local/lib/python3.7/dist-packages (from tensorflow-datasets-\u003etf-models-official\u003e=2.9.0-\u003edeepconsensus==0.3.0rc1) (0.16.0)\n",
            "Collecting pbr\u003e=1.8\n",
            "  Downloading pbr-5.9.0-py2.py3-none-any.whl (112 kB)\n",
            "\u001b[K     |████████████████████████████████| 112 kB 77.1 MB/s \n",
            "\u001b[?25hBuilding wheels for collected packages: ml-collections, py-cpuinfo, seqeval\n",
            "  Building wheel for ml-collections (setup.py) ... \u001b[?25l\u001b[?25hdone\n",
            "  Created wheel for ml-collections: filename=ml_collections-0.1.1-py3-none-any.whl size=94524 sha256=c3a2f903686ae6bf9bd561c73316b7d725f92fadaba499df74bc2daebec5b280\n",
            "  Stored in directory: /root/.cache/pip/wheels/b7/da/64/33c926a1b10ff19791081b705879561b715a8341a856a3bbd2\n",
            "  Building wheel for py-cpuinfo (setup.py) ... \u001b[?25l\u001b[?25hdone\n",
            "  Created wheel for py-cpuinfo: filename=py_cpuinfo-8.0.0-py3-none-any.whl size=22257 sha256=e577e33140d573cf7994f5cff1ba8039c5c409825399c220baef963cae7b4855\n",
            "  Stored in directory: /root/.cache/pip/wheels/d2/f1/1f/041add21dc9c4220157f1bd2bd6afe1f1a49524c3396b94401\n",
            "  Building wheel for seqeval (setup.py) ... \u001b[?25l\u001b[?25hdone\n",
            "  Created wheel for seqeval: filename=seqeval-1.2.2-py3-none-any.whl size=16180 sha256=993ba6a2a369e3c3a6417d8b09da9fbc871532c53af24f0766d245dabaab3f4f\n",
            "  Stored in directory: /root/.cache/pip/wheels/05/96/ee/7cac4e74f3b19e3158dce26a20a1c86b3533c43ec72a549fd7\n",
            "Successfully built ml-collections py-cpuinfo seqeval\n",
            "Installing collected packages: tensorflow-estimator, tensorboard, keras, gast, flatbuffers, tensorflow, portalocker, colorama, tf-slim, tensorflow-text, tensorflow-model-optimization, tensorflow-addons, seqeval, sentencepiece, sacrebleu, PyYAML, py-cpuinfo, pbr, opencv-python-headless, tf-models-official, testresources, pysam, ml-collections, deepconsensus\n",
            "  Attempting uninstall: tensorflow-estimator\n",
            "    Found existing installation: tensorflow-estimator 2.8.0\n",
            "    Uninstalling tensorflow-estimator-2.8.0:\n",
            "      Successfully uninstalled tensorflow-estimator-2.8.0\n",
            "  Attempting uninstall: tensorboard\n",
            "    Found existing installation: tensorboard 2.8.0\n",
            "    Uninstalling tensorboard-2.8.0:\n",
            "      Successfully uninstalled tensorboard-2.8.0\n",
            "  Attempting uninstall: keras\n",
            "    Found existing installation: keras 2.8.0\n",
            "    Uninstalling keras-2.8.0:\n",
            "      Successfully uninstalled keras-2.8.0\n",
            "  Attempting uninstall: gast\n",
            "    Found existing installation: gast 0.5.3\n",
            "    Uninstalling gast-0.5.3:\n",
            "      Successfully uninstalled gast-0.5.3\n",
            "  Attempting uninstall: flatbuffers\n",
            "    Found existing installation: flatbuffers 2.0\n",
            "    Uninstalling flatbuffers-2.0:\n",
            "      Successfully uninstalled flatbuffers-2.0\n",
            "  Attempting uninstall: tensorflow\n",
            "    Found existing installation: tensorflow 2.8.2+zzzcolab20220527125636\n",
            "    Uninstalling tensorflow-2.8.2+zzzcolab20220527125636:\n",
            "      Successfully uninstalled tensorflow-2.8.2+zzzcolab20220527125636\n",
            "  Attempting uninstall: PyYAML\n",
            "    Found existing installation: PyYAML 3.13\n",
            "    Uninstalling PyYAML-3.13:\n",
            "      Successfully uninstalled PyYAML-3.13\n",
            "Successfully installed PyYAML-5.4.1 colorama-0.4.5 deepconsensus-0.3.0rc1 flatbuffers-1.12 gast-0.4.0 keras-2.9.0 ml-collections-0.1.1 opencv-python-headless-4.6.0.66 pbr-5.9.0 portalocker-2.4.0 py-cpuinfo-8.0.0 pysam-0.19.0 sacrebleu-2.1.0 sentencepiece-0.1.96 seqeval-1.2.2 tensorboard-2.9.1 tensorflow-2.9.1 tensorflow-addons-0.17.1 tensorflow-estimator-2.9.0 tensorflow-model-optimization-0.7.2 tensorflow-text-2.9.0 testresources-2.0.1 tf-models-official-2.9.2 tf-slim-1.1.0\n"
          ]
        },
        {
          "data": {
            "application/vnd.colab-display-data+json": {
              "pip_warning": {
                "packages": [
                  "flatbuffers",
                  "gast",
                  "keras",
                  "tensorboard",
                  "tensorflow"
                ]
              }
            }
          },
          "metadata": {},
          "output_type": "display_data"
        }
      ],
      "source": [
        "! pip install deepconsensus==0.3.0"
      ]
    },
    {
      "cell_type": "code",
      "execution_count": null,
      "metadata": {
        "colab": {
          "base_uri": "https://localhost:8080/"
        },
        "id": "XvW2wgmYSxm_",
        "outputId": "a8e20c21-083f-4c59-dd44-2334732139d8"
      },
      "outputs": [
        {
          "name": "stdout",
          "output_type": "stream",
          "text": [
            "Looking in indexes: https://pypi.org/simple, https://us-python.pkg.dev/colab-wheels/public/simple/\n",
            "Collecting google-nucleus==0.5.9\n",
            "  Downloading google_nucleus-0.5.9.tar.gz (7.4 MB)\n",
            "\u001b[K     |████████████████████████████████| 7.4 MB 1.0 MB/s \n",
            "\u001b[?25hRequirement already satisfied: contextlib2 in /usr/local/lib/python3.7/dist-packages (from google-nucleus==0.5.9) (0.5.5)\n",
            "Requirement already satisfied: intervaltree in /usr/local/lib/python3.7/dist-packages (from google-nucleus==0.5.9) (2.1.0)\n",
            "Requirement already satisfied: absl-py in /usr/local/lib/python3.7/dist-packages (from google-nucleus==0.5.9) (1.1.0)\n",
            "Collecting mock\n",
            "  Downloading mock-4.0.3-py3-none-any.whl (28 kB)\n",
            "Requirement already satisfied: numpy in /usr/local/lib/python3.7/dist-packages (from google-nucleus==0.5.9) (1.21.6)\n",
            "Requirement already satisfied: six in /usr/local/lib/python3.7/dist-packages (from google-nucleus==0.5.9) (1.15.0)\n",
            "Requirement already satisfied: protobuf in /usr/local/lib/python3.7/dist-packages (from google-nucleus==0.5.9) (3.17.3)\n",
            "Requirement already satisfied: Pillow in /usr/local/lib/python3.7/dist-packages (from google-nucleus==0.5.9) (7.1.2)\n",
            "Requirement already satisfied: ipython in /usr/local/lib/python3.7/dist-packages (from google-nucleus==0.5.9) (5.5.0)\n",
            "Requirement already satisfied: sortedcontainers in /usr/local/lib/python3.7/dist-packages (from intervaltree-\u003egoogle-nucleus==0.5.9) (2.4.0)\n",
            "Requirement already satisfied: prompt-toolkit\u003c2.0.0,\u003e=1.0.4 in /usr/local/lib/python3.7/dist-packages (from ipython-\u003egoogle-nucleus==0.5.9) (1.0.18)\n",
            "Requirement already satisfied: decorator in /usr/local/lib/python3.7/dist-packages (from ipython-\u003egoogle-nucleus==0.5.9) (4.4.2)\n",
            "Requirement already satisfied: pickleshare in /usr/local/lib/python3.7/dist-packages (from ipython-\u003egoogle-nucleus==0.5.9) (0.7.5)\n",
            "Requirement already satisfied: traitlets\u003e=4.2 in /usr/local/lib/python3.7/dist-packages (from ipython-\u003egoogle-nucleus==0.5.9) (5.1.1)\n",
            "Requirement already satisfied: simplegeneric\u003e0.8 in /usr/local/lib/python3.7/dist-packages (from ipython-\u003egoogle-nucleus==0.5.9) (0.8.1)\n",
            "Requirement already satisfied: pexpect in /usr/local/lib/python3.7/dist-packages (from ipython-\u003egoogle-nucleus==0.5.9) (4.8.0)\n",
            "Requirement already satisfied: setuptools\u003e=18.5 in /usr/local/lib/python3.7/dist-packages (from ipython-\u003egoogle-nucleus==0.5.9) (57.4.0)\n",
            "Requirement already satisfied: pygments in /usr/local/lib/python3.7/dist-packages (from ipython-\u003egoogle-nucleus==0.5.9) (2.6.1)\n",
            "Requirement already satisfied: wcwidth in /usr/local/lib/python3.7/dist-packages (from prompt-toolkit\u003c2.0.0,\u003e=1.0.4-\u003eipython-\u003egoogle-nucleus==0.5.9) (0.2.5)\n",
            "Requirement already satisfied: ptyprocess\u003e=0.5 in /usr/local/lib/python3.7/dist-packages (from pexpect-\u003eipython-\u003egoogle-nucleus==0.5.9) (0.7.0)\n",
            "Building wheels for collected packages: google-nucleus\n",
            "  Building wheel for google-nucleus (setup.py) ... \u001b[?25lerror\n",
            "\u001b[31m  ERROR: Failed building wheel for google-nucleus\u001b[0m\n",
            "\u001b[?25h  Running setup.py clean for google-nucleus\n",
            "Failed to build google-nucleus\n",
            "Installing collected packages: mock, google-nucleus\n",
            "    Running setup.py install for google-nucleus ... \u001b[?25l\u001b[?25hdone\n",
            "\u001b[33m  DEPRECATION: google-nucleus was installed using the legacy 'setup.py install' method, because a wheel could not be built for it. A possible replacement is to fix the wheel build issue reported above. You can find discussion regarding this at https://github.com/pypa/pip/issues/8368.\u001b[0m\n",
            "Successfully installed google-nucleus-0.5.9 mock-4.0.3\n",
            "Looking in indexes: https://pypi.org/simple, https://us-python.pkg.dev/colab-wheels/public/simple/\n",
            "Requirement already satisfied: colorama in /usr/local/lib/python3.7/dist-packages (0.4.5)\n"
          ]
        }
      ],
      "source": [
        "# This will say \"ERROR: Failed building wheel for google-nucleus\", but that is fine, Nucleus will still work.\n",
        "! pip install google-nucleus==0.5.9  # for visualization only\n",
        "! pip install colorama"
      ]
    },
    {
      "cell_type": "code",
      "execution_count": null,
      "metadata": {
        "id": "-8acrGN0gO3r"
      },
      "outputs": [],
      "source": [
        "import colorama\n",
        "import numpy as np\n",
        "import random\n",
        "from deepconsensus.models import model_configs\n",
        "from deepconsensus.models import model_utils\n",
        "from deepconsensus.models import data_providers\n",
        "from deepconsensus.utils import dc_constants\n",
        "from nucleus.util import vis"
      ]
    },
    {
      "cell_type": "markdown",
      "metadata": {
        "id": "JeEhJhdjz-L9"
      },
      "source": [
        "## Define some useful visualization utilities"
      ]
    },
    {
      "cell_type": "code",
      "execution_count": null,
      "metadata": {
        "id": "eaNmK2KvDQu4"
      },
      "outputs": [],
      "source": [
        "def show_rows_for_one_example(rows, max_passes=20):\n",
        "  \"\"\"Break out the black/white matrix into subreads, ccs, PW, IP, etc.\n",
        "\n",
        "  For each of `max_subreads`, we have four pieces of information: bases, PW, IP,\n",
        "  and strand. We also have one row for CCS, and four rows for SN (in that\n",
        "  order).\n",
        "  The information is structured as follows:\n",
        "  Bases: rows 0 to  (params.max_passes - 1)\n",
        "  PW: rows (params.max_passes) to (params.max_passes * 2 - 1)\n",
        "  IP: rows (params.max_passes * 2) to (params.max_passes * 3 - 1)\n",
        "  Strand: rows (params.max_passes * 3) to (params.max_passes * 4 - 1)\n",
        "  CCS+SN: rows (params.max_passes * 4) to (params.max_passes * 4 + 5)\n",
        "  \"\"\"\n",
        "  print('bases:')\n",
        "  vis.array_to_png(rows[0:max_passes])\n",
        "  print('PW: pulse-width')\n",
        "  pw = rows[max_passes:max_passes*2]\n",
        "  vis.array_to_png(pw)\n",
        "  print('IP: inter-pulse duration')\n",
        "  ip = rows[max_passes*2:max_passes*3]\n",
        "  vis.array_to_png(ip)\n",
        "\n",
        "  print('Strand:')\n",
        "  vis.array_to_png(rows[max_passes*3:-5])\n",
        "\n",
        "  print('CCS:')\n",
        "  ccs = rows[-5:-4]\n",
        "  vis.array_to_png(ccs)\n",
        "  print('SN:')\n",
        "  sn = rows[-4:]\n",
        "  vis.array_to_png(sn)"
      ]
    },
    {
      "cell_type": "code",
      "execution_count": null,
      "metadata": {
        "id": "I6JvBvGDz__7"
      },
      "outputs": [],
      "source": [
        "def encoded_sequence_to_string(encoded_sequence):\n",
        "  \"\"\"Convert an encoded sequence (a series of integers) to a DNA string.\"\"\"\n",
        "  return ''.join([dc_constants.VOCAB[int(base)] for base in encoded_sequence])\n",
        "\n",
        "\n",
        "def get_ccs_matrix(rows_for_one_example):\n",
        "  \"\"\"Slice the encoded CCS out of the 2d rows matrix of one example.\"\"\"\n",
        "  return rows_for_one_example[-5, :]\n",
        "\n",
        "\n",
        "def get_ccs_seq(rows_for_one_example):\n",
        "  \"\"\"Get CCS string out of the 2d rows matrix of one example.\"\"\"\n",
        "  return encoded_sequence_to_string(get_ccs_matrix(rows_for_one_example))\n",
        "\n",
        "\n",
        "def colorful(seq):\n",
        "  \"\"\"Add colors to a sequence of DNA.\"\"\"\n",
        "  fore = colorama.Fore\n",
        "  background = colorama.Back\n",
        "  colors = {\n",
        "      'A': fore.GREEN,\n",
        "      'C': fore.BLUE,\n",
        "      'G': fore.YELLOW,\n",
        "      'T': fore.RED,\n",
        "      dc_constants.GAP_OR_PAD: background.WHITE\n",
        "  }\n",
        "  reset = fore.BLACK + background.RESET\n",
        "  colored_seq = [f'{colors.get(base, reset)}{base}{reset}' for base in seq]\n",
        "  return ''.join(colored_seq)\n",
        "\n",
        "\n",
        "def show_example(batch, example_i, ypreds=None, max_passes=20):\n",
        "  \"\"\"Show an example with subreads, ccs, predictions, and labels.\"\"\"\n",
        "  batch_size = batch['rows'].shape[0]\n",
        "  rows = batch['rows'][example_i, :, :, 0]\n",
        "  ccs_i = get_ccs_seq(rows)\n",
        "  print(f'Example: {example_i} of {batch_size} (batch)')\n",
        "  print('How the sequences are represented for the model:')\n",
        "  subreads = rows[0:max_passes, :]\n",
        "  for subread_i in range(len(subreads)):\n",
        "    print(f'Subread {subread_i + 1}\\t',\n",
        "          colorful(encoded_sequence_to_string(subreads[subread_i, :])))\n",
        "  print('ccs:\\t\\t', colorful(ccs_i))\n",
        "  if ypreds is not None:\n",
        "    predicted_sequence = encoded_sequence_to_string(ypreds[example_i])\n",
        "    print('prediction:\\t', colorful(predicted_sequence))\n",
        "  if 'label' in batch:\n",
        "    label = encoded_sequence_to_string(batch['label'][example_i])\n",
        "    print('label:\\t\\t', colorful(label))\n",
        "  print('\\n')\n"
      ]
    },
    {
      "cell_type": "markdown",
      "metadata": {
        "id": "9ud2PAKoRkPQ"
      },
      "source": [
        "## Load the model"
      ]
    },
    {
      "cell_type": "code",
      "execution_count": null,
      "metadata": {
        "colab": {
          "base_uri": "https://localhost:8080/"
        },
        "id": "qSChLKTvJbbT",
        "outputId": "125be964-06de-468d-fdfb-a93c4fa1c4b6"
      },
      "outputs": [
        {
          "name": "stdout",
          "output_type": "stream",
          "text": [
            "Copying gs://brain-genomics-public/research/deepconsensus/models/v0.3/params.json...\n",
            "Copying gs://brain-genomics-public/research/deepconsensus/models/v0.3/saved_model.pb...\n",
            "Copying gs://brain-genomics-public/research/deepconsensus/models/v0.3/variables/variables.data-00000-of-00001...\n",
            "Copying gs://brain-genomics-public/research/deepconsensus/models/v0.3/variables/variables.index...\n",
            "- [4 files][ 38.2 MiB/ 38.2 MiB]                                                \n",
            "Operation completed over 4 objects/38.2 MiB.                                     \n"
          ]
        }
      ],
      "source": [
        "! mkdir deepconsensus_model\n",
        "! gsutil cp -r gs://brain-genomics-public/research/deepconsensus/models/v0.3/* deepconsensus_model/"
      ]
    },
    {
      "cell_type": "code",
      "execution_count": null,
      "metadata": {
        "colab": {
          "base_uri": "https://localhost:8080/"
        },
        "id": "yAUgY-yNKf0-",
        "outputId": "6b2aa940-6a03-4707-dd92-154ffcbcb822"
      },
      "outputs": [
        {
          "name": "stdout",
          "output_type": "stream",
          "text": [
            "Copying gs://brain-genomics-public/research/deepconsensus/test_data/v0.3/tf-test-00001-of-00500.tfrecord.gz...\n",
            "\\ [1 files][122.4 MiB/122.4 MiB]                                                \n",
            "Operation completed over 1 objects/122.4 MiB.                                    \n"
          ]
        }
      ],
      "source": [
        "! gsutil cp gs://brain-genomics-public/research/deepconsensus/test_data/v0.3/tf-test-00001-of-00500.tfrecord.gz ./tf-test.tfrecord.gz"
      ]
    },
    {
      "cell_type": "code",
      "execution_count": null,
      "metadata": {
        "colab": {
          "base_uri": "https://localhost:8080/"
        },
        "id": "4j-SQrmrKOeB",
        "outputId": "e5eb804c-22a9-4d96-8b35-71a3d8957509"
      },
      "outputs": [
        {
          "data": {
            "text/plain": [
              "\u003ctensorflow.python.saved_model.load.Loader._recreate_base_user_object.\u003clocals\u003e._UserObject at 0x7f937f304c90\u003e"
            ]
          },
          "execution_count": 9,
          "metadata": {},
          "output_type": "execute_result"
        }
      ],
      "source": [
        "saved_model_path = 'deepconsensus_model/'\n",
        "model = tf.saved_model.load(saved_model_path)\n",
        "params = model_utils.read_params_from_json(checkpoint_path=saved_model_path)\n",
        "model"
      ]
    },
    {
      "cell_type": "markdown",
      "metadata": {
        "id": "q9l_un5cE7la"
      },
      "source": [
        "# Load examples from tfrecords"
      ]
    },
    {
      "cell_type": "code",
      "execution_count": null,
      "metadata": {
        "colab": {
          "base_uri": "https://localhost:8080/"
        },
        "id": "5LofUAISLJCk",
        "outputId": "8fccbe53-8127-4ecf-f008-7e4918aa14c4"
      },
      "outputs": [
        {
          "name": "stdout",
          "output_type": "stream",
          "text": [
            "name.shape: (20, 1)\n",
            "label.shape: (20, 120)\n",
            "rows.shape: (20, 85, 120, 1)\n",
            "num_passes.shape: (20, 1)\n",
            "window_pos.shape: (20, 1)\n"
          ]
        }
      ],
      "source": [
        "tfrecord_path = 'tf-test.tfrecord.gz'\n",
        "\n",
        "# Number of examples:\n",
        "batch_size = 20  #@param\n",
        "\n",
        "ds = data_providers.get_dataset(tfrecord_path,\n",
        "                                num_epochs=None,\n",
        "                                batch_size=batch_size,\n",
        "                                params=params,\n",
        "                                inference=False)\n",
        "\n",
        "# Just get one batch to inspect:\n",
        "for batch in ds.take(1):\n",
        "  break\n",
        "\n",
        "keys = ['name', 'label', 'rows', 'num_passes', 'window_pos']\n",
        "for key in keys:\n",
        "  print(f'{key}.shape: {batch[key].shape}')"
      ]
    },
    {
      "cell_type": "markdown",
      "metadata": {
        "id": "PNQh8unFFBY3"
      },
      "source": [
        "## Visualize the rows of one example. This is what the model sees.\n",
        "\n",
        "Rows is of shape `[batch_size, input_size, length, 1]`.\n",
        "\n",
        "So when we take `rows[example_i,:,:,0]`, that is one example in the batch, and we get a 2D matrix (getting rid of the last dimension that was only a placeholder for model code)."
      ]
    },
    {
      "cell_type": "code",
      "execution_count": null,
      "metadata": {
        "colab": {
          "base_uri": "https://localhost:8080/",
          "height": 444
        },
        "id": "z_UtiU_a3K7b",
        "outputId": "835f7779-dbf3-491f-f05a-e65c66c111f3"
      },
      "outputs": [
        {
          "name": "stdout",
          "output_type": "stream",
          "text": [
            "Example: 9 of 20 (batch)\n",
            "ZMW: b'm64062_190803_042216/394059/ccs'\n",
            "window_pos: 5326 bp (where example starts within the CCS read)\n",
            "num_passes: 5 subreads\n",
            "What the model sees:\n"
          ]
        },
        {
          "data": {
            "image/png": "[encoded data removed]",
            "text/plain": [
              "\u003cIPython.core.display.Image object\u003e"
            ]
          },
          "metadata": {},
          "output_type": "display_data"
        }
      ],
      "source": [
        "example_i = int(random.random() * batch_size)\n",
        "\n",
        "print(f'Example: {example_i} of {batch_size} (batch)')\n",
        "print('ZMW:', batch['name'][example_i].numpy()[0])\n",
        "print('window_pos:', int(batch['window_pos'][example_i].numpy()), 'bp (where example starts within the CCS read)')\n",
        "print('num_passes:', int(batch['num_passes'][example_i]), 'subreads')\n",
        "print('What the model sees:')\n",
        "vis.array_to_png(batch['rows'][example_i,:,:,0])"
      ]
    },
    {
      "cell_type": "markdown",
      "metadata": {
        "id": "vwMpZP4EFKbF"
      },
      "source": [
        "### Let's break that down\n",
        "\n",
        "Each matrix is composed of multiple data types layered in rows. The bases, pulse-width, inter-pulse duration, and strand are per-subread, up to the max number of subreads (this is in params.max_passes, which as of DeepConsensus v0.3 is 20). The input also contains a draft circular consensus sequence (CCS) from PacBio and the signal-to-noise ratio (SN)."
      ]
    },
    {
      "cell_type": "code",
      "execution_count": null,
      "metadata": {
        "colab": {
          "base_uri": "https://localhost:8080/",
          "height": 493
        },
        "id": "o_n_pl8N6kmL",
        "outputId": "11de13fc-ac39-4fd6-a8ae-07dce956ff83"
      },
      "outputs": [
        {
          "name": "stdout",
          "output_type": "stream",
          "text": [
            "Example: 9 of 20 (batch)\n",
            "bases:\n"
          ]
        },
        {
          "data": {
            "image/png": "[encoded data removed]",
            "text/plain": [
              "\u003cIPython.core.display.Image object\u003e"
            ]
          },
          "metadata": {},
          "output_type": "display_data"
        },
        {
          "name": "stdout",
          "output_type": "stream",
          "text": [
            "PW: pulse-width\n"
          ]
        },
        {
          "data": {
            "image/png": "[encoded data removed]",
            "text/plain": [
              "\u003cIPython.core.display.Image object\u003e"
            ]
          },
          "metadata": {},
          "output_type": "display_data"
        },
        {
          "name": "stdout",
          "output_type": "stream",
          "text": [
            "IP: inter-pulse duration\n"
          ]
        },
        {
          "data": {
            "image/png": "[encoded data removed]",
            "text/plain": [
              "\u003cIPython.core.display.Image object\u003e"
            ]
          },
          "metadata": {},
          "output_type": "display_data"
        },
        {
          "name": "stdout",
          "output_type": "stream",
          "text": [
            "Strand:\n"
          ]
        },
        {
          "data": {
            "image/png": "[encoded data removed]",
            "text/plain": [
              "\u003cIPython.core.display.Image object\u003e"
            ]
          },
          "metadata": {},
          "output_type": "display_data"
        },
        {
          "name": "stdout",
          "output_type": "stream",
          "text": [
            "CCS:\n"
          ]
        },
        {
          "data": {
            "image/png": "[encoded data removed]",
            "text/plain": [
              "\u003cIPython.core.display.Image object\u003e"
            ]
          },
          "metadata": {},
          "output_type": "display_data"
        },
        {
          "name": "stdout",
          "output_type": "stream",
          "text": [
            "SN:\n"
          ]
        },
        {
          "data": {
            "image/png": "[encoded data removed]",
            "text/plain": [
              "\u003cIPython.core.display.Image object\u003e"
            ]
          },
          "metadata": {},
          "output_type": "display_data"
        }
      ],
      "source": [
        "print(f'Example: {example_i} of {batch_size} (batch)')\n",
        "show_rows_for_one_example(rows=batch['rows'][example_i,:,:,0])"
      ]
    },
    {
      "cell_type": "markdown",
      "metadata": {
        "id": "E1bfS54qJmKS"
      },
      "source": [
        "# Run the model\n",
        "\n",
        "Run the model on `rows`, which is the input data for the model that we visualized above."
      ]
    },
    {
      "cell_type": "code",
      "execution_count": null,
      "metadata": {
        "colab": {
          "base_uri": "https://localhost:8080/"
        },
        "id": "PhZ9e3c4Ev_q",
        "outputId": "48760826-cdf4-4097-b15b-0ba7b4d0a4bb"
      },
      "outputs": [
        {
          "name": "stdout",
          "output_type": "stream",
          "text": [
            "(20, 120, 5)\n"
          ]
        }
      ],
      "source": [
        "softmax_output = model.signatures['serving_default'](batch['rows'])\n",
        "softmax_output = softmax_output['output_1'].numpy()\n",
        "print(softmax_output.shape)"
      ]
    },
    {
      "cell_type": "code",
      "execution_count": null,
      "metadata": {
        "colab": {
          "base_uri": "https://localhost:8080/"
        },
        "id": "1fUdN5Qk4BqR",
        "outputId": "b23a8190-2219-4e2f-eb3c-b6ee5c2ea980"
      },
      "outputs": [
        {
          "name": "stdout",
          "output_type": "stream",
          "text": [
            "(20, 120)\n"
          ]
        }
      ],
      "source": [
        "y_preds = np.argmax(softmax_output, -1)\n",
        "print(y_preds.shape)"
      ]
    },
    {
      "cell_type": "markdown",
      "metadata": {
        "id": "ubbKa3ohHnNU"
      },
      "source": [
        "### Interpreting y_preds output"
      ]
    },
    {
      "cell_type": "code",
      "execution_count": null,
      "metadata": {
        "colab": {
          "base_uri": "https://localhost:8080/"
        },
        "id": "Ccsv4-2tGY_B",
        "outputId": "a53ab23c-f088-419e-e72e-c15d4c5beb74"
      },
      "outputs": [
        {
          "name": "stdout",
          "output_type": "stream",
          "text": [
            "Prediction for example 9:\n",
            "[0 1 4 1 3 3 3 2 4 2 3 2 3 1 4 1 1 0 0 1 1 1 1 1 1 1 1 1 1 1 2 2 3 1 1 1 0\n",
            " 1 1 1 2 2 2 4 4 3 3 1 4 4 3 4 2 4 4 2 4 4 3 2 3 1 3 4 3 3 2 0 4 2 1 1 0 2\n",
            " 3 3 3 1 2 3 1 3 2 2 2 4 4 1 1 4 4 3 3 4 1 4 4 3 4 4 0 0 0 0 0 0 0 0 0 0 0\n",
            " 0 0 0 0 0 0 0 0 0]\n",
            "Which translates to:\n",
            " AGACCCTGTCTCAGAA  AAAAAAAAAAATTCAAA AAATTTGGCCAGGCGTGGTGGCTCACGCCT GTAA TCCCATCACTTTGGAAGGCCGAGGCGG                    \n"
          ]
        }
      ],
      "source": [
        "prediction = y_preds[example_i]\n",
        "print(f'Prediction for example {example_i}:')\n",
        "print(prediction)\n",
        "print('Which translates to:')\n",
        "print(encoded_sequence_to_string(prediction))"
      ]
    },
    {
      "cell_type": "code",
      "execution_count": null,
      "metadata": {
        "colab": {
          "base_uri": "https://localhost:8080/"
        },
        "id": "aev-USdKHido",
        "outputId": "895ec8e1-c0ce-4f0d-dbf4-a6d3a6296585"
      },
      "outputs": [
        {
          "name": "stdout",
          "output_type": "stream",
          "text": [
            "For reference, the alphabet is:\n",
            "0 -\u003e \" \"\n",
            "1 -\u003e \"A\"\n",
            "2 -\u003e \"T\"\n",
            "3 -\u003e \"C\"\n",
            "4 -\u003e \"G\"\n"
          ]
        }
      ],
      "source": [
        "print('For reference, the alphabet is:')\n",
        "print('\\n'.join([f'{i} -\u003e \"{s}\"' for i,s in enumerate(dc_constants.VOCAB)]))"
      ]
    },
    {
      "cell_type": "markdown",
      "metadata": {
        "id": "-h8WSfZ1xNB8"
      },
      "source": [
        "# Visualize example sequences alongside prediction and label"
      ]
    },
    {
      "cell_type": "code",
      "execution_count": null,
      "metadata": {
        "colab": {
          "base_uri": "https://localhost:8080/"
        },
        "id": "575Hy7n-xTZS",
        "outputId": "cc4fbd76-5f4d-4828-a874-78df72359ec8"
      },
      "outputs": [
        {
          "name": "stdout",
          "output_type": "stream",
          "text": [
            "Example: 9 of 20 (batch)\n",
            "How the sequences are represented for the model:\n",
            "Subread 1\t \u001b[47m \u001b[30m\u001b[49m\u001b[47m \u001b[30m\u001b[49m\u001b[47m \u001b[30m\u001b[49m\u001b[47m \u001b[30m\u001b[49m\u001b[47m \u001b[30m\u001b[49m\u001b[47m \u001b[30m\u001b[49m\u001b[47m \u001b[30m\u001b[49m\u001b[47m \u001b[30m\u001b[49m\u001b[47m \u001b[30m\u001b[49m\u001b[47m \u001b[30m\u001b[49m\u001b[47m \u001b[30m\u001b[49m\u001b[47m \u001b[30m\u001b[49m\u001b[47m \u001b[30m\u001b[49m\u001b[47m \u001b[30m\u001b[49m\u001b[47m \u001b[30m\u001b[49m\u001b[47m \u001b[30m\u001b[49m\u001b[47m \u001b[30m\u001b[49m\u001b[47m \u001b[30m\u001b[49m\u001b[47m \u001b[30m\u001b[49m\u001b[47m \u001b[30m\u001b[49m\u001b[47m \u001b[30m\u001b[49m\u001b[47m \u001b[30m\u001b[49m\u001b[47m \u001b[30m\u001b[49m\u001b[47m \u001b[30m\u001b[49m\u001b[47m \u001b[30m\u001b[49m\u001b[47m \u001b[30m\u001b[49m\u001b[47m \u001b[30m\u001b[49m\u001b[47m \u001b[30m\u001b[49m\u001b[47m \u001b[30m\u001b[49m\u001b[47m \u001b[30m\u001b[49m\u001b[47m \u001b[30m\u001b[49m\u001b[47m \u001b[30m\u001b[49m\u001b[47m \u001b[30m\u001b[49m\u001b[47m \u001b[30m\u001b[49m\u001b[47m \u001b[30m\u001b[49m\u001b[47m \u001b[30m\u001b[49m\u001b[47m \u001b[30m\u001b[49m\u001b[47m \u001b[30m\u001b[49m\u001b[47m \u001b[30m\u001b[49m\u001b[47m \u001b[30m\u001b[49m\u001b[47m \u001b[30m\u001b[49m\u001b[47m \u001b[30m\u001b[49m\u001b[47m \u001b[30m\u001b[49m\u001b[47m \u001b[30m\u001b[49m\u001b[47m \u001b[30m\u001b[49m\u001b[47m \u001b[30m\u001b[49m\u001b[47m \u001b[30m\u001b[49m\u001b[47m \u001b[30m\u001b[49m\u001b[47m \u001b[30m\u001b[49m\u001b[47m \u001b[30m\u001b[49m\u001b[47m \u001b[30m\u001b[49m\u001b[47m \u001b[30m\u001b[49m\u001b[47m \u001b[30m\u001b[49m\u001b[47m \u001b[30m\u001b[49m\u001b[47m \u001b[30m\u001b[49m\u001b[47m \u001b[30m\u001b[49m\u001b[47m \u001b[30m\u001b[49m\u001b[47m \u001b[30m\u001b[49m\u001b[47m \u001b[30m\u001b[49m\u001b[47m \u001b[30m\u001b[49m\u001b[47m \u001b[30m\u001b[49m\u001b[47m \u001b[30m\u001b[49m\u001b[47m \u001b[30m\u001b[49m\u001b[47m \u001b[30m\u001b[49m\u001b[47m \u001b[30m\u001b[49m\u001b[47m \u001b[30m\u001b[49m\u001b[47m \u001b[30m\u001b[49m\u001b[47m \u001b[30m\u001b[49m\u001b[47m \u001b[30m\u001b[49m\u001b[47m \u001b[30m\u001b[49m\u001b[47m \u001b[30m\u001b[49m\u001b[47m \u001b[30m\u001b[49m\u001b[47m \u001b[30m\u001b[49m\u001b[47m \u001b[30m\u001b[49m\u001b[47m \u001b[30m\u001b[49m\u001b[47m \u001b[30m\u001b[49m\u001b[47m \u001b[30m\u001b[49m\u001b[47m \u001b[30m\u001b[49m\u001b[47m \u001b[30m\u001b[49m\u001b[47m \u001b[30m\u001b[49m\u001b[47m \u001b[30m\u001b[49m\u001b[47m \u001b[30m\u001b[49m\u001b[47m \u001b[30m\u001b[49m\u001b[47m \u001b[30m\u001b[49m\u001b[47m \u001b[30m\u001b[49m\u001b[47m \u001b[30m\u001b[49m\u001b[47m \u001b[30m\u001b[49m\u001b[47m \u001b[30m\u001b[49m\u001b[47m \u001b[30m\u001b[49m\u001b[47m \u001b[30m\u001b[49m\u001b[47m \u001b[30m\u001b[49m\u001b[47m \u001b[30m\u001b[49m\u001b[47m \u001b[30m\u001b[49m\u001b[47m \u001b[30m\u001b[49m\u001b[47m \u001b[30m\u001b[49m\u001b[47m \u001b[30m\u001b[49m\u001b[47m \u001b[30m\u001b[49m\u001b[47m \u001b[30m\u001b[49m\u001b[47m \u001b[30m\u001b[49m\u001b[47m \u001b[30m\u001b[49m\u001b[47m \u001b[30m\u001b[49m\u001b[47m \u001b[30m\u001b[49m\u001b[47m \u001b[30m\u001b[49m\u001b[47m \u001b[30m\u001b[49m\u001b[47m \u001b[30m\u001b[49m\u001b[47m \u001b[30m\u001b[49m\u001b[47m \u001b[30m\u001b[49m\u001b[47m \u001b[30m\u001b[49m\u001b[47m \u001b[30m\u001b[49m\u001b[47m \u001b[30m\u001b[49m\u001b[47m \u001b[30m\u001b[49m\u001b[47m \u001b[30m\u001b[49m\u001b[47m \u001b[30m\u001b[49m\u001b[47m \u001b[30m\u001b[49m\u001b[47m \u001b[30m\u001b[49m\u001b[47m \u001b[30m\u001b[49m\u001b[47m \u001b[30m\u001b[49m\u001b[47m \u001b[30m\u001b[49m\u001b[47m \u001b[30m\u001b[49m\u001b[47m \u001b[30m\u001b[49m\n",
            "Subread 2\t \u001b[47m \u001b[30m\u001b[49m\u001b[32mA\u001b[30m\u001b[49m\u001b[33mG\u001b[30m\u001b[49m\u001b[32mA\u001b[30m\u001b[49m\u001b[34mC\u001b[30m\u001b[49m\u001b[34mC\u001b[30m\u001b[49m\u001b[34mC\u001b[30m\u001b[49m\u001b[31mT\u001b[30m\u001b[49m\u001b[33mG\u001b[30m\u001b[49m\u001b[31mT\u001b[30m\u001b[49m\u001b[34mC\u001b[30m\u001b[49m\u001b[33mG\u001b[30m\u001b[49m\u001b[34mC\u001b[30m\u001b[49m\u001b[32mA\u001b[30m\u001b[49m\u001b[33mG\u001b[30m\u001b[49m\u001b[32mA\u001b[30m\u001b[49m\u001b[32mA\u001b[30m\u001b[49m\u001b[47m \u001b[30m\u001b[49m\u001b[47m \u001b[30m\u001b[49m\u001b[32mA\u001b[30m\u001b[49m\u001b[32mA\u001b[30m\u001b[49m\u001b[32mA\u001b[30m\u001b[49m\u001b[32mA\u001b[30m\u001b[49m\u001b[32mA\u001b[30m\u001b[49m\u001b[32mA\u001b[30m\u001b[49m\u001b[31mT\u001b[30m\u001b[49m\u001b[32mA\u001b[30m\u001b[49m\u001b[32mA\u001b[30m\u001b[49m\u001b[32mA\u001b[30m\u001b[49m\u001b[32mA\u001b[30m\u001b[49m\u001b[31mT\u001b[30m\u001b[49m\u001b[31mT\u001b[30m\u001b[49m\u001b[34mC\u001b[30m\u001b[49m\u001b[47m \u001b[30m\u001b[49m\u001b[32mA\u001b[30m\u001b[49m\u001b[32mA\u001b[30m\u001b[49m\u001b[47m \u001b[30m\u001b[49m\u001b[32mA\u001b[30m\u001b[49m\u001b[32mA\u001b[30m\u001b[49m\u001b[32mA\u001b[30m\u001b[49m\u001b[31mT\u001b[30m\u001b[49m\u001b[31mT\u001b[30m\u001b[49m\u001b[31mT\u001b[30m\u001b[49m\u001b[33mG\u001b[30m\u001b[49m\u001b[33mG\u001b[30m\u001b[49m\u001b[34mC\u001b[30m\u001b[49m\u001b[34mC\u001b[30m\u001b[49m\u001b[32mA\u001b[30m\u001b[49m\u001b[33mG\u001b[30m\u001b[49m\u001b[33mG\u001b[30m\u001b[49m\u001b[34mC\u001b[30m\u001b[49m\u001b[33mG\u001b[30m\u001b[49m\u001b[31mT\u001b[30m\u001b[49m\u001b[33mG\u001b[30m\u001b[49m\u001b[33mG\u001b[30m\u001b[49m\u001b[31mT\u001b[30m\u001b[49m\u001b[33mG\u001b[30m\u001b[49m\u001b[33mG\u001b[30m\u001b[49m\u001b[34mC\u001b[30m\u001b[49m\u001b[31mT\u001b[30m\u001b[49m\u001b[34mC\u001b[30m\u001b[49m\u001b[32mA\u001b[30m\u001b[49m\u001b[34mC\u001b[30m\u001b[49m\u001b[33mG\u001b[30m\u001b[49m\u001b[34mC\u001b[30m\u001b[49m\u001b[34mC\u001b[30m\u001b[49m\u001b[31mT\u001b[30m\u001b[49m\u001b[47m \u001b[30m\u001b[49m\u001b[33mG\u001b[30m\u001b[49m\u001b[31mT\u001b[30m\u001b[49m\u001b[32mA\u001b[30m\u001b[49m\u001b[34mC\u001b[30m\u001b[49m\u001b[47m \u001b[30m\u001b[49m\u001b[31mT\u001b[30m\u001b[49m\u001b[34mC\u001b[30m\u001b[49m\u001b[34mC\u001b[30m\u001b[49m\u001b[34mC\u001b[30m\u001b[49m\u001b[32mA\u001b[30m\u001b[49m\u001b[31mT\u001b[30m\u001b[49m\u001b[34mC\u001b[30m\u001b[49m\u001b[34mC\u001b[30m\u001b[49m\u001b[34mC\u001b[30m\u001b[49m\u001b[31mT\u001b[30m\u001b[49m\u001b[31mT\u001b[30m\u001b[49m\u001b[31mT\u001b[30m\u001b[49m\u001b[33mG\u001b[30m\u001b[49m\u001b[33mG\u001b[30m\u001b[49m\u001b[32mA\u001b[30m\u001b[49m\u001b[32mA\u001b[30m\u001b[49m\u001b[33mG\u001b[30m\u001b[49m\u001b[33mG\u001b[30m\u001b[49m\u001b[34mC\u001b[30m\u001b[49m\u001b[34mC\u001b[30m\u001b[49m\u001b[33mG\u001b[30m\u001b[49m\u001b[32mA\u001b[30m\u001b[49m\u001b[33mG\u001b[30m\u001b[49m\u001b[33mG\u001b[30m\u001b[49m\u001b[34mC\u001b[30m\u001b[49m\u001b[33mG\u001b[30m\u001b[49m\u001b[33mG\u001b[30m\u001b[49m\u001b[47m \u001b[30m\u001b[49m\u001b[47m \u001b[30m\u001b[49m\u001b[47m \u001b[30m\u001b[49m\u001b[47m \u001b[30m\u001b[49m\u001b[47m \u001b[30m\u001b[49m\u001b[47m \u001b[30m\u001b[49m\u001b[47m \u001b[30m\u001b[49m\u001b[47m \u001b[30m\u001b[49m\u001b[47m \u001b[30m\u001b[49m\u001b[47m \u001b[30m\u001b[49m\u001b[47m \u001b[30m\u001b[49m\u001b[47m \u001b[30m\u001b[49m\u001b[47m \u001b[30m\u001b[49m\u001b[47m \u001b[30m\u001b[49m\u001b[47m \u001b[30m\u001b[49m\u001b[47m \u001b[30m\u001b[49m\u001b[47m \u001b[30m\u001b[49m\u001b[47m \u001b[30m\u001b[49m\u001b[47m \u001b[30m\u001b[49m\u001b[47m \u001b[30m\u001b[49m\n",
            "Subread 3\t \u001b[47m \u001b[30m\u001b[49m\u001b[32mA\u001b[30m\u001b[49m\u001b[33mG\u001b[30m\u001b[49m\u001b[47m \u001b[30m\u001b[49m\u001b[34mC\u001b[30m\u001b[49m\u001b[34mC\u001b[30m\u001b[49m\u001b[34mC\u001b[30m\u001b[49m\u001b[31mT\u001b[30m\u001b[49m\u001b[33mG\u001b[30m\u001b[49m\u001b[31mT\u001b[30m\u001b[49m\u001b[47m \u001b[30m\u001b[49m\u001b[31mT\u001b[30m\u001b[49m\u001b[34mC\u001b[30m\u001b[49m\u001b[32mA\u001b[30m\u001b[49m\u001b[33mG\u001b[30m\u001b[49m\u001b[32mA\u001b[30m\u001b[49m\u001b[32mA\u001b[30m\u001b[49m\u001b[32mA\u001b[30m\u001b[49m\u001b[33mG\u001b[30m\u001b[49m\u001b[32mA\u001b[30m\u001b[49m\u001b[32mA\u001b[30m\u001b[49m\u001b[32mA\u001b[30m\u001b[49m\u001b[32mA\u001b[30m\u001b[49m\u001b[32mA\u001b[30m\u001b[49m\u001b[32mA\u001b[30m\u001b[49m\u001b[32mA\u001b[30m\u001b[49m\u001b[32mA\u001b[30m\u001b[49m\u001b[32mA\u001b[30m\u001b[49m\u001b[32mA\u001b[30m\u001b[49m\u001b[32mA\u001b[30m\u001b[49m\u001b[31mT\u001b[30m\u001b[49m\u001b[31mT\u001b[30m\u001b[49m\u001b[34mC\u001b[30m\u001b[49m\u001b[47m \u001b[30m\u001b[49m\u001b[32mA\u001b[30m\u001b[49m\u001b[32mA\u001b[30m\u001b[49m\u001b[47m \u001b[30m\u001b[49m\u001b[32mA\u001b[30m\u001b[49m\u001b[32mA\u001b[30m\u001b[49m\u001b[32mA\u001b[30m\u001b[49m\u001b[31mT\u001b[30m\u001b[49m\u001b[31mT\u001b[30m\u001b[49m\u001b[31mT\u001b[30m\u001b[49m\u001b[33mG\u001b[30m\u001b[49m\u001b[33mG\u001b[30m\u001b[49m\u001b[34mC\u001b[30m\u001b[49m\u001b[34mC\u001b[30m\u001b[49m\u001b[47m \u001b[30m\u001b[49m\u001b[33mG\u001b[30m\u001b[49m\u001b[33mG\u001b[30m\u001b[49m\u001b[34mC\u001b[30m\u001b[49m\u001b[33mG\u001b[30m\u001b[49m\u001b[31mT\u001b[30m\u001b[49m\u001b[33mG\u001b[30m\u001b[49m\u001b[33mG\u001b[30m\u001b[49m\u001b[31mT\u001b[30m\u001b[49m\u001b[33mG\u001b[30m\u001b[49m\u001b[33mG\u001b[30m\u001b[49m\u001b[34mC\u001b[30m\u001b[49m\u001b[31mT\u001b[30m\u001b[49m\u001b[34mC\u001b[30m\u001b[49m\u001b[32mA\u001b[30m\u001b[49m\u001b[47m \u001b[30m\u001b[49m\u001b[33mG\u001b[30m\u001b[49m\u001b[34mC\u001b[30m\u001b[49m\u001b[34mC\u001b[30m\u001b[49m\u001b[31mT\u001b[30m\u001b[49m\u001b[47m \u001b[30m\u001b[49m\u001b[33mG\u001b[30m\u001b[49m\u001b[31mT\u001b[30m\u001b[49m\u001b[47m \u001b[30m\u001b[49m\u001b[32mA\u001b[30m\u001b[49m\u001b[47m \u001b[30m\u001b[49m\u001b[31mT\u001b[30m\u001b[49m\u001b[47m \u001b[30m\u001b[49m\u001b[34mC\u001b[30m\u001b[49m\u001b[34mC\u001b[30m\u001b[49m\u001b[32mA\u001b[30m\u001b[49m\u001b[31mT\u001b[30m\u001b[49m\u001b[34mC\u001b[30m\u001b[49m\u001b[32mA\u001b[30m\u001b[49m\u001b[34mC\u001b[30m\u001b[49m\u001b[31mT\u001b[30m\u001b[49m\u001b[31mT\u001b[30m\u001b[49m\u001b[31mT\u001b[30m\u001b[49m\u001b[33mG\u001b[30m\u001b[49m\u001b[33mG\u001b[30m\u001b[49m\u001b[32mA\u001b[30m\u001b[49m\u001b[32mA\u001b[30m\u001b[49m\u001b[33mG\u001b[30m\u001b[49m\u001b[33mG\u001b[30m\u001b[49m\u001b[34mC\u001b[30m\u001b[49m\u001b[34mC\u001b[30m\u001b[49m\u001b[33mG\u001b[30m\u001b[49m\u001b[32mA\u001b[30m\u001b[49m\u001b[33mG\u001b[30m\u001b[49m\u001b[33mG\u001b[30m\u001b[49m\u001b[47m \u001b[30m\u001b[49m\u001b[33mG\u001b[30m\u001b[49m\u001b[33mG\u001b[30m\u001b[49m\u001b[47m \u001b[30m\u001b[49m\u001b[47m \u001b[30m\u001b[49m\u001b[47m \u001b[30m\u001b[49m\u001b[47m \u001b[30m\u001b[49m\u001b[47m \u001b[30m\u001b[49m\u001b[47m \u001b[30m\u001b[49m\u001b[47m \u001b[30m\u001b[49m\u001b[47m \u001b[30m\u001b[49m\u001b[47m \u001b[30m\u001b[49m\u001b[47m \u001b[30m\u001b[49m\u001b[47m \u001b[30m\u001b[49m\u001b[47m \u001b[30m\u001b[49m\u001b[47m \u001b[30m\u001b[49m\u001b[47m \u001b[30m\u001b[49m\u001b[47m \u001b[30m\u001b[49m\u001b[47m \u001b[30m\u001b[49m\u001b[47m \u001b[30m\u001b[49m\u001b[47m \u001b[30m\u001b[49m\u001b[47m \u001b[30m\u001b[49m\u001b[47m \u001b[30m\u001b[49m\n",
            "Subread 4\t \u001b[33mG\u001b[30m\u001b[49m\u001b[32mA\u001b[30m\u001b[49m\u001b[33mG\u001b[30m\u001b[49m\u001b[32mA\u001b[30m\u001b[49m\u001b[34mC\u001b[30m\u001b[49m\u001b[34mC\u001b[30m\u001b[49m\u001b[34mC\u001b[30m\u001b[49m\u001b[32mA\u001b[30m\u001b[49m\u001b[33mG\u001b[30m\u001b[49m\u001b[47m \u001b[30m\u001b[49m\u001b[34mC\u001b[30m\u001b[49m\u001b[31mT\u001b[30m\u001b[49m\u001b[34mC\u001b[30m\u001b[49m\u001b[32mA\u001b[30m\u001b[49m\u001b[33mG\u001b[30m\u001b[49m\u001b[47m \u001b[30m\u001b[49m\u001b[32mA\u001b[30m\u001b[49m\u001b[47m \u001b[30m\u001b[49m\u001b[47m \u001b[30m\u001b[49m\u001b[32mA\u001b[30m\u001b[49m\u001b[32mA\u001b[30m\u001b[49m\u001b[32mA\u001b[30m\u001b[49m\u001b[32mA\u001b[30m\u001b[49m\u001b[32mA\u001b[30m\u001b[49m\u001b[32mA\u001b[30m\u001b[49m\u001b[32mA\u001b[30m\u001b[49m\u001b[32mA\u001b[30m\u001b[49m\u001b[32mA\u001b[30m\u001b[49m\u001b[32mA\u001b[30m\u001b[49m\u001b[32mA\u001b[30m\u001b[49m\u001b[31mT\u001b[30m\u001b[49m\u001b[31mT\u001b[30m\u001b[49m\u001b[34mC\u001b[30m\u001b[49m\u001b[32mA\u001b[30m\u001b[49m\u001b[32mA\u001b[30m\u001b[49m\u001b[32mA\u001b[30m\u001b[49m\u001b[33mG\u001b[30m\u001b[49m\u001b[32mA\u001b[30m\u001b[49m\u001b[32mA\u001b[30m\u001b[49m\u001b[32mA\u001b[30m\u001b[49m\u001b[31mT\u001b[30m\u001b[49m\u001b[31mT\u001b[30m\u001b[49m\u001b[31mT\u001b[30m\u001b[49m\u001b[33mG\u001b[30m\u001b[49m\u001b[33mG\u001b[30m\u001b[49m\u001b[34mC\u001b[30m\u001b[49m\u001b[34mC\u001b[30m\u001b[49m\u001b[32mA\u001b[30m\u001b[49m\u001b[47m \u001b[30m\u001b[49m\u001b[33mG\u001b[30m\u001b[49m\u001b[34mC\u001b[30m\u001b[49m\u001b[33mG\u001b[30m\u001b[49m\u001b[47m \u001b[30m\u001b[49m\u001b[33mG\u001b[30m\u001b[49m\u001b[33mG\u001b[30m\u001b[49m\u001b[31mT\u001b[30m\u001b[49m\u001b[33mG\u001b[30m\u001b[49m\u001b[33mG\u001b[30m\u001b[49m\u001b[34mC\u001b[30m\u001b[49m\u001b[32mA\u001b[30m\u001b[49m\u001b[34mC\u001b[30m\u001b[49m\u001b[32mA\u001b[30m\u001b[49m\u001b[34mC\u001b[30m\u001b[49m\u001b[33mG\u001b[30m\u001b[49m\u001b[34mC\u001b[30m\u001b[49m\u001b[34mC\u001b[30m\u001b[49m\u001b[31mT\u001b[30m\u001b[49m\u001b[33mG\u001b[30m\u001b[49m\u001b[33mG\u001b[30m\u001b[49m\u001b[31mT\u001b[30m\u001b[49m\u001b[32mA\u001b[30m\u001b[49m\u001b[32mA\u001b[30m\u001b[49m\u001b[31mT\u001b[30m\u001b[49m\u001b[31mT\u001b[30m\u001b[49m\u001b[34mC\u001b[30m\u001b[49m\u001b[34mC\u001b[30m\u001b[49m\u001b[34mC\u001b[30m\u001b[49m\u001b[32mA\u001b[30m\u001b[49m\u001b[31mT\u001b[30m\u001b[49m\u001b[34mC\u001b[30m\u001b[49m\u001b[32mA\u001b[30m\u001b[49m\u001b[34mC\u001b[30m\u001b[49m\u001b[32mA\u001b[30m\u001b[49m\u001b[31mT\u001b[30m\u001b[49m\u001b[31mT\u001b[30m\u001b[49m\u001b[33mG\u001b[30m\u001b[49m\u001b[33mG\u001b[30m\u001b[49m\u001b[32mA\u001b[30m\u001b[49m\u001b[32mA\u001b[30m\u001b[49m\u001b[33mG\u001b[30m\u001b[49m\u001b[34mC\u001b[30m\u001b[49m\u001b[34mC\u001b[30m\u001b[49m\u001b[34mC\u001b[30m\u001b[49m\u001b[33mG\u001b[30m\u001b[49m\u001b[32mA\u001b[30m\u001b[49m\u001b[47m \u001b[30m\u001b[49m\u001b[33mG\u001b[30m\u001b[49m\u001b[34mC\u001b[30m\u001b[49m\u001b[33mG\u001b[30m\u001b[49m\u001b[33mG\u001b[30m\u001b[49m\u001b[47m \u001b[30m\u001b[49m\u001b[47m \u001b[30m\u001b[49m\u001b[47m \u001b[30m\u001b[49m\u001b[47m \u001b[30m\u001b[49m\u001b[47m \u001b[30m\u001b[49m\u001b[47m \u001b[30m\u001b[49m\u001b[47m \u001b[30m\u001b[49m\u001b[47m \u001b[30m\u001b[49m\u001b[47m \u001b[30m\u001b[49m\u001b[47m \u001b[30m\u001b[49m\u001b[47m \u001b[30m\u001b[49m\u001b[47m \u001b[30m\u001b[49m\u001b[47m \u001b[30m\u001b[49m\u001b[47m \u001b[30m\u001b[49m\u001b[47m \u001b[30m\u001b[49m\u001b[47m \u001b[30m\u001b[49m\u001b[47m \u001b[30m\u001b[49m\u001b[47m \u001b[30m\u001b[49m\u001b[47m \u001b[30m\u001b[49m\u001b[47m \u001b[30m\u001b[49m\n",
            "Subread 5\t \u001b[47m \u001b[30m\u001b[49m\u001b[32mA\u001b[30m\u001b[49m\u001b[33mG\u001b[30m\u001b[49m\u001b[32mA\u001b[30m\u001b[49m\u001b[47m \u001b[30m\u001b[49m\u001b[34mC\u001b[30m\u001b[49m\u001b[34mC\u001b[30m\u001b[49m\u001b[31mT\u001b[30m\u001b[49m\u001b[33mG\u001b[30m\u001b[49m\u001b[31mT\u001b[30m\u001b[49m\u001b[34mC\u001b[30m\u001b[49m\u001b[31mT\u001b[30m\u001b[49m\u001b[34mC\u001b[30m\u001b[49m\u001b[32mA\u001b[30m\u001b[49m\u001b[33mG\u001b[30m\u001b[49m\u001b[34mC\u001b[30m\u001b[49m\u001b[32mA\u001b[30m\u001b[49m\u001b[47m \u001b[30m\u001b[49m\u001b[47m \u001b[30m\u001b[49m\u001b[32mA\u001b[30m\u001b[49m\u001b[32mA\u001b[30m\u001b[49m\u001b[32mA\u001b[30m\u001b[49m\u001b[32mA\u001b[30m\u001b[49m\u001b[32mA\u001b[30m\u001b[49m\u001b[32mA\u001b[30m\u001b[49m\u001b[32mA\u001b[30m\u001b[49m\u001b[32mA\u001b[30m\u001b[49m\u001b[32mA\u001b[30m\u001b[49m\u001b[32mA\u001b[30m\u001b[49m\u001b[32mA\u001b[30m\u001b[49m\u001b[31mT\u001b[30m\u001b[49m\u001b[31mT\u001b[30m\u001b[49m\u001b[34mC\u001b[30m\u001b[49m\u001b[32mA\u001b[30m\u001b[49m\u001b[32mA\u001b[30m\u001b[49m\u001b[32mA\u001b[30m\u001b[49m\u001b[47m \u001b[30m\u001b[49m\u001b[32mA\u001b[30m\u001b[49m\u001b[32mA\u001b[30m\u001b[49m\u001b[32mA\u001b[30m\u001b[49m\u001b[31mT\u001b[30m\u001b[49m\u001b[31mT\u001b[30m\u001b[49m\u001b[31mT\u001b[30m\u001b[49m\u001b[33mG\u001b[30m\u001b[49m\u001b[33mG\u001b[30m\u001b[49m\u001b[34mC\u001b[30m\u001b[49m\u001b[34mC\u001b[30m\u001b[49m\u001b[32mA\u001b[30m\u001b[49m\u001b[33mG\u001b[30m\u001b[49m\u001b[33mG\u001b[30m\u001b[49m\u001b[32mA\u001b[30m\u001b[49m\u001b[33mG\u001b[30m\u001b[49m\u001b[31mT\u001b[30m\u001b[49m\u001b[33mG\u001b[30m\u001b[49m\u001b[33mG\u001b[30m\u001b[49m\u001b[31mT\u001b[30m\u001b[49m\u001b[33mG\u001b[30m\u001b[49m\u001b[33mG\u001b[30m\u001b[49m\u001b[34mC\u001b[30m\u001b[49m\u001b[31mT\u001b[30m\u001b[49m\u001b[34mC\u001b[30m\u001b[49m\u001b[32mA\u001b[30m\u001b[49m\u001b[34mC\u001b[30m\u001b[49m\u001b[33mG\u001b[30m\u001b[49m\u001b[34mC\u001b[30m\u001b[49m\u001b[34mC\u001b[30m\u001b[49m\u001b[31mT\u001b[30m\u001b[49m\u001b[47m \u001b[30m\u001b[49m\u001b[33mG\u001b[30m\u001b[49m\u001b[31mT\u001b[30m\u001b[49m\u001b[32mA\u001b[30m\u001b[49m\u001b[32mA\u001b[30m\u001b[49m\u001b[47m \u001b[30m\u001b[49m\u001b[31mT\u001b[30m\u001b[49m\u001b[47m \u001b[30m\u001b[49m\u001b[34mC\u001b[30m\u001b[49m\u001b[34mC\u001b[30m\u001b[49m\u001b[32mA\u001b[30m\u001b[49m\u001b[31mT\u001b[30m\u001b[49m\u001b[34mC\u001b[30m\u001b[49m\u001b[32mA\u001b[30m\u001b[49m\u001b[47m \u001b[30m\u001b[49m\u001b[31mT\u001b[30m\u001b[49m\u001b[31mT\u001b[30m\u001b[49m\u001b[31mT\u001b[30m\u001b[49m\u001b[33mG\u001b[30m\u001b[49m\u001b[33mG\u001b[30m\u001b[49m\u001b[47m \u001b[30m\u001b[49m\u001b[32mA\u001b[30m\u001b[49m\u001b[33mG\u001b[30m\u001b[49m\u001b[33mG\u001b[30m\u001b[49m\u001b[34mC\u001b[30m\u001b[49m\u001b[34mC\u001b[30m\u001b[49m\u001b[33mG\u001b[30m\u001b[49m\u001b[32mA\u001b[30m\u001b[49m\u001b[33mG\u001b[30m\u001b[49m\u001b[33mG\u001b[30m\u001b[49m\u001b[34mC\u001b[30m\u001b[49m\u001b[33mG\u001b[30m\u001b[49m\u001b[33mG\u001b[30m\u001b[49m\u001b[47m \u001b[30m\u001b[49m\u001b[47m \u001b[30m\u001b[49m\u001b[47m \u001b[30m\u001b[49m\u001b[47m \u001b[30m\u001b[49m\u001b[47m \u001b[30m\u001b[49m\u001b[47m \u001b[30m\u001b[49m\u001b[47m \u001b[30m\u001b[49m\u001b[47m \u001b[30m\u001b[49m\u001b[47m \u001b[30m\u001b[49m\u001b[47m \u001b[30m\u001b[49m\u001b[47m \u001b[30m\u001b[49m\u001b[47m \u001b[30m\u001b[49m\u001b[47m \u001b[30m\u001b[49m\u001b[47m \u001b[30m\u001b[49m\u001b[47m \u001b[30m\u001b[49m\u001b[47m \u001b[30m\u001b[49m\u001b[47m \u001b[30m\u001b[49m\u001b[47m \u001b[30m\u001b[49m\u001b[47m \u001b[30m\u001b[49m\u001b[47m \u001b[30m\u001b[49m\n",
            "Subread 6\t \u001b[47m \u001b[30m\u001b[49m\u001b[47m \u001b[30m\u001b[49m\u001b[47m \u001b[30m\u001b[49m\u001b[47m \u001b[30m\u001b[49m\u001b[47m \u001b[30m\u001b[49m\u001b[47m \u001b[30m\u001b[49m\u001b[47m \u001b[30m\u001b[49m\u001b[47m \u001b[30m\u001b[49m\u001b[47m \u001b[30m\u001b[49m\u001b[47m \u001b[30m\u001b[49m\u001b[47m \u001b[30m\u001b[49m\u001b[47m \u001b[30m\u001b[49m\u001b[47m \u001b[30m\u001b[49m\u001b[47m \u001b[30m\u001b[49m\u001b[47m \u001b[30m\u001b[49m\u001b[47m \u001b[30m\u001b[49m\u001b[47m \u001b[30m\u001b[49m\u001b[47m \u001b[30m\u001b[49m\u001b[47m \u001b[30m\u001b[49m\u001b[47m \u001b[30m\u001b[49m\u001b[47m \u001b[30m\u001b[49m\u001b[47m \u001b[30m\u001b[49m\u001b[47m \u001b[30m\u001b[49m\u001b[47m \u001b[30m\u001b[49m\u001b[47m \u001b[30m\u001b[49m\u001b[47m \u001b[30m\u001b[49m\u001b[47m \u001b[30m\u001b[49m\u001b[47m \u001b[30m\u001b[49m\u001b[47m \u001b[30m\u001b[49m\u001b[47m \u001b[30m\u001b[49m\u001b[47m \u001b[30m\u001b[49m\u001b[47m \u001b[30m\u001b[49m\u001b[47m \u001b[30m\u001b[49m\u001b[47m \u001b[30m\u001b[49m\u001b[47m \u001b[30m\u001b[49m\u001b[47m \u001b[30m\u001b[49m\u001b[47m \u001b[30m\u001b[49m\u001b[47m \u001b[30m\u001b[49m\u001b[47m \u001b[30m\u001b[49m\u001b[47m \u001b[30m\u001b[49m\u001b[47m \u001b[30m\u001b[49m\u001b[47m \u001b[30m\u001b[49m\u001b[47m \u001b[30m\u001b[49m\u001b[47m \u001b[30m\u001b[49m\u001b[47m \u001b[30m\u001b[49m\u001b[47m \u001b[30m\u001b[49m\u001b[47m \u001b[30m\u001b[49m\u001b[47m \u001b[30m\u001b[49m\u001b[47m \u001b[30m\u001b[49m\u001b[47m \u001b[30m\u001b[49m\u001b[47m \u001b[30m\u001b[49m\u001b[47m \u001b[30m\u001b[49m\u001b[47m \u001b[30m\u001b[49m\u001b[47m \u001b[30m\u001b[49m\u001b[47m \u001b[30m\u001b[49m\u001b[47m \u001b[30m\u001b[49m\u001b[47m \u001b[30m\u001b[49m\u001b[47m \u001b[30m\u001b[49m\u001b[47m \u001b[30m\u001b[49m\u001b[47m \u001b[30m\u001b[49m\u001b[47m \u001b[30m\u001b[49m\u001b[47m \u001b[30m\u001b[49m\u001b[47m \u001b[30m\u001b[49m\u001b[47m \u001b[30m\u001b[49m\u001b[47m \u001b[30m\u001b[49m\u001b[47m \u001b[30m\u001b[49m\u001b[47m \u001b[30m\u001b[49m\u001b[47m \u001b[30m\u001b[49m\u001b[47m \u001b[30m\u001b[49m\u001b[47m \u001b[30m\u001b[49m\u001b[47m \u001b[30m\u001b[49m\u001b[47m \u001b[30m\u001b[49m\u001b[47m \u001b[30m\u001b[49m\u001b[47m \u001b[30m\u001b[49m\u001b[47m \u001b[30m\u001b[49m\u001b[47m \u001b[30m\u001b[49m\u001b[47m \u001b[30m\u001b[49m\u001b[47m \u001b[30m\u001b[49m\u001b[47m \u001b[30m\u001b[49m\u001b[47m \u001b[30m\u001b[49m\u001b[47m \u001b[30m\u001b[49m\u001b[47m \u001b[30m\u001b[49m\u001b[47m \u001b[30m\u001b[49m\u001b[47m \u001b[30m\u001b[49m\u001b[47m \u001b[30m\u001b[49m\u001b[47m \u001b[30m\u001b[49m\u001b[47m \u001b[30m\u001b[49m\u001b[47m \u001b[30m\u001b[49m\u001b[47m \u001b[30m\u001b[49m\u001b[47m \u001b[30m\u001b[49m\u001b[47m \u001b[30m\u001b[49m\u001b[47m \u001b[30m\u001b[49m\u001b[47m \u001b[30m\u001b[49m\u001b[47m \u001b[30m\u001b[49m\u001b[47m \u001b[30m\u001b[49m\u001b[47m \u001b[30m\u001b[49m\u001b[47m \u001b[30m\u001b[49m\u001b[47m \u001b[30m\u001b[49m\u001b[47m \u001b[30m\u001b[49m\u001b[47m \u001b[30m\u001b[49m\u001b[47m \u001b[30m\u001b[49m\u001b[47m \u001b[30m\u001b[49m\u001b[47m \u001b[30m\u001b[49m\u001b[47m \u001b[30m\u001b[49m\u001b[47m \u001b[30m\u001b[49m\u001b[47m \u001b[30m\u001b[49m\u001b[47m \u001b[30m\u001b[49m\u001b[47m \u001b[30m\u001b[49m\u001b[47m \u001b[30m\u001b[49m\u001b[47m \u001b[30m\u001b[49m\u001b[47m \u001b[30m\u001b[49m\u001b[47m \u001b[30m\u001b[49m\u001b[47m \u001b[30m\u001b[49m\u001b[47m \u001b[30m\u001b[49m\u001b[47m \u001b[30m\u001b[49m\u001b[47m \u001b[30m\u001b[49m\u001b[47m \u001b[30m\u001b[49m\u001b[47m \u001b[30m\u001b[49m\u001b[47m \u001b[30m\u001b[49m\u001b[47m \u001b[30m\u001b[49m\n",
            "Subread 7\t \u001b[47m \u001b[30m\u001b[49m\u001b[47m \u001b[30m\u001b[49m\u001b[47m \u001b[30m\u001b[49m\u001b[47m \u001b[30m\u001b[49m\u001b[47m \u001b[30m\u001b[49m\u001b[47m \u001b[30m\u001b[49m\u001b[47m \u001b[30m\u001b[49m\u001b[47m \u001b[30m\u001b[49m\u001b[47m \u001b[30m\u001b[49m\u001b[47m \u001b[30m\u001b[49m\u001b[47m \u001b[30m\u001b[49m\u001b[47m \u001b[30m\u001b[49m\u001b[47m \u001b[30m\u001b[49m\u001b[47m \u001b[30m\u001b[49m\u001b[47m \u001b[30m\u001b[49m\u001b[47m \u001b[30m\u001b[49m\u001b[47m \u001b[30m\u001b[49m\u001b[47m \u001b[30m\u001b[49m\u001b[47m \u001b[30m\u001b[49m\u001b[47m \u001b[30m\u001b[49m\u001b[47m \u001b[30m\u001b[49m\u001b[47m \u001b[30m\u001b[49m\u001b[47m \u001b[30m\u001b[49m\u001b[47m \u001b[30m\u001b[49m\u001b[47m \u001b[30m\u001b[49m\u001b[47m \u001b[30m\u001b[49m\u001b[47m \u001b[30m\u001b[49m\u001b[47m \u001b[30m\u001b[49m\u001b[47m \u001b[30m\u001b[49m\u001b[47m \u001b[30m\u001b[49m\u001b[47m \u001b[30m\u001b[49m\u001b[47m \u001b[30m\u001b[49m\u001b[47m \u001b[30m\u001b[49m\u001b[47m \u001b[30m\u001b[49m\u001b[47m \u001b[30m\u001b[49m\u001b[47m \u001b[30m\u001b[49m\u001b[47m \u001b[30m\u001b[49m\u001b[47m \u001b[30m\u001b[49m\u001b[47m \u001b[30m\u001b[49m\u001b[47m \u001b[30m\u001b[49m\u001b[47m \u001b[30m\u001b[49m\u001b[47m \u001b[30m\u001b[49m\u001b[47m \u001b[30m\u001b[49m\u001b[47m \u001b[30m\u001b[49m\u001b[47m \u001b[30m\u001b[49m\u001b[47m \u001b[30m\u001b[49m\u001b[47m \u001b[30m\u001b[49m\u001b[47m \u001b[30m\u001b[49m\u001b[47m \u001b[30m\u001b[49m\u001b[47m \u001b[30m\u001b[49m\u001b[47m \u001b[30m\u001b[49m\u001b[47m \u001b[30m\u001b[49m\u001b[47m \u001b[30m\u001b[49m\u001b[47m \u001b[30m\u001b[49m\u001b[47m \u001b[30m\u001b[49m\u001b[47m \u001b[30m\u001b[49m\u001b[47m \u001b[30m\u001b[49m\u001b[47m \u001b[30m\u001b[49m\u001b[47m \u001b[30m\u001b[49m\u001b[47m \u001b[30m\u001b[49m\u001b[47m \u001b[30m\u001b[49m\u001b[47m \u001b[30m\u001b[49m\u001b[47m \u001b[30m\u001b[49m\u001b[47m \u001b[30m\u001b[49m\u001b[47m \u001b[30m\u001b[49m\u001b[47m \u001b[30m\u001b[49m\u001b[47m \u001b[30m\u001b[49m\u001b[47m \u001b[30m\u001b[49m\u001b[47m \u001b[30m\u001b[49m\u001b[47m \u001b[30m\u001b[49m\u001b[47m \u001b[30m\u001b[49m\u001b[47m \u001b[30m\u001b[49m\u001b[47m \u001b[30m\u001b[49m\u001b[47m \u001b[30m\u001b[49m\u001b[47m \u001b[30m\u001b[49m\u001b[47m \u001b[30m\u001b[49m\u001b[47m \u001b[30m\u001b[49m\u001b[47m \u001b[30m\u001b[49m\u001b[47m \u001b[30m\u001b[49m\u001b[47m \u001b[30m\u001b[49m\u001b[47m \u001b[30m\u001b[49m\u001b[47m \u001b[30m\u001b[49m\u001b[47m \u001b[30m\u001b[49m\u001b[47m \u001b[30m\u001b[49m\u001b[47m \u001b[30m\u001b[49m\u001b[47m \u001b[30m\u001b[49m\u001b[47m \u001b[30m\u001b[49m\u001b[47m \u001b[30m\u001b[49m\u001b[47m \u001b[30m\u001b[49m\u001b[47m \u001b[30m\u001b[49m\u001b[47m \u001b[30m\u001b[49m\u001b[47m \u001b[30m\u001b[49m\u001b[47m \u001b[30m\u001b[49m\u001b[47m \u001b[30m\u001b[49m\u001b[47m \u001b[30m\u001b[49m\u001b[47m \u001b[30m\u001b[49m\u001b[47m \u001b[30m\u001b[49m\u001b[47m \u001b[30m\u001b[49m\u001b[47m \u001b[30m\u001b[49m\u001b[47m \u001b[30m\u001b[49m\u001b[47m \u001b[30m\u001b[49m\u001b[47m \u001b[30m\u001b[49m\u001b[47m \u001b[30m\u001b[49m\u001b[47m \u001b[30m\u001b[49m\u001b[47m \u001b[30m\u001b[49m\u001b[47m \u001b[30m\u001b[49m\u001b[47m \u001b[30m\u001b[49m\u001b[47m \u001b[30m\u001b[49m\u001b[47m \u001b[30m\u001b[49m\u001b[47m \u001b[30m\u001b[49m\u001b[47m \u001b[30m\u001b[49m\u001b[47m \u001b[30m\u001b[49m\u001b[47m \u001b[30m\u001b[49m\u001b[47m \u001b[30m\u001b[49m\u001b[47m \u001b[30m\u001b[49m\u001b[47m \u001b[30m\u001b[49m\u001b[47m \u001b[30m\u001b[49m\u001b[47m \u001b[30m\u001b[49m\u001b[47m \u001b[30m\u001b[49m\u001b[47m \u001b[30m\u001b[49m\n",
            "Subread 8\t \u001b[47m \u001b[30m\u001b[49m\u001b[47m \u001b[30m\u001b[49m\u001b[47m \u001b[30m\u001b[49m\u001b[47m \u001b[30m\u001b[49m\u001b[47m \u001b[30m\u001b[49m\u001b[47m \u001b[30m\u001b[49m\u001b[47m \u001b[30m\u001b[49m\u001b[47m \u001b[30m\u001b[49m\u001b[47m \u001b[30m\u001b[49m\u001b[47m \u001b[30m\u001b[49m\u001b[47m \u001b[30m\u001b[49m\u001b[47m \u001b[30m\u001b[49m\u001b[47m \u001b[30m\u001b[49m\u001b[47m \u001b[30m\u001b[49m\u001b[47m \u001b[30m\u001b[49m\u001b[47m \u001b[30m\u001b[49m\u001b[47m \u001b[30m\u001b[49m\u001b[47m \u001b[30m\u001b[49m\u001b[47m \u001b[30m\u001b[49m\u001b[47m \u001b[30m\u001b[49m\u001b[47m \u001b[30m\u001b[49m\u001b[47m \u001b[30m\u001b[49m\u001b[47m \u001b[30m\u001b[49m\u001b[47m \u001b[30m\u001b[49m\u001b[47m \u001b[30m\u001b[49m\u001b[47m \u001b[30m\u001b[49m\u001b[47m \u001b[30m\u001b[49m\u001b[47m \u001b[30m\u001b[49m\u001b[47m \u001b[30m\u001b[49m\u001b[47m \u001b[30m\u001b[49m\u001b[47m \u001b[30m\u001b[49m\u001b[47m \u001b[30m\u001b[49m\u001b[47m \u001b[30m\u001b[49m\u001b[47m \u001b[30m\u001b[49m\u001b[47m \u001b[30m\u001b[49m\u001b[47m \u001b[30m\u001b[49m\u001b[47m \u001b[30m\u001b[49m\u001b[47m \u001b[30m\u001b[49m\u001b[47m \u001b[30m\u001b[49m\u001b[47m \u001b[30m\u001b[49m\u001b[47m \u001b[30m\u001b[49m\u001b[47m \u001b[30m\u001b[49m\u001b[47m \u001b[30m\u001b[49m\u001b[47m \u001b[30m\u001b[49m\u001b[47m \u001b[30m\u001b[49m\u001b[47m \u001b[30m\u001b[49m\u001b[47m \u001b[30m\u001b[49m\u001b[47m \u001b[30m\u001b[49m\u001b[47m \u001b[30m\u001b[49m\u001b[47m \u001b[30m\u001b[49m\u001b[47m \u001b[30m\u001b[49m\u001b[47m \u001b[30m\u001b[49m\u001b[47m \u001b[30m\u001b[49m\u001b[47m \u001b[30m\u001b[49m\u001b[47m \u001b[30m\u001b[49m\u001b[47m \u001b[30m\u001b[49m\u001b[47m \u001b[30m\u001b[49m\u001b[47m \u001b[30m\u001b[49m\u001b[47m \u001b[30m\u001b[49m\u001b[47m \u001b[30m\u001b[49m\u001b[47m \u001b[30m\u001b[49m\u001b[47m \u001b[30m\u001b[49m\u001b[47m \u001b[30m\u001b[49m\u001b[47m \u001b[30m\u001b[49m\u001b[47m \u001b[30m\u001b[49m\u001b[47m \u001b[30m\u001b[49m\u001b[47m \u001b[30m\u001b[49m\u001b[47m \u001b[30m\u001b[49m\u001b[47m \u001b[30m\u001b[49m\u001b[47m \u001b[30m\u001b[49m\u001b[47m \u001b[30m\u001b[49m\u001b[47m \u001b[30m\u001b[49m\u001b[47m \u001b[30m\u001b[49m\u001b[47m \u001b[30m\u001b[49m\u001b[47m \u001b[30m\u001b[49m\u001b[47m \u001b[30m\u001b[49m\u001b[47m \u001b[30m\u001b[49m\u001b[47m \u001b[30m\u001b[49m\u001b[47m \u001b[30m\u001b[49m\u001b[47m \u001b[30m\u001b[49m\u001b[47m \u001b[30m\u001b[49m\u001b[47m \u001b[30m\u001b[49m\u001b[47m \u001b[30m\u001b[49m\u001b[47m \u001b[30m\u001b[49m\u001b[47m \u001b[30m\u001b[49m\u001b[47m \u001b[30m\u001b[49m\u001b[47m \u001b[30m\u001b[49m\u001b[47m \u001b[30m\u001b[49m\u001b[47m \u001b[30m\u001b[49m\u001b[47m \u001b[30m\u001b[49m\u001b[47m \u001b[30m\u001b[49m\u001b[47m \u001b[30m\u001b[49m\u001b[47m \u001b[30m\u001b[49m\u001b[47m \u001b[30m\u001b[49m\u001b[47m \u001b[30m\u001b[49m\u001b[47m \u001b[30m\u001b[49m\u001b[47m \u001b[30m\u001b[49m\u001b[47m \u001b[30m\u001b[49m\u001b[47m \u001b[30m\u001b[49m\u001b[47m \u001b[30m\u001b[49m\u001b[47m \u001b[30m\u001b[49m\u001b[47m \u001b[30m\u001b[49m\u001b[47m \u001b[30m\u001b[49m\u001b[47m \u001b[30m\u001b[49m\u001b[47m \u001b[30m\u001b[49m\u001b[47m \u001b[30m\u001b[49m\u001b[47m \u001b[30m\u001b[49m\u001b[47m \u001b[30m\u001b[49m\u001b[47m \u001b[30m\u001b[49m\u001b[47m \u001b[30m\u001b[49m\u001b[47m \u001b[30m\u001b[49m\u001b[47m \u001b[30m\u001b[49m\u001b[47m \u001b[30m\u001b[49m\u001b[47m \u001b[30m\u001b[49m\u001b[47m \u001b[30m\u001b[49m\u001b[47m \u001b[30m\u001b[49m\u001b[47m \u001b[30m\u001b[49m\u001b[47m \u001b[30m\u001b[49m\u001b[47m \u001b[30m\u001b[49m\u001b[47m \u001b[30m\u001b[49m\n",
            "Subread 9\t \u001b[47m \u001b[30m\u001b[49m\u001b[47m \u001b[30m\u001b[49m\u001b[47m \u001b[30m\u001b[49m\u001b[47m \u001b[30m\u001b[49m\u001b[47m \u001b[30m\u001b[49m\u001b[47m \u001b[30m\u001b[49m\u001b[47m \u001b[30m\u001b[49m\u001b[47m \u001b[30m\u001b[49m\u001b[47m \u001b[30m\u001b[49m\u001b[47m \u001b[30m\u001b[49m\u001b[47m \u001b[30m\u001b[49m\u001b[47m \u001b[30m\u001b[49m\u001b[47m \u001b[30m\u001b[49m\u001b[47m \u001b[30m\u001b[49m\u001b[47m \u001b[30m\u001b[49m\u001b[47m \u001b[30m\u001b[49m\u001b[47m \u001b[30m\u001b[49m\u001b[47m \u001b[30m\u001b[49m\u001b[47m \u001b[30m\u001b[49m\u001b[47m \u001b[30m\u001b[49m\u001b[47m \u001b[30m\u001b[49m\u001b[47m \u001b[30m\u001b[49m\u001b[47m \u001b[30m\u001b[49m\u001b[47m \u001b[30m\u001b[49m\u001b[47m \u001b[30m\u001b[49m\u001b[47m \u001b[30m\u001b[49m\u001b[47m \u001b[30m\u001b[49m\u001b[47m \u001b[30m\u001b[49m\u001b[47m \u001b[30m\u001b[49m\u001b[47m \u001b[30m\u001b[49m\u001b[47m \u001b[30m\u001b[49m\u001b[47m \u001b[30m\u001b[49m\u001b[47m \u001b[30m\u001b[49m\u001b[47m \u001b[30m\u001b[49m\u001b[47m \u001b[30m\u001b[49m\u001b[47m \u001b[30m\u001b[49m\u001b[47m \u001b[30m\u001b[49m\u001b[47m \u001b[30m\u001b[49m\u001b[47m \u001b[30m\u001b[49m\u001b[47m \u001b[30m\u001b[49m\u001b[47m \u001b[30m\u001b[49m\u001b[47m \u001b[30m\u001b[49m\u001b[47m \u001b[30m\u001b[49m\u001b[47m \u001b[30m\u001b[49m\u001b[47m \u001b[30m\u001b[49m\u001b[47m \u001b[30m\u001b[49m\u001b[47m \u001b[30m\u001b[49m\u001b[47m \u001b[30m\u001b[49m\u001b[47m \u001b[30m\u001b[49m\u001b[47m \u001b[30m\u001b[49m\u001b[47m \u001b[30m\u001b[49m\u001b[47m \u001b[30m\u001b[49m\u001b[47m \u001b[30m\u001b[49m\u001b[47m \u001b[30m\u001b[49m\u001b[47m \u001b[30m\u001b[49m\u001b[47m \u001b[30m\u001b[49m\u001b[47m \u001b[30m\u001b[49m\u001b[47m \u001b[30m\u001b[49m\u001b[47m \u001b[30m\u001b[49m\u001b[47m \u001b[30m\u001b[49m\u001b[47m \u001b[30m\u001b[49m\u001b[47m \u001b[30m\u001b[49m\u001b[47m \u001b[30m\u001b[49m\u001b[47m \u001b[30m\u001b[49m\u001b[47m \u001b[30m\u001b[49m\u001b[47m \u001b[30m\u001b[49m\u001b[47m \u001b[30m\u001b[49m\u001b[47m \u001b[30m\u001b[49m\u001b[47m \u001b[30m\u001b[49m\u001b[47m \u001b[30m\u001b[49m\u001b[47m \u001b[30m\u001b[49m\u001b[47m \u001b[30m\u001b[49m\u001b[47m \u001b[30m\u001b[49m\u001b[47m \u001b[30m\u001b[49m\u001b[47m \u001b[30m\u001b[49m\u001b[47m \u001b[30m\u001b[49m\u001b[47m \u001b[30m\u001b[49m\u001b[47m \u001b[30m\u001b[49m\u001b[47m \u001b[30m\u001b[49m\u001b[47m \u001b[30m\u001b[49m\u001b[47m \u001b[30m\u001b[49m\u001b[47m \u001b[30m\u001b[49m\u001b[47m \u001b[30m\u001b[49m\u001b[47m \u001b[30m\u001b[49m\u001b[47m \u001b[30m\u001b[49m\u001b[47m \u001b[30m\u001b[49m\u001b[47m \u001b[30m\u001b[49m\u001b[47m \u001b[30m\u001b[49m\u001b[47m \u001b[30m\u001b[49m\u001b[47m \u001b[30m\u001b[49m\u001b[47m \u001b[30m\u001b[49m\u001b[47m \u001b[30m\u001b[49m\u001b[47m \u001b[30m\u001b[49m\u001b[47m \u001b[30m\u001b[49m\u001b[47m \u001b[30m\u001b[49m\u001b[47m \u001b[30m\u001b[49m\u001b[47m \u001b[30m\u001b[49m\u001b[47m \u001b[30m\u001b[49m\u001b[47m \u001b[30m\u001b[49m\u001b[47m \u001b[30m\u001b[49m\u001b[47m \u001b[30m\u001b[49m\u001b[47m \u001b[30m\u001b[49m\u001b[47m \u001b[30m\u001b[49m\u001b[47m \u001b[30m\u001b[49m\u001b[47m \u001b[30m\u001b[49m\u001b[47m \u001b[30m\u001b[49m\u001b[47m \u001b[30m\u001b[49m\u001b[47m \u001b[30m\u001b[49m\u001b[47m \u001b[30m\u001b[49m\u001b[47m \u001b[30m\u001b[49m\u001b[47m \u001b[30m\u001b[49m\u001b[47m \u001b[30m\u001b[49m\u001b[47m \u001b[30m\u001b[49m\u001b[47m \u001b[30m\u001b[49m\u001b[47m \u001b[30m\u001b[49m\u001b[47m \u001b[30m\u001b[49m\u001b[47m \u001b[30m\u001b[49m\u001b[47m \u001b[30m\u001b[49m\u001b[47m \u001b[30m\u001b[49m\u001b[47m \u001b[30m\u001b[49m\n",
            "Subread 10\t \u001b[47m \u001b[30m\u001b[49m\u001b[47m \u001b[30m\u001b[49m\u001b[47m \u001b[30m\u001b[49m\u001b[47m \u001b[30m\u001b[49m\u001b[47m \u001b[30m\u001b[49m\u001b[47m \u001b[30m\u001b[49m\u001b[47m \u001b[30m\u001b[49m\u001b[47m \u001b[30m\u001b[49m\u001b[47m \u001b[30m\u001b[49m\u001b[47m \u001b[30m\u001b[49m\u001b[47m \u001b[30m\u001b[49m\u001b[47m \u001b[30m\u001b[49m\u001b[47m \u001b[30m\u001b[49m\u001b[47m \u001b[30m\u001b[49m\u001b[47m \u001b[30m\u001b[49m\u001b[47m \u001b[30m\u001b[49m\u001b[47m \u001b[30m\u001b[49m\u001b[47m \u001b[30m\u001b[49m\u001b[47m \u001b[30m\u001b[49m\u001b[47m \u001b[30m\u001b[49m\u001b[47m \u001b[30m\u001b[49m\u001b[47m \u001b[30m\u001b[49m\u001b[47m \u001b[30m\u001b[49m\u001b[47m \u001b[30m\u001b[49m\u001b[47m \u001b[30m\u001b[49m\u001b[47m \u001b[30m\u001b[49m\u001b[47m \u001b[30m\u001b[49m\u001b[47m \u001b[30m\u001b[49m\u001b[47m \u001b[30m\u001b[49m\u001b[47m \u001b[30m\u001b[49m\u001b[47m \u001b[30m\u001b[49m\u001b[47m \u001b[30m\u001b[49m\u001b[47m \u001b[30m\u001b[49m\u001b[47m \u001b[30m\u001b[49m\u001b[47m \u001b[30m\u001b[49m\u001b[47m \u001b[30m\u001b[49m\u001b[47m \u001b[30m\u001b[49m\u001b[47m \u001b[30m\u001b[49m\u001b[47m \u001b[30m\u001b[49m\u001b[47m \u001b[30m\u001b[49m\u001b[47m \u001b[30m\u001b[49m\u001b[47m \u001b[30m\u001b[49m\u001b[47m \u001b[30m\u001b[49m\u001b[47m \u001b[30m\u001b[49m\u001b[47m \u001b[30m\u001b[49m\u001b[47m \u001b[30m\u001b[49m\u001b[47m \u001b[30m\u001b[49m\u001b[47m \u001b[30m\u001b[49m\u001b[47m \u001b[30m\u001b[49m\u001b[47m \u001b[30m\u001b[49m\u001b[47m \u001b[30m\u001b[49m\u001b[47m \u001b[30m\u001b[49m\u001b[47m \u001b[30m\u001b[49m\u001b[47m \u001b[30m\u001b[49m\u001b[47m \u001b[30m\u001b[49m\u001b[47m \u001b[30m\u001b[49m\u001b[47m \u001b[30m\u001b[49m\u001b[47m \u001b[30m\u001b[49m\u001b[47m \u001b[30m\u001b[49m\u001b[47m \u001b[30m\u001b[49m\u001b[47m \u001b[30m\u001b[49m\u001b[47m \u001b[30m\u001b[49m\u001b[47m \u001b[30m\u001b[49m\u001b[47m \u001b[30m\u001b[49m\u001b[47m \u001b[30m\u001b[49m\u001b[47m \u001b[30m\u001b[49m\u001b[47m \u001b[30m\u001b[49m\u001b[47m \u001b[30m\u001b[49m\u001b[47m \u001b[30m\u001b[49m\u001b[47m \u001b[30m\u001b[49m\u001b[47m \u001b[30m\u001b[49m\u001b[47m \u001b[30m\u001b[49m\u001b[47m \u001b[30m\u001b[49m\u001b[47m \u001b[30m\u001b[49m\u001b[47m \u001b[30m\u001b[49m\u001b[47m \u001b[30m\u001b[49m\u001b[47m \u001b[30m\u001b[49m\u001b[47m \u001b[30m\u001b[49m\u001b[47m \u001b[30m\u001b[49m\u001b[47m \u001b[30m\u001b[49m\u001b[47m \u001b[30m\u001b[49m\u001b[47m \u001b[30m\u001b[49m\u001b[47m \u001b[30m\u001b[49m\u001b[47m \u001b[30m\u001b[49m\u001b[47m \u001b[30m\u001b[49m\u001b[47m \u001b[30m\u001b[49m\u001b[47m \u001b[30m\u001b[49m\u001b[47m \u001b[30m\u001b[49m\u001b[47m \u001b[30m\u001b[49m\u001b[47m \u001b[30m\u001b[49m\u001b[47m \u001b[30m\u001b[49m\u001b[47m \u001b[30m\u001b[49m\u001b[47m \u001b[30m\u001b[49m\u001b[47m \u001b[30m\u001b[49m\u001b[47m \u001b[30m\u001b[49m\u001b[47m \u001b[30m\u001b[49m\u001b[47m \u001b[30m\u001b[49m\u001b[47m \u001b[30m\u001b[49m\u001b[47m \u001b[30m\u001b[49m\u001b[47m \u001b[30m\u001b[49m\u001b[47m \u001b[30m\u001b[49m\u001b[47m \u001b[30m\u001b[49m\u001b[47m \u001b[30m\u001b[49m\u001b[47m \u001b[30m\u001b[49m\u001b[47m \u001b[30m\u001b[49m\u001b[47m \u001b[30m\u001b[49m\u001b[47m \u001b[30m\u001b[49m\u001b[47m \u001b[30m\u001b[49m\u001b[47m \u001b[30m\u001b[49m\u001b[47m \u001b[30m\u001b[49m\u001b[47m \u001b[30m\u001b[49m\u001b[47m \u001b[30m\u001b[49m\u001b[47m \u001b[30m\u001b[49m\u001b[47m \u001b[30m\u001b[49m\u001b[47m \u001b[30m\u001b[49m\u001b[47m \u001b[30m\u001b[49m\u001b[47m \u001b[30m\u001b[49m\u001b[47m \u001b[30m\u001b[49m\u001b[47m \u001b[30m\u001b[49m\u001b[47m \u001b[30m\u001b[49m\n",
            "Subread 11\t \u001b[47m \u001b[30m\u001b[49m\u001b[47m \u001b[30m\u001b[49m\u001b[47m \u001b[30m\u001b[49m\u001b[47m \u001b[30m\u001b[49m\u001b[47m \u001b[30m\u001b[49m\u001b[47m \u001b[30m\u001b[49m\u001b[47m \u001b[30m\u001b[49m\u001b[47m \u001b[30m\u001b[49m\u001b[47m \u001b[30m\u001b[49m\u001b[47m \u001b[30m\u001b[49m\u001b[47m \u001b[30m\u001b[49m\u001b[47m \u001b[30m\u001b[49m\u001b[47m \u001b[30m\u001b[49m\u001b[47m \u001b[30m\u001b[49m\u001b[47m \u001b[30m\u001b[49m\u001b[47m \u001b[30m\u001b[49m\u001b[47m \u001b[30m\u001b[49m\u001b[47m \u001b[30m\u001b[49m\u001b[47m \u001b[30m\u001b[49m\u001b[47m \u001b[30m\u001b[49m\u001b[47m \u001b[30m\u001b[49m\u001b[47m \u001b[30m\u001b[49m\u001b[47m \u001b[30m\u001b[49m\u001b[47m \u001b[30m\u001b[49m\u001b[47m \u001b[30m\u001b[49m\u001b[47m \u001b[30m\u001b[49m\u001b[47m \u001b[30m\u001b[49m\u001b[47m \u001b[30m\u001b[49m\u001b[47m \u001b[30m\u001b[49m\u001b[47m \u001b[30m\u001b[49m\u001b[47m \u001b[30m\u001b[49m\u001b[47m \u001b[30m\u001b[49m\u001b[47m \u001b[30m\u001b[49m\u001b[47m \u001b[30m\u001b[49m\u001b[47m \u001b[30m\u001b[49m\u001b[47m \u001b[30m\u001b[49m\u001b[47m \u001b[30m\u001b[49m\u001b[47m \u001b[30m\u001b[49m\u001b[47m \u001b[30m\u001b[49m\u001b[47m \u001b[30m\u001b[49m\u001b[47m \u001b[30m\u001b[49m\u001b[47m \u001b[30m\u001b[49m\u001b[47m \u001b[30m\u001b[49m\u001b[47m \u001b[30m\u001b[49m\u001b[47m \u001b[30m\u001b[49m\u001b[47m \u001b[30m\u001b[49m\u001b[47m \u001b[30m\u001b[49m\u001b[47m \u001b[30m\u001b[49m\u001b[47m \u001b[30m\u001b[49m\u001b[47m \u001b[30m\u001b[49m\u001b[47m \u001b[30m\u001b[49m\u001b[47m \u001b[30m\u001b[49m\u001b[47m \u001b[30m\u001b[49m\u001b[47m \u001b[30m\u001b[49m\u001b[47m \u001b[30m\u001b[49m\u001b[47m \u001b[30m\u001b[49m\u001b[47m \u001b[30m\u001b[49m\u001b[47m \u001b[30m\u001b[49m\u001b[47m \u001b[30m\u001b[49m\u001b[47m \u001b[30m\u001b[49m\u001b[47m \u001b[30m\u001b[49m\u001b[47m \u001b[30m\u001b[49m\u001b[47m \u001b[30m\u001b[49m\u001b[47m \u001b[30m\u001b[49m\u001b[47m \u001b[30m\u001b[49m\u001b[47m \u001b[30m\u001b[49m\u001b[47m \u001b[30m\u001b[49m\u001b[47m \u001b[30m\u001b[49m\u001b[47m \u001b[30m\u001b[49m\u001b[47m \u001b[30m\u001b[49m\u001b[47m \u001b[30m\u001b[49m\u001b[47m \u001b[30m\u001b[49m\u001b[47m \u001b[30m\u001b[49m\u001b[47m \u001b[30m\u001b[49m\u001b[47m \u001b[30m\u001b[49m\u001b[47m \u001b[30m\u001b[49m\u001b[47m \u001b[30m\u001b[49m\u001b[47m \u001b[30m\u001b[49m\u001b[47m \u001b[30m\u001b[49m\u001b[47m \u001b[30m\u001b[49m\u001b[47m \u001b[30m\u001b[49m\u001b[47m \u001b[30m\u001b[49m\u001b[47m \u001b[30m\u001b[49m\u001b[47m \u001b[30m\u001b[49m\u001b[47m \u001b[30m\u001b[49m\u001b[47m \u001b[30m\u001b[49m\u001b[47m \u001b[30m\u001b[49m\u001b[47m \u001b[30m\u001b[49m\u001b[47m \u001b[30m\u001b[49m\u001b[47m \u001b[30m\u001b[49m\u001b[47m \u001b[30m\u001b[49m\u001b[47m \u001b[30m\u001b[49m\u001b[47m \u001b[30m\u001b[49m\u001b[47m \u001b[30m\u001b[49m\u001b[47m \u001b[30m\u001b[49m\u001b[47m \u001b[30m\u001b[49m\u001b[47m \u001b[30m\u001b[49m\u001b[47m \u001b[30m\u001b[49m\u001b[47m \u001b[30m\u001b[49m\u001b[47m \u001b[30m\u001b[49m\u001b[47m \u001b[30m\u001b[49m\u001b[47m \u001b[30m\u001b[49m\u001b[47m \u001b[30m\u001b[49m\u001b[47m \u001b[30m\u001b[49m\u001b[47m \u001b[30m\u001b[49m\u001b[47m \u001b[30m\u001b[49m\u001b[47m \u001b[30m\u001b[49m\u001b[47m \u001b[30m\u001b[49m\u001b[47m \u001b[30m\u001b[49m\u001b[47m \u001b[30m\u001b[49m\u001b[47m \u001b[30m\u001b[49m\u001b[47m \u001b[30m\u001b[49m\u001b[47m \u001b[30m\u001b[49m\u001b[47m \u001b[30m\u001b[49m\u001b[47m \u001b[30m\u001b[49m\u001b[47m \u001b[30m\u001b[49m\u001b[47m \u001b[30m\u001b[49m\u001b[47m \u001b[30m\u001b[49m\u001b[47m \u001b[30m\u001b[49m\u001b[47m \u001b[30m\u001b[49m\n",
            "Subread 12\t \u001b[47m \u001b[30m\u001b[49m\u001b[47m \u001b[30m\u001b[49m\u001b[47m \u001b[30m\u001b[49m\u001b[47m \u001b[30m\u001b[49m\u001b[47m \u001b[30m\u001b[49m\u001b[47m \u001b[30m\u001b[49m\u001b[47m \u001b[30m\u001b[49m\u001b[47m \u001b[30m\u001b[49m\u001b[47m \u001b[30m\u001b[49m\u001b[47m \u001b[30m\u001b[49m\u001b[47m \u001b[30m\u001b[49m\u001b[47m \u001b[30m\u001b[49m\u001b[47m \u001b[30m\u001b[49m\u001b[47m \u001b[30m\u001b[49m\u001b[47m \u001b[30m\u001b[49m\u001b[47m \u001b[30m\u001b[49m\u001b[47m \u001b[30m\u001b[49m\u001b[47m \u001b[30m\u001b[49m\u001b[47m \u001b[30m\u001b[49m\u001b[47m \u001b[30m\u001b[49m\u001b[47m \u001b[30m\u001b[49m\u001b[47m \u001b[30m\u001b[49m\u001b[47m \u001b[30m\u001b[49m\u001b[47m \u001b[30m\u001b[49m\u001b[47m \u001b[30m\u001b[49m\u001b[47m \u001b[30m\u001b[49m\u001b[47m \u001b[30m\u001b[49m\u001b[47m \u001b[30m\u001b[49m\u001b[47m \u001b[30m\u001b[49m\u001b[47m \u001b[30m\u001b[49m\u001b[47m \u001b[30m\u001b[49m\u001b[47m \u001b[30m\u001b[49m\u001b[47m \u001b[30m\u001b[49m\u001b[47m \u001b[30m\u001b[49m\u001b[47m \u001b[30m\u001b[49m\u001b[47m \u001b[30m\u001b[49m\u001b[47m \u001b[30m\u001b[49m\u001b[47m \u001b[30m\u001b[49m\u001b[47m \u001b[30m\u001b[49m\u001b[47m \u001b[30m\u001b[49m\u001b[47m \u001b[30m\u001b[49m\u001b[47m \u001b[30m\u001b[49m\u001b[47m \u001b[30m\u001b[49m\u001b[47m \u001b[30m\u001b[49m\u001b[47m \u001b[30m\u001b[49m\u001b[47m \u001b[30m\u001b[49m\u001b[47m \u001b[30m\u001b[49m\u001b[47m \u001b[30m\u001b[49m\u001b[47m \u001b[30m\u001b[49m\u001b[47m \u001b[30m\u001b[49m\u001b[47m \u001b[30m\u001b[49m\u001b[47m \u001b[30m\u001b[49m\u001b[47m \u001b[30m\u001b[49m\u001b[47m \u001b[30m\u001b[49m\u001b[47m \u001b[30m\u001b[49m\u001b[47m \u001b[30m\u001b[49m\u001b[47m \u001b[30m\u001b[49m\u001b[47m \u001b[30m\u001b[49m\u001b[47m \u001b[30m\u001b[49m\u001b[47m \u001b[30m\u001b[49m\u001b[47m \u001b[30m\u001b[49m\u001b[47m \u001b[30m\u001b[49m\u001b[47m \u001b[30m\u001b[49m\u001b[47m \u001b[30m\u001b[49m\u001b[47m \u001b[30m\u001b[49m\u001b[47m \u001b[30m\u001b[49m\u001b[47m \u001b[30m\u001b[49m\u001b[47m \u001b[30m\u001b[49m\u001b[47m \u001b[30m\u001b[49m\u001b[47m \u001b[30m\u001b[49m\u001b[47m \u001b[30m\u001b[49m\u001b[47m \u001b[30m\u001b[49m\u001b[47m \u001b[30m\u001b[49m\u001b[47m \u001b[30m\u001b[49m\u001b[47m \u001b[30m\u001b[49m\u001b[47m \u001b[30m\u001b[49m\u001b[47m \u001b[30m\u001b[49m\u001b[47m \u001b[30m\u001b[49m\u001b[47m \u001b[30m\u001b[49m\u001b[47m \u001b[30m\u001b[49m\u001b[47m \u001b[30m\u001b[49m\u001b[47m \u001b[30m\u001b[49m\u001b[47m \u001b[30m\u001b[49m\u001b[47m \u001b[30m\u001b[49m\u001b[47m \u001b[30m\u001b[49m\u001b[47m \u001b[30m\u001b[49m\u001b[47m \u001b[30m\u001b[49m\u001b[47m \u001b[30m\u001b[49m\u001b[47m \u001b[30m\u001b[49m\u001b[47m \u001b[30m\u001b[49m\u001b[47m \u001b[30m\u001b[49m\u001b[47m \u001b[30m\u001b[49m\u001b[47m \u001b[30m\u001b[49m\u001b[47m \u001b[30m\u001b[49m\u001b[47m \u001b[30m\u001b[49m\u001b[47m \u001b[30m\u001b[49m\u001b[47m \u001b[30m\u001b[49m\u001b[47m \u001b[30m\u001b[49m\u001b[47m \u001b[30m\u001b[49m\u001b[47m \u001b[30m\u001b[49m\u001b[47m \u001b[30m\u001b[49m\u001b[47m \u001b[30m\u001b[49m\u001b[47m \u001b[30m\u001b[49m\u001b[47m \u001b[30m\u001b[49m\u001b[47m \u001b[30m\u001b[49m\u001b[47m \u001b[30m\u001b[49m\u001b[47m \u001b[30m\u001b[49m\u001b[47m \u001b[30m\u001b[49m\u001b[47m \u001b[30m\u001b[49m\u001b[47m \u001b[30m\u001b[49m\u001b[47m \u001b[30m\u001b[49m\u001b[47m \u001b[30m\u001b[49m\u001b[47m \u001b[30m\u001b[49m\u001b[47m \u001b[30m\u001b[49m\u001b[47m \u001b[30m\u001b[49m\u001b[47m \u001b[30m\u001b[49m\u001b[47m \u001b[30m\u001b[49m\u001b[47m \u001b[30m\u001b[49m\u001b[47m \u001b[30m\u001b[49m\u001b[47m \u001b[30m\u001b[49m\n",
            "Subread 13\t \u001b[47m \u001b[30m\u001b[49m\u001b[47m \u001b[30m\u001b[49m\u001b[47m \u001b[30m\u001b[49m\u001b[47m \u001b[30m\u001b[49m\u001b[47m \u001b[30m\u001b[49m\u001b[47m \u001b[30m\u001b[49m\u001b[47m \u001b[30m\u001b[49m\u001b[47m \u001b[30m\u001b[49m\u001b[47m \u001b[30m\u001b[49m\u001b[47m \u001b[30m\u001b[49m\u001b[47m \u001b[30m\u001b[49m\u001b[47m \u001b[30m\u001b[49m\u001b[47m \u001b[30m\u001b[49m\u001b[47m \u001b[30m\u001b[49m\u001b[47m \u001b[30m\u001b[49m\u001b[47m \u001b[30m\u001b[49m\u001b[47m \u001b[30m\u001b[49m\u001b[47m \u001b[30m\u001b[49m\u001b[47m \u001b[30m\u001b[49m\u001b[47m \u001b[30m\u001b[49m\u001b[47m \u001b[30m\u001b[49m\u001b[47m \u001b[30m\u001b[49m\u001b[47m \u001b[30m\u001b[49m\u001b[47m \u001b[30m\u001b[49m\u001b[47m \u001b[30m\u001b[49m\u001b[47m \u001b[30m\u001b[49m\u001b[47m \u001b[30m\u001b[49m\u001b[47m \u001b[30m\u001b[49m\u001b[47m \u001b[30m\u001b[49m\u001b[47m \u001b[30m\u001b[49m\u001b[47m \u001b[30m\u001b[49m\u001b[47m \u001b[30m\u001b[49m\u001b[47m \u001b[30m\u001b[49m\u001b[47m \u001b[30m\u001b[49m\u001b[47m \u001b[30m\u001b[49m\u001b[47m \u001b[30m\u001b[49m\u001b[47m \u001b[30m\u001b[49m\u001b[47m \u001b[30m\u001b[49m\u001b[47m \u001b[30m\u001b[49m\u001b[47m \u001b[30m\u001b[49m\u001b[47m \u001b[30m\u001b[49m\u001b[47m \u001b[30m\u001b[49m\u001b[47m \u001b[30m\u001b[49m\u001b[47m \u001b[30m\u001b[49m\u001b[47m \u001b[30m\u001b[49m\u001b[47m \u001b[30m\u001b[49m\u001b[47m \u001b[30m\u001b[49m\u001b[47m \u001b[30m\u001b[49m\u001b[47m \u001b[30m\u001b[49m\u001b[47m \u001b[30m\u001b[49m\u001b[47m \u001b[30m\u001b[49m\u001b[47m \u001b[30m\u001b[49m\u001b[47m \u001b[30m\u001b[49m\u001b[47m \u001b[30m\u001b[49m\u001b[47m \u001b[30m\u001b[49m\u001b[47m \u001b[30m\u001b[49m\u001b[47m \u001b[30m\u001b[49m\u001b[47m \u001b[30m\u001b[49m\u001b[47m \u001b[30m\u001b[49m\u001b[47m \u001b[30m\u001b[49m\u001b[47m \u001b[30m\u001b[49m\u001b[47m \u001b[30m\u001b[49m\u001b[47m \u001b[30m\u001b[49m\u001b[47m \u001b[30m\u001b[49m\u001b[47m \u001b[30m\u001b[49m\u001b[47m \u001b[30m\u001b[49m\u001b[47m \u001b[30m\u001b[49m\u001b[47m \u001b[30m\u001b[49m\u001b[47m \u001b[30m\u001b[49m\u001b[47m \u001b[30m\u001b[49m\u001b[47m \u001b[30m\u001b[49m\u001b[47m \u001b[30m\u001b[49m\u001b[47m \u001b[30m\u001b[49m\u001b[47m \u001b[30m\u001b[49m\u001b[47m \u001b[30m\u001b[49m\u001b[47m \u001b[30m\u001b[49m\u001b[47m \u001b[30m\u001b[49m\u001b[47m \u001b[30m\u001b[49m\u001b[47m \u001b[30m\u001b[49m\u001b[47m \u001b[30m\u001b[49m\u001b[47m \u001b[30m\u001b[49m\u001b[47m \u001b[30m\u001b[49m\u001b[47m \u001b[30m\u001b[49m\u001b[47m \u001b[30m\u001b[49m\u001b[47m \u001b[30m\u001b[49m\u001b[47m \u001b[30m\u001b[49m\u001b[47m \u001b[30m\u001b[49m\u001b[47m \u001b[30m\u001b[49m\u001b[47m \u001b[30m\u001b[49m\u001b[47m \u001b[30m\u001b[49m\u001b[47m \u001b[30m\u001b[49m\u001b[47m \u001b[30m\u001b[49m\u001b[47m \u001b[30m\u001b[49m\u001b[47m \u001b[30m\u001b[49m\u001b[47m \u001b[30m\u001b[49m\u001b[47m \u001b[30m\u001b[49m\u001b[47m \u001b[30m\u001b[49m\u001b[47m \u001b[30m\u001b[49m\u001b[47m \u001b[30m\u001b[49m\u001b[47m \u001b[30m\u001b[49m\u001b[47m \u001b[30m\u001b[49m\u001b[47m \u001b[30m\u001b[49m\u001b[47m \u001b[30m\u001b[49m\u001b[47m \u001b[30m\u001b[49m\u001b[47m \u001b[30m\u001b[49m\u001b[47m \u001b[30m\u001b[49m\u001b[47m \u001b[30m\u001b[49m\u001b[47m \u001b[30m\u001b[49m\u001b[47m \u001b[30m\u001b[49m\u001b[47m \u001b[30m\u001b[49m\u001b[47m \u001b[30m\u001b[49m\u001b[47m \u001b[30m\u001b[49m\u001b[47m \u001b[30m\u001b[49m\u001b[47m \u001b[30m\u001b[49m\u001b[47m \u001b[30m\u001b[49m\u001b[47m \u001b[30m\u001b[49m\u001b[47m \u001b[30m\u001b[49m\u001b[47m \u001b[30m\u001b[49m\u001b[47m \u001b[30m\u001b[49m\u001b[47m \u001b[30m\u001b[49m\n",
            "Subread 14\t \u001b[47m \u001b[30m\u001b[49m\u001b[47m \u001b[30m\u001b[49m\u001b[47m \u001b[30m\u001b[49m\u001b[47m \u001b[30m\u001b[49m\u001b[47m \u001b[30m\u001b[49m\u001b[47m \u001b[30m\u001b[49m\u001b[47m \u001b[30m\u001b[49m\u001b[47m \u001b[30m\u001b[49m\u001b[47m \u001b[30m\u001b[49m\u001b[47m \u001b[30m\u001b[49m\u001b[47m \u001b[30m\u001b[49m\u001b[47m \u001b[30m\u001b[49m\u001b[47m \u001b[30m\u001b[49m\u001b[47m \u001b[30m\u001b[49m\u001b[47m \u001b[30m\u001b[49m\u001b[47m \u001b[30m\u001b[49m\u001b[47m \u001b[30m\u001b[49m\u001b[47m \u001b[30m\u001b[49m\u001b[47m \u001b[30m\u001b[49m\u001b[47m \u001b[30m\u001b[49m\u001b[47m \u001b[30m\u001b[49m\u001b[47m \u001b[30m\u001b[49m\u001b[47m \u001b[30m\u001b[49m\u001b[47m \u001b[30m\u001b[49m\u001b[47m \u001b[30m\u001b[49m\u001b[47m \u001b[30m\u001b[49m\u001b[47m \u001b[30m\u001b[49m\u001b[47m \u001b[30m\u001b[49m\u001b[47m \u001b[30m\u001b[49m\u001b[47m \u001b[30m\u001b[49m\u001b[47m \u001b[30m\u001b[49m\u001b[47m \u001b[30m\u001b[49m\u001b[47m \u001b[30m\u001b[49m\u001b[47m \u001b[30m\u001b[49m\u001b[47m \u001b[30m\u001b[49m\u001b[47m \u001b[30m\u001b[49m\u001b[47m \u001b[30m\u001b[49m\u001b[47m \u001b[30m\u001b[49m\u001b[47m \u001b[30m\u001b[49m\u001b[47m \u001b[30m\u001b[49m\u001b[47m \u001b[30m\u001b[49m\u001b[47m \u001b[30m\u001b[49m\u001b[47m \u001b[30m\u001b[49m\u001b[47m \u001b[30m\u001b[49m\u001b[47m \u001b[30m\u001b[49m\u001b[47m \u001b[30m\u001b[49m\u001b[47m \u001b[30m\u001b[49m\u001b[47m \u001b[30m\u001b[49m\u001b[47m \u001b[30m\u001b[49m\u001b[47m \u001b[30m\u001b[49m\u001b[47m \u001b[30m\u001b[49m\u001b[47m \u001b[30m\u001b[49m\u001b[47m \u001b[30m\u001b[49m\u001b[47m \u001b[30m\u001b[49m\u001b[47m \u001b[30m\u001b[49m\u001b[47m \u001b[30m\u001b[49m\u001b[47m \u001b[30m\u001b[49m\u001b[47m \u001b[30m\u001b[49m\u001b[47m \u001b[30m\u001b[49m\u001b[47m \u001b[30m\u001b[49m\u001b[47m \u001b[30m\u001b[49m\u001b[47m \u001b[30m\u001b[49m\u001b[47m \u001b[30m\u001b[49m\u001b[47m \u001b[30m\u001b[49m\u001b[47m \u001b[30m\u001b[49m\u001b[47m \u001b[30m\u001b[49m\u001b[47m \u001b[30m\u001b[49m\u001b[47m \u001b[30m\u001b[49m\u001b[47m \u001b[30m\u001b[49m\u001b[47m \u001b[30m\u001b[49m\u001b[47m \u001b[30m\u001b[49m\u001b[47m \u001b[30m\u001b[49m\u001b[47m \u001b[30m\u001b[49m\u001b[47m \u001b[30m\u001b[49m\u001b[47m \u001b[30m\u001b[49m\u001b[47m \u001b[30m\u001b[49m\u001b[47m \u001b[30m\u001b[49m\u001b[47m \u001b[30m\u001b[49m\u001b[47m \u001b[30m\u001b[49m\u001b[47m \u001b[30m\u001b[49m\u001b[47m \u001b[30m\u001b[49m\u001b[47m \u001b[30m\u001b[49m\u001b[47m \u001b[30m\u001b[49m\u001b[47m \u001b[30m\u001b[49m\u001b[47m \u001b[30m\u001b[49m\u001b[47m \u001b[30m\u001b[49m\u001b[47m \u001b[30m\u001b[49m\u001b[47m \u001b[30m\u001b[49m\u001b[47m \u001b[30m\u001b[49m\u001b[47m \u001b[30m\u001b[49m\u001b[47m \u001b[30m\u001b[49m\u001b[47m \u001b[30m\u001b[49m\u001b[47m \u001b[30m\u001b[49m\u001b[47m \u001b[30m\u001b[49m\u001b[47m \u001b[30m\u001b[49m\u001b[47m \u001b[30m\u001b[49m\u001b[47m \u001b[30m\u001b[49m\u001b[47m \u001b[30m\u001b[49m\u001b[47m \u001b[30m\u001b[49m\u001b[47m \u001b[30m\u001b[49m\u001b[47m \u001b[30m\u001b[49m\u001b[47m \u001b[30m\u001b[49m\u001b[47m \u001b[30m\u001b[49m\u001b[47m \u001b[30m\u001b[49m\u001b[47m \u001b[30m\u001b[49m\u001b[47m \u001b[30m\u001b[49m\u001b[47m \u001b[30m\u001b[49m\u001b[47m \u001b[30m\u001b[49m\u001b[47m \u001b[30m\u001b[49m\u001b[47m \u001b[30m\u001b[49m\u001b[47m \u001b[30m\u001b[49m\u001b[47m \u001b[30m\u001b[49m\u001b[47m \u001b[30m\u001b[49m\u001b[47m \u001b[30m\u001b[49m\u001b[47m \u001b[30m\u001b[49m\u001b[47m \u001b[30m\u001b[49m\u001b[47m \u001b[30m\u001b[49m\u001b[47m \u001b[30m\u001b[49m\u001b[47m \u001b[30m\u001b[49m\u001b[47m \u001b[30m\u001b[49m\n",
            "Subread 15\t \u001b[47m \u001b[30m\u001b[49m\u001b[47m \u001b[30m\u001b[49m\u001b[47m \u001b[30m\u001b[49m\u001b[47m \u001b[30m\u001b[49m\u001b[47m \u001b[30m\u001b[49m\u001b[47m \u001b[30m\u001b[49m\u001b[47m \u001b[30m\u001b[49m\u001b[47m \u001b[30m\u001b[49m\u001b[47m \u001b[30m\u001b[49m\u001b[47m \u001b[30m\u001b[49m\u001b[47m \u001b[30m\u001b[49m\u001b[47m \u001b[30m\u001b[49m\u001b[47m \u001b[30m\u001b[49m\u001b[47m \u001b[30m\u001b[49m\u001b[47m \u001b[30m\u001b[49m\u001b[47m \u001b[30m\u001b[49m\u001b[47m \u001b[30m\u001b[49m\u001b[47m \u001b[30m\u001b[49m\u001b[47m \u001b[30m\u001b[49m\u001b[47m \u001b[30m\u001b[49m\u001b[47m \u001b[30m\u001b[49m\u001b[47m \u001b[30m\u001b[49m\u001b[47m \u001b[30m\u001b[49m\u001b[47m \u001b[30m\u001b[49m\u001b[47m \u001b[30m\u001b[49m\u001b[47m \u001b[30m\u001b[49m\u001b[47m \u001b[30m\u001b[49m\u001b[47m \u001b[30m\u001b[49m\u001b[47m \u001b[30m\u001b[49m\u001b[47m \u001b[30m\u001b[49m\u001b[47m \u001b[30m\u001b[49m\u001b[47m \u001b[30m\u001b[49m\u001b[47m \u001b[30m\u001b[49m\u001b[47m \u001b[30m\u001b[49m\u001b[47m \u001b[30m\u001b[49m\u001b[47m \u001b[30m\u001b[49m\u001b[47m \u001b[30m\u001b[49m\u001b[47m \u001b[30m\u001b[49m\u001b[47m \u001b[30m\u001b[49m\u001b[47m \u001b[30m\u001b[49m\u001b[47m \u001b[30m\u001b[49m\u001b[47m \u001b[30m\u001b[49m\u001b[47m \u001b[30m\u001b[49m\u001b[47m \u001b[30m\u001b[49m\u001b[47m \u001b[30m\u001b[49m\u001b[47m \u001b[30m\u001b[49m\u001b[47m \u001b[30m\u001b[49m\u001b[47m \u001b[30m\u001b[49m\u001b[47m \u001b[30m\u001b[49m\u001b[47m \u001b[30m\u001b[49m\u001b[47m \u001b[30m\u001b[49m\u001b[47m \u001b[30m\u001b[49m\u001b[47m \u001b[30m\u001b[49m\u001b[47m \u001b[30m\u001b[49m\u001b[47m \u001b[30m\u001b[49m\u001b[47m \u001b[30m\u001b[49m\u001b[47m \u001b[30m\u001b[49m\u001b[47m \u001b[30m\u001b[49m\u001b[47m \u001b[30m\u001b[49m\u001b[47m \u001b[30m\u001b[49m\u001b[47m \u001b[30m\u001b[49m\u001b[47m \u001b[30m\u001b[49m\u001b[47m \u001b[30m\u001b[49m\u001b[47m \u001b[30m\u001b[49m\u001b[47m \u001b[30m\u001b[49m\u001b[47m \u001b[30m\u001b[49m\u001b[47m \u001b[30m\u001b[49m\u001b[47m \u001b[30m\u001b[49m\u001b[47m \u001b[30m\u001b[49m\u001b[47m \u001b[30m\u001b[49m\u001b[47m \u001b[30m\u001b[49m\u001b[47m \u001b[30m\u001b[49m\u001b[47m \u001b[30m\u001b[49m\u001b[47m \u001b[30m\u001b[49m\u001b[47m \u001b[30m\u001b[49m\u001b[47m \u001b[30m\u001b[49m\u001b[47m \u001b[30m\u001b[49m\u001b[47m \u001b[30m\u001b[49m\u001b[47m \u001b[30m\u001b[49m\u001b[47m \u001b[30m\u001b[49m\u001b[47m \u001b[30m\u001b[49m\u001b[47m \u001b[30m\u001b[49m\u001b[47m \u001b[30m\u001b[49m\u001b[47m \u001b[30m\u001b[49m\u001b[47m \u001b[30m\u001b[49m\u001b[47m \u001b[30m\u001b[49m\u001b[47m \u001b[30m\u001b[49m\u001b[47m \u001b[30m\u001b[49m\u001b[47m \u001b[30m\u001b[49m\u001b[47m \u001b[30m\u001b[49m\u001b[47m \u001b[30m\u001b[49m\u001b[47m \u001b[30m\u001b[49m\u001b[47m \u001b[30m\u001b[49m\u001b[47m \u001b[30m\u001b[49m\u001b[47m \u001b[30m\u001b[49m\u001b[47m \u001b[30m\u001b[49m\u001b[47m \u001b[30m\u001b[49m\u001b[47m \u001b[30m\u001b[49m\u001b[47m \u001b[30m\u001b[49m\u001b[47m \u001b[30m\u001b[49m\u001b[47m \u001b[30m\u001b[49m\u001b[47m \u001b[30m\u001b[49m\u001b[47m \u001b[30m\u001b[49m\u001b[47m \u001b[30m\u001b[49m\u001b[47m \u001b[30m\u001b[49m\u001b[47m \u001b[30m\u001b[49m\u001b[47m \u001b[30m\u001b[49m\u001b[47m \u001b[30m\u001b[49m\u001b[47m \u001b[30m\u001b[49m\u001b[47m \u001b[30m\u001b[49m\u001b[47m \u001b[30m\u001b[49m\u001b[47m \u001b[30m\u001b[49m\u001b[47m \u001b[30m\u001b[49m\u001b[47m \u001b[30m\u001b[49m\u001b[47m \u001b[30m\u001b[49m\u001b[47m \u001b[30m\u001b[49m\u001b[47m \u001b[30m\u001b[49m\u001b[47m \u001b[30m\u001b[49m\u001b[47m \u001b[30m\u001b[49m\u001b[47m \u001b[30m\u001b[49m\n",
            "Subread 16\t \u001b[47m \u001b[30m\u001b[49m\u001b[47m \u001b[30m\u001b[49m\u001b[47m \u001b[30m\u001b[49m\u001b[47m \u001b[30m\u001b[49m\u001b[47m \u001b[30m\u001b[49m\u001b[47m \u001b[30m\u001b[49m\u001b[47m \u001b[30m\u001b[49m\u001b[47m \u001b[30m\u001b[49m\u001b[47m \u001b[30m\u001b[49m\u001b[47m \u001b[30m\u001b[49m\u001b[47m \u001b[30m\u001b[49m\u001b[47m \u001b[30m\u001b[49m\u001b[47m \u001b[30m\u001b[49m\u001b[47m \u001b[30m\u001b[49m\u001b[47m \u001b[30m\u001b[49m\u001b[47m \u001b[30m\u001b[49m\u001b[47m \u001b[30m\u001b[49m\u001b[47m \u001b[30m\u001b[49m\u001b[47m \u001b[30m\u001b[49m\u001b[47m \u001b[30m\u001b[49m\u001b[47m \u001b[30m\u001b[49m\u001b[47m \u001b[30m\u001b[49m\u001b[47m \u001b[30m\u001b[49m\u001b[47m \u001b[30m\u001b[49m\u001b[47m \u001b[30m\u001b[49m\u001b[47m \u001b[30m\u001b[49m\u001b[47m \u001b[30m\u001b[49m\u001b[47m \u001b[30m\u001b[49m\u001b[47m \u001b[30m\u001b[49m\u001b[47m \u001b[30m\u001b[49m\u001b[47m \u001b[30m\u001b[49m\u001b[47m \u001b[30m\u001b[49m\u001b[47m \u001b[30m\u001b[49m\u001b[47m \u001b[30m\u001b[49m\u001b[47m \u001b[30m\u001b[49m\u001b[47m \u001b[30m\u001b[49m\u001b[47m \u001b[30m\u001b[49m\u001b[47m \u001b[30m\u001b[49m\u001b[47m \u001b[30m\u001b[49m\u001b[47m \u001b[30m\u001b[49m\u001b[47m \u001b[30m\u001b[49m\u001b[47m \u001b[30m\u001b[49m\u001b[47m \u001b[30m\u001b[49m\u001b[47m \u001b[30m\u001b[49m\u001b[47m \u001b[30m\u001b[49m\u001b[47m \u001b[30m\u001b[49m\u001b[47m \u001b[30m\u001b[49m\u001b[47m \u001b[30m\u001b[49m\u001b[47m \u001b[30m\u001b[49m\u001b[47m \u001b[30m\u001b[49m\u001b[47m \u001b[30m\u001b[49m\u001b[47m \u001b[30m\u001b[49m\u001b[47m \u001b[30m\u001b[49m\u001b[47m \u001b[30m\u001b[49m\u001b[47m \u001b[30m\u001b[49m\u001b[47m \u001b[30m\u001b[49m\u001b[47m \u001b[30m\u001b[49m\u001b[47m \u001b[30m\u001b[49m\u001b[47m \u001b[30m\u001b[49m\u001b[47m \u001b[30m\u001b[49m\u001b[47m \u001b[30m\u001b[49m\u001b[47m \u001b[30m\u001b[49m\u001b[47m \u001b[30m\u001b[49m\u001b[47m \u001b[30m\u001b[49m\u001b[47m \u001b[30m\u001b[49m\u001b[47m \u001b[30m\u001b[49m\u001b[47m \u001b[30m\u001b[49m\u001b[47m \u001b[30m\u001b[49m\u001b[47m \u001b[30m\u001b[49m\u001b[47m \u001b[30m\u001b[49m\u001b[47m \u001b[30m\u001b[49m\u001b[47m \u001b[30m\u001b[49m\u001b[47m \u001b[30m\u001b[49m\u001b[47m \u001b[30m\u001b[49m\u001b[47m \u001b[30m\u001b[49m\u001b[47m \u001b[30m\u001b[49m\u001b[47m \u001b[30m\u001b[49m\u001b[47m \u001b[30m\u001b[49m\u001b[47m \u001b[30m\u001b[49m\u001b[47m \u001b[30m\u001b[49m\u001b[47m \u001b[30m\u001b[49m\u001b[47m \u001b[30m\u001b[49m\u001b[47m \u001b[30m\u001b[49m\u001b[47m \u001b[30m\u001b[49m\u001b[47m \u001b[30m\u001b[49m\u001b[47m \u001b[30m\u001b[49m\u001b[47m \u001b[30m\u001b[49m\u001b[47m \u001b[30m\u001b[49m\u001b[47m \u001b[30m\u001b[49m\u001b[47m \u001b[30m\u001b[49m\u001b[47m \u001b[30m\u001b[49m\u001b[47m \u001b[30m\u001b[49m\u001b[47m \u001b[30m\u001b[49m\u001b[47m \u001b[30m\u001b[49m\u001b[47m \u001b[30m\u001b[49m\u001b[47m \u001b[30m\u001b[49m\u001b[47m \u001b[30m\u001b[49m\u001b[47m \u001b[30m\u001b[49m\u001b[47m \u001b[30m\u001b[49m\u001b[47m \u001b[30m\u001b[49m\u001b[47m \u001b[30m\u001b[49m\u001b[47m \u001b[30m\u001b[49m\u001b[47m \u001b[30m\u001b[49m\u001b[47m \u001b[30m\u001b[49m\u001b[47m \u001b[30m\u001b[49m\u001b[47m \u001b[30m\u001b[49m\u001b[47m \u001b[30m\u001b[49m\u001b[47m \u001b[30m\u001b[49m\u001b[47m \u001b[30m\u001b[49m\u001b[47m \u001b[30m\u001b[49m\u001b[47m \u001b[30m\u001b[49m\u001b[47m \u001b[30m\u001b[49m\u001b[47m \u001b[30m\u001b[49m\u001b[47m \u001b[30m\u001b[49m\u001b[47m \u001b[30m\u001b[49m\u001b[47m \u001b[30m\u001b[49m\u001b[47m \u001b[30m\u001b[49m\u001b[47m \u001b[30m\u001b[49m\u001b[47m \u001b[30m\u001b[49m\u001b[47m \u001b[30m\u001b[49m\n",
            "Subread 17\t \u001b[47m \u001b[30m\u001b[49m\u001b[47m \u001b[30m\u001b[49m\u001b[47m \u001b[30m\u001b[49m\u001b[47m \u001b[30m\u001b[49m\u001b[47m \u001b[30m\u001b[49m\u001b[47m \u001b[30m\u001b[49m\u001b[47m \u001b[30m\u001b[49m\u001b[47m \u001b[30m\u001b[49m\u001b[47m \u001b[30m\u001b[49m\u001b[47m \u001b[30m\u001b[49m\u001b[47m \u001b[30m\u001b[49m\u001b[47m \u001b[30m\u001b[49m\u001b[47m \u001b[30m\u001b[49m\u001b[47m \u001b[30m\u001b[49m\u001b[47m \u001b[30m\u001b[49m\u001b[47m \u001b[30m\u001b[49m\u001b[47m \u001b[30m\u001b[49m\u001b[47m \u001b[30m\u001b[49m\u001b[47m \u001b[30m\u001b[49m\u001b[47m \u001b[30m\u001b[49m\u001b[47m \u001b[30m\u001b[49m\u001b[47m \u001b[30m\u001b[49m\u001b[47m \u001b[30m\u001b[49m\u001b[47m \u001b[30m\u001b[49m\u001b[47m \u001b[30m\u001b[49m\u001b[47m \u001b[30m\u001b[49m\u001b[47m \u001b[30m\u001b[49m\u001b[47m \u001b[30m\u001b[49m\u001b[47m \u001b[30m\u001b[49m\u001b[47m \u001b[30m\u001b[49m\u001b[47m \u001b[30m\u001b[49m\u001b[47m \u001b[30m\u001b[49m\u001b[47m \u001b[30m\u001b[49m\u001b[47m \u001b[30m\u001b[49m\u001b[47m \u001b[30m\u001b[49m\u001b[47m \u001b[30m\u001b[49m\u001b[47m \u001b[30m\u001b[49m\u001b[47m \u001b[30m\u001b[49m\u001b[47m \u001b[30m\u001b[49m\u001b[47m \u001b[30m\u001b[49m\u001b[47m \u001b[30m\u001b[49m\u001b[47m \u001b[30m\u001b[49m\u001b[47m \u001b[30m\u001b[49m\u001b[47m \u001b[30m\u001b[49m\u001b[47m \u001b[30m\u001b[49m\u001b[47m \u001b[30m\u001b[49m\u001b[47m \u001b[30m\u001b[49m\u001b[47m \u001b[30m\u001b[49m\u001b[47m \u001b[30m\u001b[49m\u001b[47m \u001b[30m\u001b[49m\u001b[47m \u001b[30m\u001b[49m\u001b[47m \u001b[30m\u001b[49m\u001b[47m \u001b[30m\u001b[49m\u001b[47m \u001b[30m\u001b[49m\u001b[47m \u001b[30m\u001b[49m\u001b[47m \u001b[30m\u001b[49m\u001b[47m \u001b[30m\u001b[49m\u001b[47m \u001b[30m\u001b[49m\u001b[47m \u001b[30m\u001b[49m\u001b[47m \u001b[30m\u001b[49m\u001b[47m \u001b[30m\u001b[49m\u001b[47m \u001b[30m\u001b[49m\u001b[47m \u001b[30m\u001b[49m\u001b[47m \u001b[30m\u001b[49m\u001b[47m \u001b[30m\u001b[49m\u001b[47m \u001b[30m\u001b[49m\u001b[47m \u001b[30m\u001b[49m\u001b[47m \u001b[30m\u001b[49m\u001b[47m \u001b[30m\u001b[49m\u001b[47m \u001b[30m\u001b[49m\u001b[47m \u001b[30m\u001b[49m\u001b[47m \u001b[30m\u001b[49m\u001b[47m \u001b[30m\u001b[49m\u001b[47m \u001b[30m\u001b[49m\u001b[47m \u001b[30m\u001b[49m\u001b[47m \u001b[30m\u001b[49m\u001b[47m \u001b[30m\u001b[49m\u001b[47m \u001b[30m\u001b[49m\u001b[47m \u001b[30m\u001b[49m\u001b[47m \u001b[30m\u001b[49m\u001b[47m \u001b[30m\u001b[49m\u001b[47m \u001b[30m\u001b[49m\u001b[47m \u001b[30m\u001b[49m\u001b[47m \u001b[30m\u001b[49m\u001b[47m \u001b[30m\u001b[49m\u001b[47m \u001b[30m\u001b[49m\u001b[47m \u001b[30m\u001b[49m\u001b[47m \u001b[30m\u001b[49m\u001b[47m \u001b[30m\u001b[49m\u001b[47m \u001b[30m\u001b[49m\u001b[47m \u001b[30m\u001b[49m\u001b[47m \u001b[30m\u001b[49m\u001b[47m \u001b[30m\u001b[49m\u001b[47m \u001b[30m\u001b[49m\u001b[47m \u001b[30m\u001b[49m\u001b[47m \u001b[30m\u001b[49m\u001b[47m \u001b[30m\u001b[49m\u001b[47m \u001b[30m\u001b[49m\u001b[47m \u001b[30m\u001b[49m\u001b[47m \u001b[30m\u001b[49m\u001b[47m \u001b[30m\u001b[49m\u001b[47m \u001b[30m\u001b[49m\u001b[47m \u001b[30m\u001b[49m\u001b[47m \u001b[30m\u001b[49m\u001b[47m \u001b[30m\u001b[49m\u001b[47m \u001b[30m\u001b[49m\u001b[47m \u001b[30m\u001b[49m\u001b[47m \u001b[30m\u001b[49m\u001b[47m \u001b[30m\u001b[49m\u001b[47m \u001b[30m\u001b[49m\u001b[47m \u001b[30m\u001b[49m\u001b[47m \u001b[30m\u001b[49m\u001b[47m \u001b[30m\u001b[49m\u001b[47m \u001b[30m\u001b[49m\u001b[47m \u001b[30m\u001b[49m\u001b[47m \u001b[30m\u001b[49m\u001b[47m \u001b[30m\u001b[49m\u001b[47m \u001b[30m\u001b[49m\u001b[47m \u001b[30m\u001b[49m\u001b[47m \u001b[30m\u001b[49m\n",
            "Subread 18\t \u001b[47m \u001b[30m\u001b[49m\u001b[47m \u001b[30m\u001b[49m\u001b[47m \u001b[30m\u001b[49m\u001b[47m \u001b[30m\u001b[49m\u001b[47m \u001b[30m\u001b[49m\u001b[47m \u001b[30m\u001b[49m\u001b[47m \u001b[30m\u001b[49m\u001b[47m \u001b[30m\u001b[49m\u001b[47m \u001b[30m\u001b[49m\u001b[47m \u001b[30m\u001b[49m\u001b[47m \u001b[30m\u001b[49m\u001b[47m \u001b[30m\u001b[49m\u001b[47m \u001b[30m\u001b[49m\u001b[47m \u001b[30m\u001b[49m\u001b[47m \u001b[30m\u001b[49m\u001b[47m \u001b[30m\u001b[49m\u001b[47m \u001b[30m\u001b[49m\u001b[47m \u001b[30m\u001b[49m\u001b[47m \u001b[30m\u001b[49m\u001b[47m \u001b[30m\u001b[49m\u001b[47m \u001b[30m\u001b[49m\u001b[47m \u001b[30m\u001b[49m\u001b[47m \u001b[30m\u001b[49m\u001b[47m \u001b[30m\u001b[49m\u001b[47m \u001b[30m\u001b[49m\u001b[47m \u001b[30m\u001b[49m\u001b[47m \u001b[30m\u001b[49m\u001b[47m \u001b[30m\u001b[49m\u001b[47m \u001b[30m\u001b[49m\u001b[47m \u001b[30m\u001b[49m\u001b[47m \u001b[30m\u001b[49m\u001b[47m \u001b[30m\u001b[49m\u001b[47m \u001b[30m\u001b[49m\u001b[47m \u001b[30m\u001b[49m\u001b[47m \u001b[30m\u001b[49m\u001b[47m \u001b[30m\u001b[49m\u001b[47m \u001b[30m\u001b[49m\u001b[47m \u001b[30m\u001b[49m\u001b[47m \u001b[30m\u001b[49m\u001b[47m \u001b[30m\u001b[49m\u001b[47m \u001b[30m\u001b[49m\u001b[47m \u001b[30m\u001b[49m\u001b[47m \u001b[30m\u001b[49m\u001b[47m \u001b[30m\u001b[49m\u001b[47m \u001b[30m\u001b[49m\u001b[47m \u001b[30m\u001b[49m\u001b[47m \u001b[30m\u001b[49m\u001b[47m \u001b[30m\u001b[49m\u001b[47m \u001b[30m\u001b[49m\u001b[47m \u001b[30m\u001b[49m\u001b[47m \u001b[30m\u001b[49m\u001b[47m \u001b[30m\u001b[49m\u001b[47m \u001b[30m\u001b[49m\u001b[47m \u001b[30m\u001b[49m\u001b[47m \u001b[30m\u001b[49m\u001b[47m \u001b[30m\u001b[49m\u001b[47m \u001b[30m\u001b[49m\u001b[47m \u001b[30m\u001b[49m\u001b[47m \u001b[30m\u001b[49m\u001b[47m \u001b[30m\u001b[49m\u001b[47m \u001b[30m\u001b[49m\u001b[47m \u001b[30m\u001b[49m\u001b[47m \u001b[30m\u001b[49m\u001b[47m \u001b[30m\u001b[49m\u001b[47m \u001b[30m\u001b[49m\u001b[47m \u001b[30m\u001b[49m\u001b[47m \u001b[30m\u001b[49m\u001b[47m \u001b[30m\u001b[49m\u001b[47m \u001b[30m\u001b[49m\u001b[47m \u001b[30m\u001b[49m\u001b[47m \u001b[30m\u001b[49m\u001b[47m \u001b[30m\u001b[49m\u001b[47m \u001b[30m\u001b[49m\u001b[47m \u001b[30m\u001b[49m\u001b[47m \u001b[30m\u001b[49m\u001b[47m \u001b[30m\u001b[49m\u001b[47m \u001b[30m\u001b[49m\u001b[47m \u001b[30m\u001b[49m\u001b[47m \u001b[30m\u001b[49m\u001b[47m \u001b[30m\u001b[49m\u001b[47m \u001b[30m\u001b[49m\u001b[47m \u001b[30m\u001b[49m\u001b[47m \u001b[30m\u001b[49m\u001b[47m \u001b[30m\u001b[49m\u001b[47m \u001b[30m\u001b[49m\u001b[47m \u001b[30m\u001b[49m\u001b[47m \u001b[30m\u001b[49m\u001b[47m \u001b[30m\u001b[49m\u001b[47m \u001b[30m\u001b[49m\u001b[47m \u001b[30m\u001b[49m\u001b[47m \u001b[30m\u001b[49m\u001b[47m \u001b[30m\u001b[49m\u001b[47m \u001b[30m\u001b[49m\u001b[47m \u001b[30m\u001b[49m\u001b[47m \u001b[30m\u001b[49m\u001b[47m \u001b[30m\u001b[49m\u001b[47m \u001b[30m\u001b[49m\u001b[47m \u001b[30m\u001b[49m\u001b[47m \u001b[30m\u001b[49m\u001b[47m \u001b[30m\u001b[49m\u001b[47m \u001b[30m\u001b[49m\u001b[47m \u001b[30m\u001b[49m\u001b[47m \u001b[30m\u001b[49m\u001b[47m \u001b[30m\u001b[49m\u001b[47m \u001b[30m\u001b[49m\u001b[47m \u001b[30m\u001b[49m\u001b[47m \u001b[30m\u001b[49m\u001b[47m \u001b[30m\u001b[49m\u001b[47m \u001b[30m\u001b[49m\u001b[47m \u001b[30m\u001b[49m\u001b[47m \u001b[30m\u001b[49m\u001b[47m \u001b[30m\u001b[49m\u001b[47m \u001b[30m\u001b[49m\u001b[47m \u001b[30m\u001b[49m\u001b[47m \u001b[30m\u001b[49m\u001b[47m \u001b[30m\u001b[49m\u001b[47m \u001b[30m\u001b[49m\u001b[47m \u001b[30m\u001b[49m\u001b[47m \u001b[30m\u001b[49m\u001b[47m \u001b[30m\u001b[49m\n",
            "Subread 19\t \u001b[47m \u001b[30m\u001b[49m\u001b[47m \u001b[30m\u001b[49m\u001b[47m \u001b[30m\u001b[49m\u001b[47m \u001b[30m\u001b[49m\u001b[47m \u001b[30m\u001b[49m\u001b[47m \u001b[30m\u001b[49m\u001b[47m \u001b[30m\u001b[49m\u001b[47m \u001b[30m\u001b[49m\u001b[47m \u001b[30m\u001b[49m\u001b[47m \u001b[30m\u001b[49m\u001b[47m \u001b[30m\u001b[49m\u001b[47m \u001b[30m\u001b[49m\u001b[47m \u001b[30m\u001b[49m\u001b[47m \u001b[30m\u001b[49m\u001b[47m \u001b[30m\u001b[49m\u001b[47m \u001b[30m\u001b[49m\u001b[47m \u001b[30m\u001b[49m\u001b[47m \u001b[30m\u001b[49m\u001b[47m \u001b[30m\u001b[49m\u001b[47m \u001b[30m\u001b[49m\u001b[47m \u001b[30m\u001b[49m\u001b[47m \u001b[30m\u001b[49m\u001b[47m \u001b[30m\u001b[49m\u001b[47m \u001b[30m\u001b[49m\u001b[47m \u001b[30m\u001b[49m\u001b[47m \u001b[30m\u001b[49m\u001b[47m \u001b[30m\u001b[49m\u001b[47m \u001b[30m\u001b[49m\u001b[47m \u001b[30m\u001b[49m\u001b[47m \u001b[30m\u001b[49m\u001b[47m \u001b[30m\u001b[49m\u001b[47m \u001b[30m\u001b[49m\u001b[47m \u001b[30m\u001b[49m\u001b[47m \u001b[30m\u001b[49m\u001b[47m \u001b[30m\u001b[49m\u001b[47m \u001b[30m\u001b[49m\u001b[47m \u001b[30m\u001b[49m\u001b[47m \u001b[30m\u001b[49m\u001b[47m \u001b[30m\u001b[49m\u001b[47m \u001b[30m\u001b[49m\u001b[47m \u001b[30m\u001b[49m\u001b[47m \u001b[30m\u001b[49m\u001b[47m \u001b[30m\u001b[49m\u001b[47m \u001b[30m\u001b[49m\u001b[47m \u001b[30m\u001b[49m\u001b[47m \u001b[30m\u001b[49m\u001b[47m \u001b[30m\u001b[49m\u001b[47m \u001b[30m\u001b[49m\u001b[47m \u001b[30m\u001b[49m\u001b[47m \u001b[30m\u001b[49m\u001b[47m \u001b[30m\u001b[49m\u001b[47m \u001b[30m\u001b[49m\u001b[47m \u001b[30m\u001b[49m\u001b[47m \u001b[30m\u001b[49m\u001b[47m \u001b[30m\u001b[49m\u001b[47m \u001b[30m\u001b[49m\u001b[47m \u001b[30m\u001b[49m\u001b[47m \u001b[30m\u001b[49m\u001b[47m \u001b[30m\u001b[49m\u001b[47m \u001b[30m\u001b[49m\u001b[47m \u001b[30m\u001b[49m\u001b[47m \u001b[30m\u001b[49m\u001b[47m \u001b[30m\u001b[49m\u001b[47m \u001b[30m\u001b[49m\u001b[47m \u001b[30m\u001b[49m\u001b[47m \u001b[30m\u001b[49m\u001b[47m \u001b[30m\u001b[49m\u001b[47m \u001b[30m\u001b[49m\u001b[47m \u001b[30m\u001b[49m\u001b[47m \u001b[30m\u001b[49m\u001b[47m \u001b[30m\u001b[49m\u001b[47m \u001b[30m\u001b[49m\u001b[47m \u001b[30m\u001b[49m\u001b[47m \u001b[30m\u001b[49m\u001b[47m \u001b[30m\u001b[49m\u001b[47m \u001b[30m\u001b[49m\u001b[47m \u001b[30m\u001b[49m\u001b[47m \u001b[30m\u001b[49m\u001b[47m \u001b[30m\u001b[49m\u001b[47m \u001b[30m\u001b[49m\u001b[47m \u001b[30m\u001b[49m\u001b[47m \u001b[30m\u001b[49m\u001b[47m \u001b[30m\u001b[49m\u001b[47m \u001b[30m\u001b[49m\u001b[47m \u001b[30m\u001b[49m\u001b[47m \u001b[30m\u001b[49m\u001b[47m \u001b[30m\u001b[49m\u001b[47m \u001b[30m\u001b[49m\u001b[47m \u001b[30m\u001b[49m\u001b[47m \u001b[30m\u001b[49m\u001b[47m \u001b[30m\u001b[49m\u001b[47m \u001b[30m\u001b[49m\u001b[47m \u001b[30m\u001b[49m\u001b[47m \u001b[30m\u001b[49m\u001b[47m \u001b[30m\u001b[49m\u001b[47m \u001b[30m\u001b[49m\u001b[47m \u001b[30m\u001b[49m\u001b[47m \u001b[30m\u001b[49m\u001b[47m \u001b[30m\u001b[49m\u001b[47m \u001b[30m\u001b[49m\u001b[47m \u001b[30m\u001b[49m\u001b[47m \u001b[30m\u001b[49m\u001b[47m \u001b[30m\u001b[49m\u001b[47m \u001b[30m\u001b[49m\u001b[47m \u001b[30m\u001b[49m\u001b[47m \u001b[30m\u001b[49m\u001b[47m \u001b[30m\u001b[49m\u001b[47m \u001b[30m\u001b[49m\u001b[47m \u001b[30m\u001b[49m\u001b[47m \u001b[30m\u001b[49m\u001b[47m \u001b[30m\u001b[49m\u001b[47m \u001b[30m\u001b[49m\u001b[47m \u001b[30m\u001b[49m\u001b[47m \u001b[30m\u001b[49m\u001b[47m \u001b[30m\u001b[49m\u001b[47m \u001b[30m\u001b[49m\u001b[47m \u001b[30m\u001b[49m\u001b[47m \u001b[30m\u001b[49m\u001b[47m \u001b[30m\u001b[49m\u001b[47m \u001b[30m\u001b[49m\n",
            "Subread 20\t \u001b[47m \u001b[30m\u001b[49m\u001b[47m \u001b[30m\u001b[49m\u001b[47m \u001b[30m\u001b[49m\u001b[47m \u001b[30m\u001b[49m\u001b[47m \u001b[30m\u001b[49m\u001b[47m \u001b[30m\u001b[49m\u001b[47m \u001b[30m\u001b[49m\u001b[47m \u001b[30m\u001b[49m\u001b[47m \u001b[30m\u001b[49m\u001b[47m \u001b[30m\u001b[49m\u001b[47m \u001b[30m\u001b[49m\u001b[47m \u001b[30m\u001b[49m\u001b[47m \u001b[30m\u001b[49m\u001b[47m \u001b[30m\u001b[49m\u001b[47m \u001b[30m\u001b[49m\u001b[47m \u001b[30m\u001b[49m\u001b[47m \u001b[30m\u001b[49m\u001b[47m \u001b[30m\u001b[49m\u001b[47m \u001b[30m\u001b[49m\u001b[47m \u001b[30m\u001b[49m\u001b[47m \u001b[30m\u001b[49m\u001b[47m \u001b[30m\u001b[49m\u001b[47m \u001b[30m\u001b[49m\u001b[47m \u001b[30m\u001b[49m\u001b[47m \u001b[30m\u001b[49m\u001b[47m \u001b[30m\u001b[49m\u001b[47m \u001b[30m\u001b[49m\u001b[47m \u001b[30m\u001b[49m\u001b[47m \u001b[30m\u001b[49m\u001b[47m \u001b[30m\u001b[49m\u001b[47m \u001b[30m\u001b[49m\u001b[47m \u001b[30m\u001b[49m\u001b[47m \u001b[30m\u001b[49m\u001b[47m \u001b[30m\u001b[49m\u001b[47m \u001b[30m\u001b[49m\u001b[47m \u001b[30m\u001b[49m\u001b[47m \u001b[30m\u001b[49m\u001b[47m \u001b[30m\u001b[49m\u001b[47m \u001b[30m\u001b[49m\u001b[47m \u001b[30m\u001b[49m\u001b[47m \u001b[30m\u001b[49m\u001b[47m \u001b[30m\u001b[49m\u001b[47m \u001b[30m\u001b[49m\u001b[47m \u001b[30m\u001b[49m\u001b[47m \u001b[30m\u001b[49m\u001b[47m \u001b[30m\u001b[49m\u001b[47m \u001b[30m\u001b[49m\u001b[47m \u001b[30m\u001b[49m\u001b[47m \u001b[30m\u001b[49m\u001b[47m \u001b[30m\u001b[49m\u001b[47m \u001b[30m\u001b[49m\u001b[47m \u001b[30m\u001b[49m\u001b[47m \u001b[30m\u001b[49m\u001b[47m \u001b[30m\u001b[49m\u001b[47m \u001b[30m\u001b[49m\u001b[47m \u001b[30m\u001b[49m\u001b[47m \u001b[30m\u001b[49m\u001b[47m \u001b[30m\u001b[49m\u001b[47m \u001b[30m\u001b[49m\u001b[47m \u001b[30m\u001b[49m\u001b[47m \u001b[30m\u001b[49m\u001b[47m \u001b[30m\u001b[49m\u001b[47m \u001b[30m\u001b[49m\u001b[47m \u001b[30m\u001b[49m\u001b[47m \u001b[30m\u001b[49m\u001b[47m \u001b[30m\u001b[49m\u001b[47m \u001b[30m\u001b[49m\u001b[47m \u001b[30m\u001b[49m\u001b[47m \u001b[30m\u001b[49m\u001b[47m \u001b[30m\u001b[49m\u001b[47m \u001b[30m\u001b[49m\u001b[47m \u001b[30m\u001b[49m\u001b[47m \u001b[30m\u001b[49m\u001b[47m \u001b[30m\u001b[49m\u001b[47m \u001b[30m\u001b[49m\u001b[47m \u001b[30m\u001b[49m\u001b[47m \u001b[30m\u001b[49m\u001b[47m \u001b[30m\u001b[49m\u001b[47m \u001b[30m\u001b[49m\u001b[47m \u001b[30m\u001b[49m\u001b[47m \u001b[30m\u001b[49m\u001b[47m \u001b[30m\u001b[49m\u001b[47m \u001b[30m\u001b[49m\u001b[47m \u001b[30m\u001b[49m\u001b[47m \u001b[30m\u001b[49m\u001b[47m \u001b[30m\u001b[49m\u001b[47m \u001b[30m\u001b[49m\u001b[47m \u001b[30m\u001b[49m\u001b[47m \u001b[30m\u001b[49m\u001b[47m \u001b[30m\u001b[49m\u001b[47m \u001b[30m\u001b[49m\u001b[47m \u001b[30m\u001b[49m\u001b[47m \u001b[30m\u001b[49m\u001b[47m \u001b[30m\u001b[49m\u001b[47m \u001b[30m\u001b[49m\u001b[47m \u001b[30m\u001b[49m\u001b[47m \u001b[30m\u001b[49m\u001b[47m \u001b[30m\u001b[49m\u001b[47m \u001b[30m\u001b[49m\u001b[47m \u001b[30m\u001b[49m\u001b[47m \u001b[30m\u001b[49m\u001b[47m \u001b[30m\u001b[49m\u001b[47m \u001b[30m\u001b[49m\u001b[47m \u001b[30m\u001b[49m\u001b[47m \u001b[30m\u001b[49m\u001b[47m \u001b[30m\u001b[49m\u001b[47m \u001b[30m\u001b[49m\u001b[47m \u001b[30m\u001b[49m\u001b[47m \u001b[30m\u001b[49m\u001b[47m \u001b[30m\u001b[49m\u001b[47m \u001b[30m\u001b[49m\u001b[47m \u001b[30m\u001b[49m\u001b[47m \u001b[30m\u001b[49m\u001b[47m \u001b[30m\u001b[49m\u001b[47m \u001b[30m\u001b[49m\u001b[47m \u001b[30m\u001b[49m\u001b[47m \u001b[30m\u001b[49m\u001b[47m \u001b[30m\u001b[49m\u001b[47m \u001b[30m\u001b[49m\u001b[47m \u001b[30m\u001b[49m\n",
            "ccs:\t\t \u001b[47m \u001b[30m\u001b[49m\u001b[32mA\u001b[30m\u001b[49m\u001b[33mG\u001b[30m\u001b[49m\u001b[32mA\u001b[30m\u001b[49m\u001b[34mC\u001b[30m\u001b[49m\u001b[34mC\u001b[30m\u001b[49m\u001b[34mC\u001b[30m\u001b[49m\u001b[31mT\u001b[30m\u001b[49m\u001b[33mG\u001b[30m\u001b[49m\u001b[31mT\u001b[30m\u001b[49m\u001b[34mC\u001b[30m\u001b[49m\u001b[31mT\u001b[30m\u001b[49m\u001b[34mC\u001b[30m\u001b[49m\u001b[32mA\u001b[30m\u001b[49m\u001b[33mG\u001b[30m\u001b[49m\u001b[32mA\u001b[30m\u001b[49m\u001b[32mA\u001b[30m\u001b[49m\u001b[47m \u001b[30m\u001b[49m\u001b[47m \u001b[30m\u001b[49m\u001b[32mA\u001b[30m\u001b[49m\u001b[32mA\u001b[30m\u001b[49m\u001b[32mA\u001b[30m\u001b[49m\u001b[32mA\u001b[30m\u001b[49m\u001b[32mA\u001b[30m\u001b[49m\u001b[32mA\u001b[30m\u001b[49m\u001b[32mA\u001b[30m\u001b[49m\u001b[32mA\u001b[30m\u001b[49m\u001b[32mA\u001b[30m\u001b[49m\u001b[32mA\u001b[30m\u001b[49m\u001b[32mA\u001b[30m\u001b[49m\u001b[31mT\u001b[30m\u001b[49m\u001b[31mT\u001b[30m\u001b[49m\u001b[34mC\u001b[30m\u001b[49m\u001b[32mA\u001b[30m\u001b[49m\u001b[32mA\u001b[30m\u001b[49m\u001b[32mA\u001b[30m\u001b[49m\u001b[47m \u001b[30m\u001b[49m\u001b[32mA\u001b[30m\u001b[49m\u001b[32mA\u001b[30m\u001b[49m\u001b[32mA\u001b[30m\u001b[49m\u001b[31mT\u001b[30m\u001b[49m\u001b[31mT\u001b[30m\u001b[49m\u001b[31mT\u001b[30m\u001b[49m\u001b[33mG\u001b[30m\u001b[49m\u001b[33mG\u001b[30m\u001b[49m\u001b[34mC\u001b[30m\u001b[49m\u001b[34mC\u001b[30m\u001b[49m\u001b[32mA\u001b[30m\u001b[49m\u001b[33mG\u001b[30m\u001b[49m\u001b[33mG\u001b[30m\u001b[49m\u001b[34mC\u001b[30m\u001b[49m\u001b[33mG\u001b[30m\u001b[49m\u001b[31mT\u001b[30m\u001b[49m\u001b[33mG\u001b[30m\u001b[49m\u001b[33mG\u001b[30m\u001b[49m\u001b[31mT\u001b[30m\u001b[49m\u001b[33mG\u001b[30m\u001b[49m\u001b[33mG\u001b[30m\u001b[49m\u001b[34mC\u001b[30m\u001b[49m\u001b[31mT\u001b[30m\u001b[49m\u001b[34mC\u001b[30m\u001b[49m\u001b[32mA\u001b[30m\u001b[49m\u001b[34mC\u001b[30m\u001b[49m\u001b[33mG\u001b[30m\u001b[49m\u001b[34mC\u001b[30m\u001b[49m\u001b[34mC\u001b[30m\u001b[49m\u001b[31mT\u001b[30m\u001b[49m\u001b[47m \u001b[30m\u001b[49m\u001b[33mG\u001b[30m\u001b[49m\u001b[31mT\u001b[30m\u001b[49m\u001b[32mA\u001b[30m\u001b[49m\u001b[32mA\u001b[30m\u001b[49m\u001b[47m \u001b[30m\u001b[49m\u001b[31mT\u001b[30m\u001b[49m\u001b[34mC\u001b[30m\u001b[49m\u001b[34mC\u001b[30m\u001b[49m\u001b[34mC\u001b[30m\u001b[49m\u001b[32mA\u001b[30m\u001b[49m\u001b[31mT\u001b[30m\u001b[49m\u001b[34mC\u001b[30m\u001b[49m\u001b[32mA\u001b[30m\u001b[49m\u001b[34mC\u001b[30m\u001b[49m\u001b[31mT\u001b[30m\u001b[49m\u001b[31mT\u001b[30m\u001b[49m\u001b[31mT\u001b[30m\u001b[49m\u001b[33mG\u001b[30m\u001b[49m\u001b[33mG\u001b[30m\u001b[49m\u001b[32mA\u001b[30m\u001b[49m\u001b[32mA\u001b[30m\u001b[49m\u001b[33mG\u001b[30m\u001b[49m\u001b[33mG\u001b[30m\u001b[49m\u001b[34mC\u001b[30m\u001b[49m\u001b[34mC\u001b[30m\u001b[49m\u001b[33mG\u001b[30m\u001b[49m\u001b[32mA\u001b[30m\u001b[49m\u001b[33mG\u001b[30m\u001b[49m\u001b[33mG\u001b[30m\u001b[49m\u001b[34mC\u001b[30m\u001b[49m\u001b[33mG\u001b[30m\u001b[49m\u001b[33mG\u001b[30m\u001b[49m\u001b[47m \u001b[30m\u001b[49m\u001b[47m \u001b[30m\u001b[49m\u001b[47m \u001b[30m\u001b[49m\u001b[47m \u001b[30m\u001b[49m\u001b[47m \u001b[30m\u001b[49m\u001b[47m \u001b[30m\u001b[49m\u001b[47m \u001b[30m\u001b[49m\u001b[47m \u001b[30m\u001b[49m\u001b[47m \u001b[30m\u001b[49m\u001b[47m \u001b[30m\u001b[49m\u001b[47m \u001b[30m\u001b[49m\u001b[47m \u001b[30m\u001b[49m\u001b[47m \u001b[30m\u001b[49m\u001b[47m \u001b[30m\u001b[49m\u001b[47m \u001b[30m\u001b[49m\u001b[47m \u001b[30m\u001b[49m\u001b[47m \u001b[30m\u001b[49m\u001b[47m \u001b[30m\u001b[49m\u001b[47m \u001b[30m\u001b[49m\u001b[47m \u001b[30m\u001b[49m\n",
            "prediction:\t \u001b[47m \u001b[30m\u001b[49m\u001b[32mA\u001b[30m\u001b[49m\u001b[33mG\u001b[30m\u001b[49m\u001b[32mA\u001b[30m\u001b[49m\u001b[34mC\u001b[30m\u001b[49m\u001b[34mC\u001b[30m\u001b[49m\u001b[34mC\u001b[30m\u001b[49m\u001b[31mT\u001b[30m\u001b[49m\u001b[33mG\u001b[30m\u001b[49m\u001b[31mT\u001b[30m\u001b[49m\u001b[34mC\u001b[30m\u001b[49m\u001b[31mT\u001b[30m\u001b[49m\u001b[34mC\u001b[30m\u001b[49m\u001b[32mA\u001b[30m\u001b[49m\u001b[33mG\u001b[30m\u001b[49m\u001b[32mA\u001b[30m\u001b[49m\u001b[32mA\u001b[30m\u001b[49m\u001b[47m \u001b[30m\u001b[49m\u001b[47m \u001b[30m\u001b[49m\u001b[32mA\u001b[30m\u001b[49m\u001b[32mA\u001b[30m\u001b[49m\u001b[32mA\u001b[30m\u001b[49m\u001b[32mA\u001b[30m\u001b[49m\u001b[32mA\u001b[30m\u001b[49m\u001b[32mA\u001b[30m\u001b[49m\u001b[32mA\u001b[30m\u001b[49m\u001b[32mA\u001b[30m\u001b[49m\u001b[32mA\u001b[30m\u001b[49m\u001b[32mA\u001b[30m\u001b[49m\u001b[32mA\u001b[30m\u001b[49m\u001b[31mT\u001b[30m\u001b[49m\u001b[31mT\u001b[30m\u001b[49m\u001b[34mC\u001b[30m\u001b[49m\u001b[32mA\u001b[30m\u001b[49m\u001b[32mA\u001b[30m\u001b[49m\u001b[32mA\u001b[30m\u001b[49m\u001b[47m \u001b[30m\u001b[49m\u001b[32mA\u001b[30m\u001b[49m\u001b[32mA\u001b[30m\u001b[49m\u001b[32mA\u001b[30m\u001b[49m\u001b[31mT\u001b[30m\u001b[49m\u001b[31mT\u001b[30m\u001b[49m\u001b[31mT\u001b[30m\u001b[49m\u001b[33mG\u001b[30m\u001b[49m\u001b[33mG\u001b[30m\u001b[49m\u001b[34mC\u001b[30m\u001b[49m\u001b[34mC\u001b[30m\u001b[49m\u001b[32mA\u001b[30m\u001b[49m\u001b[33mG\u001b[30m\u001b[49m\u001b[33mG\u001b[30m\u001b[49m\u001b[34mC\u001b[30m\u001b[49m\u001b[33mG\u001b[30m\u001b[49m\u001b[31mT\u001b[30m\u001b[49m\u001b[33mG\u001b[30m\u001b[49m\u001b[33mG\u001b[30m\u001b[49m\u001b[31mT\u001b[30m\u001b[49m\u001b[33mG\u001b[30m\u001b[49m\u001b[33mG\u001b[30m\u001b[49m\u001b[34mC\u001b[30m\u001b[49m\u001b[31mT\u001b[30m\u001b[49m\u001b[34mC\u001b[30m\u001b[49m\u001b[32mA\u001b[30m\u001b[49m\u001b[34mC\u001b[30m\u001b[49m\u001b[33mG\u001b[30m\u001b[49m\u001b[34mC\u001b[30m\u001b[49m\u001b[34mC\u001b[30m\u001b[49m\u001b[31mT\u001b[30m\u001b[49m\u001b[47m \u001b[30m\u001b[49m\u001b[33mG\u001b[30m\u001b[49m\u001b[31mT\u001b[30m\u001b[49m\u001b[32mA\u001b[30m\u001b[49m\u001b[32mA\u001b[30m\u001b[49m\u001b[47m \u001b[30m\u001b[49m\u001b[31mT\u001b[30m\u001b[49m\u001b[34mC\u001b[30m\u001b[49m\u001b[34mC\u001b[30m\u001b[49m\u001b[34mC\u001b[30m\u001b[49m\u001b[32mA\u001b[30m\u001b[49m\u001b[31mT\u001b[30m\u001b[49m\u001b[34mC\u001b[30m\u001b[49m\u001b[32mA\u001b[30m\u001b[49m\u001b[34mC\u001b[30m\u001b[49m\u001b[31mT\u001b[30m\u001b[49m\u001b[31mT\u001b[30m\u001b[49m\u001b[31mT\u001b[30m\u001b[49m\u001b[33mG\u001b[30m\u001b[49m\u001b[33mG\u001b[30m\u001b[49m\u001b[32mA\u001b[30m\u001b[49m\u001b[32mA\u001b[30m\u001b[49m\u001b[33mG\u001b[30m\u001b[49m\u001b[33mG\u001b[30m\u001b[49m\u001b[34mC\u001b[30m\u001b[49m\u001b[34mC\u001b[30m\u001b[49m\u001b[33mG\u001b[30m\u001b[49m\u001b[32mA\u001b[30m\u001b[49m\u001b[33mG\u001b[30m\u001b[49m\u001b[33mG\u001b[30m\u001b[49m\u001b[34mC\u001b[30m\u001b[49m\u001b[33mG\u001b[30m\u001b[49m\u001b[33mG\u001b[30m\u001b[49m\u001b[47m \u001b[30m\u001b[49m\u001b[47m \u001b[30m\u001b[49m\u001b[47m \u001b[30m\u001b[49m\u001b[47m \u001b[30m\u001b[49m\u001b[47m \u001b[30m\u001b[49m\u001b[47m \u001b[30m\u001b[49m\u001b[47m \u001b[30m\u001b[49m\u001b[47m \u001b[30m\u001b[49m\u001b[47m \u001b[30m\u001b[49m\u001b[47m \u001b[30m\u001b[49m\u001b[47m \u001b[30m\u001b[49m\u001b[47m \u001b[30m\u001b[49m\u001b[47m \u001b[30m\u001b[49m\u001b[47m \u001b[30m\u001b[49m\u001b[47m \u001b[30m\u001b[49m\u001b[47m \u001b[30m\u001b[49m\u001b[47m \u001b[30m\u001b[49m\u001b[47m \u001b[30m\u001b[49m\u001b[47m \u001b[30m\u001b[49m\u001b[47m \u001b[30m\u001b[49m\n",
            "label:\t\t \u001b[32mA\u001b[30m\u001b[49m\u001b[33mG\u001b[30m\u001b[49m\u001b[32mA\u001b[30m\u001b[49m\u001b[34mC\u001b[30m\u001b[49m\u001b[34mC\u001b[30m\u001b[49m\u001b[34mC\u001b[30m\u001b[49m\u001b[31mT\u001b[30m\u001b[49m\u001b[33mG\u001b[30m\u001b[49m\u001b[31mT\u001b[30m\u001b[49m\u001b[34mC\u001b[30m\u001b[49m\u001b[31mT\u001b[30m\u001b[49m\u001b[34mC\u001b[30m\u001b[49m\u001b[32mA\u001b[30m\u001b[49m\u001b[33mG\u001b[30m\u001b[49m\u001b[47m \u001b[30m\u001b[49m\u001b[32mA\u001b[30m\u001b[49m\u001b[47m \u001b[30m\u001b[49m\u001b[47m \u001b[30m\u001b[49m\u001b[32mA\u001b[30m\u001b[49m\u001b[32mA\u001b[30m\u001b[49m\u001b[32mA\u001b[30m\u001b[49m\u001b[32mA\u001b[30m\u001b[49m\u001b[32mA\u001b[30m\u001b[49m\u001b[32mA\u001b[30m\u001b[49m\u001b[32mA\u001b[30m\u001b[49m\u001b[32mA\u001b[30m\u001b[49m\u001b[32mA\u001b[30m\u001b[49m\u001b[32mA\u001b[30m\u001b[49m\u001b[32mA\u001b[30m\u001b[49m\u001b[31mT\u001b[30m\u001b[49m\u001b[31mT\u001b[30m\u001b[49m\u001b[34mC\u001b[30m\u001b[49m\u001b[47m \u001b[30m\u001b[49m\u001b[32mA\u001b[30m\u001b[49m\u001b[32mA\u001b[30m\u001b[49m\u001b[47m \u001b[30m\u001b[49m\u001b[32mA\u001b[30m\u001b[49m\u001b[32mA\u001b[30m\u001b[49m\u001b[32mA\u001b[30m\u001b[49m\u001b[31mT\u001b[30m\u001b[49m\u001b[31mT\u001b[30m\u001b[49m\u001b[31mT\u001b[30m\u001b[49m\u001b[33mG\u001b[30m\u001b[49m\u001b[33mG\u001b[30m\u001b[49m\u001b[34mC\u001b[30m\u001b[49m\u001b[34mC\u001b[30m\u001b[49m\u001b[32mA\u001b[30m\u001b[49m\u001b[33mG\u001b[30m\u001b[49m\u001b[33mG\u001b[30m\u001b[49m\u001b[34mC\u001b[30m\u001b[49m\u001b[33mG\u001b[30m\u001b[49m\u001b[31mT\u001b[30m\u001b[49m\u001b[33mG\u001b[30m\u001b[49m\u001b[33mG\u001b[30m\u001b[49m\u001b[31mT\u001b[30m\u001b[49m\u001b[33mG\u001b[30m\u001b[49m\u001b[33mG\u001b[30m\u001b[49m\u001b[34mC\u001b[30m\u001b[49m\u001b[31mT\u001b[30m\u001b[49m\u001b[34mC\u001b[30m\u001b[49m\u001b[32mA\u001b[30m\u001b[49m\u001b[34mC\u001b[30m\u001b[49m\u001b[33mG\u001b[30m\u001b[49m\u001b[34mC\u001b[30m\u001b[49m\u001b[34mC\u001b[30m\u001b[49m\u001b[31mT\u001b[30m\u001b[49m\u001b[47m \u001b[30m\u001b[49m\u001b[33mG\u001b[30m\u001b[49m\u001b[31mT\u001b[30m\u001b[49m\u001b[32mA\u001b[30m\u001b[49m\u001b[32mA\u001b[30m\u001b[49m\u001b[47m \u001b[30m\u001b[49m\u001b[31mT\u001b[30m\u001b[49m\u001b[34mC\u001b[30m\u001b[49m\u001b[34mC\u001b[30m\u001b[49m\u001b[34mC\u001b[30m\u001b[49m\u001b[32mA\u001b[30m\u001b[49m\u001b[31mT\u001b[30m\u001b[49m\u001b[34mC\u001b[30m\u001b[49m\u001b[32mA\u001b[30m\u001b[49m\u001b[34mC\u001b[30m\u001b[49m\u001b[31mT\u001b[30m\u001b[49m\u001b[31mT\u001b[30m\u001b[49m\u001b[31mT\u001b[30m\u001b[49m\u001b[33mG\u001b[30m\u001b[49m\u001b[33mG\u001b[30m\u001b[49m\u001b[32mA\u001b[30m\u001b[49m\u001b[32mA\u001b[30m\u001b[49m\u001b[33mG\u001b[30m\u001b[49m\u001b[33mG\u001b[30m\u001b[49m\u001b[34mC\u001b[30m\u001b[49m\u001b[34mC\u001b[30m\u001b[49m\u001b[33mG\u001b[30m\u001b[49m\u001b[32mA\u001b[30m\u001b[49m\u001b[33mG\u001b[30m\u001b[49m\u001b[33mG\u001b[30m\u001b[49m\u001b[34mC\u001b[30m\u001b[49m\u001b[33mG\u001b[30m\u001b[49m\u001b[33mG\u001b[30m\u001b[49m\u001b[47m \u001b[30m\u001b[49m\u001b[47m \u001b[30m\u001b[49m\u001b[47m \u001b[30m\u001b[49m\u001b[47m \u001b[30m\u001b[49m\u001b[47m \u001b[30m\u001b[49m\u001b[47m \u001b[30m\u001b[49m\u001b[47m \u001b[30m\u001b[49m\u001b[47m \u001b[30m\u001b[49m\u001b[47m \u001b[30m\u001b[49m\u001b[47m \u001b[30m\u001b[49m\u001b[47m \u001b[30m\u001b[49m\u001b[47m \u001b[30m\u001b[49m\u001b[47m \u001b[30m\u001b[49m\u001b[47m \u001b[30m\u001b[49m\u001b[47m \u001b[30m\u001b[49m\u001b[47m \u001b[30m\u001b[49m\u001b[47m \u001b[30m\u001b[49m\u001b[47m \u001b[30m\u001b[49m\u001b[47m \u001b[30m\u001b[49m\u001b[47m \u001b[30m\u001b[49m\u001b[47m \u001b[30m\u001b[49m\n",
            "\n",
            "\n"
          ]
        }
      ],
      "source": [
        "show_example(batch, example_i, ypreds=y_preds)"
      ]
    }
  ],
  "metadata": {
    "colab": {
      "collapsed_sections": [
        "UyUxIkM832Mf"
      ],
      "name": "[external draft] Inspecting DeepConsensus examples and running model.ipynb",
      "provenance": [],
      "toc_visible": true
    },
    "kernelspec": {
      "display_name": "Python 3",
      "name": "python3"
    },
    "language_info": {
      "name": "python"
    }
  },
  "nbformat": 4,
  "nbformat_minor": 0
}
