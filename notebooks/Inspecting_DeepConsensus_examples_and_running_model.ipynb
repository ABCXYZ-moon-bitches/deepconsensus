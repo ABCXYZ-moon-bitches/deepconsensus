{
  "cells": [
    {
      "cell_type": "markdown",
      "metadata": {
        "id": "QPm4rl4u-kHD"
      },
      "source": [
        "# Inspecting DeepConsensus examples and running model"
      ]
    },
    {
      "cell_type": "markdown",
      "metadata": {
        "id": "UyUxIkM832Mf"
      },
      "source": [
        "## Imports\n",
        "\n"
      ]
    },
    {
      "cell_type": "markdown",
      "metadata": {
        "id": "hAGpwYlc-wSb"
      },
      "source": [
        "Run these in order. These libraries are finicky about which order they're installed and loaded in."
      ]
    },
    {
      "cell_type": "code",
      "execution_count": 1,
      "metadata": {
        "id": "1ki5JOv1N6NO"
      },
      "outputs": [],
      "source": [
        "import tensorflow as tf"
      ]
    },
    {
      "cell_type": "code",
      "execution_count": 2,
      "metadata": {
        "colab": {
          "base_uri": "https://localhost:8080/",
          "height": 0
        },
        "id": "rxPOVn8fZz08",
        "outputId": "1bfc98c9-c7aa-4923-9d26-eb253c0aa125"
      },
      "outputs": [
        {
          "output_type": "stream",
          "name": "stdout",
          "text": [
            "Looking in indexes: https://pypi.org/simple, https://us-python.pkg.dev/colab-wheels/public/simple/\n",
            "Collecting deepconsensus==0.3.0rc\n",
            "  Downloading deepconsensus-0.3.0rc0-py3-none-any.whl (145 kB)\n",
            "\u001b[K     |████████████████████████████████| 145 kB 4.0 MB/s \n",
            "\u001b[?25hRequirement already satisfied: numpy>=1.19 in /usr/local/lib/python3.7/dist-packages (from deepconsensus==0.3.0rc) (1.21.6)\n",
            "Collecting keras<2.10.0,>=2.9.0rc0\n",
            "  Downloading keras-2.9.0-py2.py3-none-any.whl (1.6 MB)\n",
            "\u001b[K     |████████████████████████████████| 1.6 MB 4.7 MB/s \n",
            "\u001b[?25hRequirement already satisfied: protobuf<3.20,<4,>=3.13,>=3.9.2 in /usr/local/lib/python3.7/dist-packages (from deepconsensus==0.3.0rc) (3.17.3)\n",
            "Collecting pysam==0.19.0\n",
            "  Downloading pysam-0.19.0-cp37-cp37m-manylinux_2_12_x86_64.manylinux2010_x86_64.whl (15.0 MB)\n",
            "\u001b[K     |████████████████████████████████| 15.0 MB 80 kB/s \n",
            "\u001b[?25hCollecting testresources\n",
            "  Downloading testresources-2.0.1-py2.py3-none-any.whl (36 kB)\n",
            "Collecting tensorflow-estimator<2.10.0,>=2.9.0rc0\n",
            "  Downloading tensorflow_estimator-2.9.0-py2.py3-none-any.whl (438 kB)\n",
            "\u001b[K     |████████████████████████████████| 438 kB 37.6 MB/s \n",
            "\u001b[?25hRequirement already satisfied: absl-py>=0.13.0 in /usr/local/lib/python3.7/dist-packages (from deepconsensus==0.3.0rc) (1.1.0)\n",
            "Collecting tf-models-official>=2.9.0\n",
            "  Downloading tf_models_official-2.9.2-py2.py3-none-any.whl (2.1 MB)\n",
            "\u001b[K     |████████████████████████████████| 2.1 MB 42.1 MB/s \n",
            "\u001b[?25hRequirement already satisfied: httplib2<1dev,>=0.15.0 in /usr/local/lib/python3.7/dist-packages (from deepconsensus==0.3.0rc) (0.17.4)\n",
            "Collecting flatbuffers<2,>=1.12\n",
            "  Downloading flatbuffers-1.12-py2.py3-none-any.whl (15 kB)\n",
            "Requirement already satisfied: zipp>=3.1.0 in /usr/local/lib/python3.7/dist-packages (from deepconsensus==0.3.0rc) (3.8.0)\n",
            "Requirement already satisfied: pandas>=1.1 in /usr/local/lib/python3.7/dist-packages (from deepconsensus==0.3.0rc) (1.3.5)\n",
            "Collecting ml-collections>=0.1.0\n",
            "  Downloading ml_collections-0.1.1.tar.gz (77 kB)\n",
            "\u001b[K     |████████████████████████████████| 77 kB 5.5 MB/s \n",
            "\u001b[?25hRequirement already satisfied: PyYAML in /usr/local/lib/python3.7/dist-packages (from ml-collections>=0.1.0->deepconsensus==0.3.0rc) (3.13)\n",
            "Requirement already satisfied: six in /usr/local/lib/python3.7/dist-packages (from ml-collections>=0.1.0->deepconsensus==0.3.0rc) (1.15.0)\n",
            "Requirement already satisfied: contextlib2 in /usr/local/lib/python3.7/dist-packages (from ml-collections>=0.1.0->deepconsensus==0.3.0rc) (0.5.5)\n",
            "Requirement already satisfied: python-dateutil>=2.7.3 in /usr/local/lib/python3.7/dist-packages (from pandas>=1.1->deepconsensus==0.3.0rc) (2.8.2)\n",
            "Requirement already satisfied: pytz>=2017.3 in /usr/local/lib/python3.7/dist-packages (from pandas>=1.1->deepconsensus==0.3.0rc) (2022.1)\n",
            "Requirement already satisfied: gin-config in /usr/local/lib/python3.7/dist-packages (from tf-models-official>=2.9.0->deepconsensus==0.3.0rc) (0.5.0)\n",
            "Collecting opencv-python-headless\n",
            "  Downloading opencv_python_headless-4.6.0.66-cp36-abi3-manylinux_2_17_x86_64.manylinux2014_x86_64.whl (48.3 MB)\n",
            "\u001b[K     |████████████████████████████████| 48.3 MB 88 kB/s \n",
            "\u001b[?25hRequirement already satisfied: matplotlib in /usr/local/lib/python3.7/dist-packages (from tf-models-official>=2.9.0->deepconsensus==0.3.0rc) (3.2.2)\n",
            "Collecting sentencepiece\n",
            "  Downloading sentencepiece-0.1.96-cp37-cp37m-manylinux_2_17_x86_64.manylinux2014_x86_64.whl (1.2 MB)\n",
            "\u001b[K     |████████████████████████████████| 1.2 MB 66.8 MB/s \n",
            "\u001b[?25hCollecting tensorflow-model-optimization>=0.4.1\n",
            "  Downloading tensorflow_model_optimization-0.7.2-py2.py3-none-any.whl (237 kB)\n",
            "\u001b[K     |████████████████████████████████| 237 kB 32.2 MB/s \n",
            "\u001b[?25hCollecting tensorflow~=2.9.0\n",
            "  Downloading tensorflow-2.9.1-cp37-cp37m-manylinux_2_17_x86_64.manylinux2014_x86_64.whl (511.7 MB)\n",
            "\u001b[K     |████████████████████████████████| 511.7 MB 5.5 kB/s \n",
            "\u001b[?25hRequirement already satisfied: Pillow in /usr/local/lib/python3.7/dist-packages (from tf-models-official>=2.9.0->deepconsensus==0.3.0rc) (7.1.2)\n",
            "Requirement already satisfied: google-api-python-client>=1.6.7 in /usr/local/lib/python3.7/dist-packages (from tf-models-official>=2.9.0->deepconsensus==0.3.0rc) (1.12.11)\n",
            "Requirement already satisfied: scipy>=0.19.1 in /usr/local/lib/python3.7/dist-packages (from tf-models-official>=2.9.0->deepconsensus==0.3.0rc) (1.4.1)\n",
            "Requirement already satisfied: kaggle>=1.3.9 in /usr/local/lib/python3.7/dist-packages (from tf-models-official>=2.9.0->deepconsensus==0.3.0rc) (1.5.12)\n",
            "Collecting PyYAML\n",
            "  Downloading PyYAML-5.4.1-cp37-cp37m-manylinux1_x86_64.whl (636 kB)\n",
            "\u001b[K     |████████████████████████████████| 636 kB 57.8 MB/s \n",
            "\u001b[?25hCollecting tensorflow-addons\n",
            "  Downloading tensorflow_addons-0.17.1-cp37-cp37m-manylinux_2_17_x86_64.manylinux2014_x86_64.whl (1.1 MB)\n",
            "\u001b[K     |████████████████████████████████| 1.1 MB 43.3 MB/s \n",
            "\u001b[?25hCollecting tensorflow-text~=2.9.0\n",
            "  Downloading tensorflow_text-2.9.0-cp37-cp37m-manylinux_2_17_x86_64.manylinux2014_x86_64.whl (4.6 MB)\n",
            "\u001b[K     |████████████████████████████████| 4.6 MB 41.7 MB/s \n",
            "\u001b[?25hRequirement already satisfied: oauth2client in /usr/local/lib/python3.7/dist-packages (from tf-models-official>=2.9.0->deepconsensus==0.3.0rc) (4.1.3)\n",
            "Requirement already satisfied: pycocotools in /usr/local/lib/python3.7/dist-packages (from tf-models-official>=2.9.0->deepconsensus==0.3.0rc) (2.0.4)\n",
            "Requirement already satisfied: Cython in /usr/local/lib/python3.7/dist-packages (from tf-models-official>=2.9.0->deepconsensus==0.3.0rc) (0.29.30)\n",
            "Collecting seqeval\n",
            "  Downloading seqeval-1.2.2.tar.gz (43 kB)\n",
            "\u001b[K     |████████████████████████████████| 43 kB 2.0 MB/s \n",
            "\u001b[?25hCollecting sacrebleu\n",
            "  Downloading sacrebleu-2.1.0-py3-none-any.whl (92 kB)\n",
            "\u001b[K     |████████████████████████████████| 92 kB 11.2 MB/s \n",
            "\u001b[?25hRequirement already satisfied: tensorflow-datasets in /usr/local/lib/python3.7/dist-packages (from tf-models-official>=2.9.0->deepconsensus==0.3.0rc) (4.0.1)\n",
            "Collecting py-cpuinfo>=3.3.0\n",
            "  Downloading py-cpuinfo-8.0.0.tar.gz (99 kB)\n",
            "\u001b[K     |████████████████████████████████| 99 kB 5.5 MB/s \n",
            "\u001b[?25hRequirement already satisfied: tensorflow-hub>=0.6.0 in /usr/local/lib/python3.7/dist-packages (from tf-models-official>=2.9.0->deepconsensus==0.3.0rc) (0.12.0)\n",
            "Requirement already satisfied: psutil>=5.4.3 in /usr/local/lib/python3.7/dist-packages (from tf-models-official>=2.9.0->deepconsensus==0.3.0rc) (5.4.8)\n",
            "Collecting tf-slim>=1.1.0\n",
            "  Downloading tf_slim-1.1.0-py2.py3-none-any.whl (352 kB)\n",
            "\u001b[K     |████████████████████████████████| 352 kB 29.1 MB/s \n",
            "\u001b[?25hRequirement already satisfied: google-auth<3dev,>=1.16.0 in /usr/local/lib/python3.7/dist-packages (from google-api-python-client>=1.6.7->tf-models-official>=2.9.0->deepconsensus==0.3.0rc) (1.35.0)\n",
            "Requirement already satisfied: google-api-core<3dev,>=1.21.0 in /usr/local/lib/python3.7/dist-packages (from google-api-python-client>=1.6.7->tf-models-official>=2.9.0->deepconsensus==0.3.0rc) (1.31.6)\n",
            "Requirement already satisfied: uritemplate<4dev,>=3.0.0 in /usr/local/lib/python3.7/dist-packages (from google-api-python-client>=1.6.7->tf-models-official>=2.9.0->deepconsensus==0.3.0rc) (3.0.1)\n",
            "Requirement already satisfied: google-auth-httplib2>=0.0.3 in /usr/local/lib/python3.7/dist-packages (from google-api-python-client>=1.6.7->tf-models-official>=2.9.0->deepconsensus==0.3.0rc) (0.0.4)\n",
            "Requirement already satisfied: setuptools>=40.3.0 in /usr/local/lib/python3.7/dist-packages (from google-api-core<3dev,>=1.21.0->google-api-python-client>=1.6.7->tf-models-official>=2.9.0->deepconsensus==0.3.0rc) (57.4.0)\n",
            "Requirement already satisfied: packaging>=14.3 in /usr/local/lib/python3.7/dist-packages (from google-api-core<3dev,>=1.21.0->google-api-python-client>=1.6.7->tf-models-official>=2.9.0->deepconsensus==0.3.0rc) (21.3)\n",
            "Requirement already satisfied: requests<3.0.0dev,>=2.18.0 in /usr/local/lib/python3.7/dist-packages (from google-api-core<3dev,>=1.21.0->google-api-python-client>=1.6.7->tf-models-official>=2.9.0->deepconsensus==0.3.0rc) (2.23.0)\n",
            "Requirement already satisfied: googleapis-common-protos<2.0dev,>=1.6.0 in /usr/local/lib/python3.7/dist-packages (from google-api-core<3dev,>=1.21.0->google-api-python-client>=1.6.7->tf-models-official>=2.9.0->deepconsensus==0.3.0rc) (1.56.2)\n",
            "Requirement already satisfied: cachetools<5.0,>=2.0.0 in /usr/local/lib/python3.7/dist-packages (from google-auth<3dev,>=1.16.0->google-api-python-client>=1.6.7->tf-models-official>=2.9.0->deepconsensus==0.3.0rc) (4.2.4)\n",
            "Requirement already satisfied: rsa<5,>=3.1.4 in /usr/local/lib/python3.7/dist-packages (from google-auth<3dev,>=1.16.0->google-api-python-client>=1.6.7->tf-models-official>=2.9.0->deepconsensus==0.3.0rc) (4.8)\n",
            "Requirement already satisfied: pyasn1-modules>=0.2.1 in /usr/local/lib/python3.7/dist-packages (from google-auth<3dev,>=1.16.0->google-api-python-client>=1.6.7->tf-models-official>=2.9.0->deepconsensus==0.3.0rc) (0.2.8)\n",
            "Requirement already satisfied: urllib3 in /usr/local/lib/python3.7/dist-packages (from kaggle>=1.3.9->tf-models-official>=2.9.0->deepconsensus==0.3.0rc) (1.24.3)\n",
            "Requirement already satisfied: tqdm in /usr/local/lib/python3.7/dist-packages (from kaggle>=1.3.9->tf-models-official>=2.9.0->deepconsensus==0.3.0rc) (4.64.0)\n",
            "Requirement already satisfied: python-slugify in /usr/local/lib/python3.7/dist-packages (from kaggle>=1.3.9->tf-models-official>=2.9.0->deepconsensus==0.3.0rc) (6.1.2)\n",
            "Requirement already satisfied: certifi in /usr/local/lib/python3.7/dist-packages (from kaggle>=1.3.9->tf-models-official>=2.9.0->deepconsensus==0.3.0rc) (2022.6.15)\n",
            "Requirement already satisfied: pyparsing!=3.0.5,>=2.0.2 in /usr/local/lib/python3.7/dist-packages (from packaging>=14.3->google-api-core<3dev,>=1.21.0->google-api-python-client>=1.6.7->tf-models-official>=2.9.0->deepconsensus==0.3.0rc) (3.0.9)\n",
            "Requirement already satisfied: pyasn1<0.5.0,>=0.4.6 in /usr/local/lib/python3.7/dist-packages (from pyasn1-modules>=0.2.1->google-auth<3dev,>=1.16.0->google-api-python-client>=1.6.7->tf-models-official>=2.9.0->deepconsensus==0.3.0rc) (0.4.8)\n",
            "Requirement already satisfied: chardet<4,>=3.0.2 in /usr/local/lib/python3.7/dist-packages (from requests<3.0.0dev,>=2.18.0->google-api-core<3dev,>=1.21.0->google-api-python-client>=1.6.7->tf-models-official>=2.9.0->deepconsensus==0.3.0rc) (3.0.4)\n",
            "Requirement already satisfied: idna<3,>=2.5 in /usr/local/lib/python3.7/dist-packages (from requests<3.0.0dev,>=2.18.0->google-api-core<3dev,>=1.21.0->google-api-python-client>=1.6.7->tf-models-official>=2.9.0->deepconsensus==0.3.0rc) (2.10)\n",
            "Requirement already satisfied: termcolor>=1.1.0 in /usr/local/lib/python3.7/dist-packages (from tensorflow~=2.9.0->tf-models-official>=2.9.0->deepconsensus==0.3.0rc) (1.1.0)\n",
            "Requirement already satisfied: google-pasta>=0.1.1 in /usr/local/lib/python3.7/dist-packages (from tensorflow~=2.9.0->tf-models-official>=2.9.0->deepconsensus==0.3.0rc) (0.2.0)\n",
            "Requirement already satisfied: keras-preprocessing>=1.1.1 in /usr/local/lib/python3.7/dist-packages (from tensorflow~=2.9.0->tf-models-official>=2.9.0->deepconsensus==0.3.0rc) (1.1.2)\n",
            "Requirement already satisfied: libclang>=13.0.0 in /usr/local/lib/python3.7/dist-packages (from tensorflow~=2.9.0->tf-models-official>=2.9.0->deepconsensus==0.3.0rc) (14.0.1)\n",
            "Requirement already satisfied: typing-extensions>=3.6.6 in /usr/local/lib/python3.7/dist-packages (from tensorflow~=2.9.0->tf-models-official>=2.9.0->deepconsensus==0.3.0rc) (4.1.1)\n",
            "Requirement already satisfied: tensorflow-io-gcs-filesystem>=0.23.1 in /usr/local/lib/python3.7/dist-packages (from tensorflow~=2.9.0->tf-models-official>=2.9.0->deepconsensus==0.3.0rc) (0.26.0)\n",
            "Collecting tensorboard<2.10,>=2.9\n",
            "  Downloading tensorboard-2.9.1-py3-none-any.whl (5.8 MB)\n",
            "\u001b[K     |████████████████████████████████| 5.8 MB 51.4 MB/s \n",
            "\u001b[?25hRequirement already satisfied: grpcio<2.0,>=1.24.3 in /usr/local/lib/python3.7/dist-packages (from tensorflow~=2.9.0->tf-models-official>=2.9.0->deepconsensus==0.3.0rc) (1.46.3)\n",
            "Requirement already satisfied: wrapt>=1.11.0 in /usr/local/lib/python3.7/dist-packages (from tensorflow~=2.9.0->tf-models-official>=2.9.0->deepconsensus==0.3.0rc) (1.14.1)\n",
            "Requirement already satisfied: astunparse>=1.6.0 in /usr/local/lib/python3.7/dist-packages (from tensorflow~=2.9.0->tf-models-official>=2.9.0->deepconsensus==0.3.0rc) (1.6.3)\n",
            "Requirement already satisfied: h5py>=2.9.0 in /usr/local/lib/python3.7/dist-packages (from tensorflow~=2.9.0->tf-models-official>=2.9.0->deepconsensus==0.3.0rc) (3.1.0)\n",
            "Collecting gast<=0.4.0,>=0.2.1\n",
            "  Downloading gast-0.4.0-py3-none-any.whl (9.8 kB)\n",
            "Requirement already satisfied: opt-einsum>=2.3.2 in /usr/local/lib/python3.7/dist-packages (from tensorflow~=2.9.0->tf-models-official>=2.9.0->deepconsensus==0.3.0rc) (3.3.0)\n",
            "Requirement already satisfied: wheel<1.0,>=0.23.0 in /usr/local/lib/python3.7/dist-packages (from astunparse>=1.6.0->tensorflow~=2.9.0->tf-models-official>=2.9.0->deepconsensus==0.3.0rc) (0.37.1)\n",
            "Requirement already satisfied: cached-property in /usr/local/lib/python3.7/dist-packages (from h5py>=2.9.0->tensorflow~=2.9.0->tf-models-official>=2.9.0->deepconsensus==0.3.0rc) (1.5.2)\n",
            "Requirement already satisfied: markdown>=2.6.8 in /usr/local/lib/python3.7/dist-packages (from tensorboard<2.10,>=2.9->tensorflow~=2.9.0->tf-models-official>=2.9.0->deepconsensus==0.3.0rc) (3.3.7)\n",
            "Requirement already satisfied: tensorboard-data-server<0.7.0,>=0.6.0 in /usr/local/lib/python3.7/dist-packages (from tensorboard<2.10,>=2.9->tensorflow~=2.9.0->tf-models-official>=2.9.0->deepconsensus==0.3.0rc) (0.6.1)\n",
            "Requirement already satisfied: tensorboard-plugin-wit>=1.6.0 in /usr/local/lib/python3.7/dist-packages (from tensorboard<2.10,>=2.9->tensorflow~=2.9.0->tf-models-official>=2.9.0->deepconsensus==0.3.0rc) (1.8.1)\n",
            "Requirement already satisfied: google-auth-oauthlib<0.5,>=0.4.1 in /usr/local/lib/python3.7/dist-packages (from tensorboard<2.10,>=2.9->tensorflow~=2.9.0->tf-models-official>=2.9.0->deepconsensus==0.3.0rc) (0.4.6)\n",
            "Requirement already satisfied: werkzeug>=1.0.1 in /usr/local/lib/python3.7/dist-packages (from tensorboard<2.10,>=2.9->tensorflow~=2.9.0->tf-models-official>=2.9.0->deepconsensus==0.3.0rc) (1.0.1)\n",
            "Requirement already satisfied: requests-oauthlib>=0.7.0 in /usr/local/lib/python3.7/dist-packages (from google-auth-oauthlib<0.5,>=0.4.1->tensorboard<2.10,>=2.9->tensorflow~=2.9.0->tf-models-official>=2.9.0->deepconsensus==0.3.0rc) (1.3.1)\n",
            "Requirement already satisfied: importlib-metadata>=4.4 in /usr/local/lib/python3.7/dist-packages (from markdown>=2.6.8->tensorboard<2.10,>=2.9->tensorflow~=2.9.0->tf-models-official>=2.9.0->deepconsensus==0.3.0rc) (4.11.4)\n",
            "Requirement already satisfied: oauthlib>=3.0.0 in /usr/local/lib/python3.7/dist-packages (from requests-oauthlib>=0.7.0->google-auth-oauthlib<0.5,>=0.4.1->tensorboard<2.10,>=2.9->tensorflow~=2.9.0->tf-models-official>=2.9.0->deepconsensus==0.3.0rc) (3.2.0)\n",
            "Requirement already satisfied: dm-tree~=0.1.1 in /usr/local/lib/python3.7/dist-packages (from tensorflow-model-optimization>=0.4.1->tf-models-official>=2.9.0->deepconsensus==0.3.0rc) (0.1.7)\n",
            "Requirement already satisfied: kiwisolver>=1.0.1 in /usr/local/lib/python3.7/dist-packages (from matplotlib->tf-models-official>=2.9.0->deepconsensus==0.3.0rc) (1.4.3)\n",
            "Requirement already satisfied: cycler>=0.10 in /usr/local/lib/python3.7/dist-packages (from matplotlib->tf-models-official>=2.9.0->deepconsensus==0.3.0rc) (0.11.0)\n",
            "Requirement already satisfied: text-unidecode>=1.3 in /usr/local/lib/python3.7/dist-packages (from python-slugify->kaggle>=1.3.9->tf-models-official>=2.9.0->deepconsensus==0.3.0rc) (1.3)\n",
            "Collecting portalocker\n",
            "  Downloading portalocker-2.4.0-py2.py3-none-any.whl (16 kB)\n",
            "Collecting colorama\n",
            "  Downloading colorama-0.4.5-py2.py3-none-any.whl (16 kB)\n",
            "Requirement already satisfied: regex in /usr/local/lib/python3.7/dist-packages (from sacrebleu->tf-models-official>=2.9.0->deepconsensus==0.3.0rc) (2022.6.2)\n",
            "Requirement already satisfied: tabulate>=0.8.9 in /usr/local/lib/python3.7/dist-packages (from sacrebleu->tf-models-official>=2.9.0->deepconsensus==0.3.0rc) (0.8.9)\n",
            "Requirement already satisfied: scikit-learn>=0.21.3 in /usr/local/lib/python3.7/dist-packages (from seqeval->tf-models-official>=2.9.0->deepconsensus==0.3.0rc) (1.0.2)\n",
            "Requirement already satisfied: threadpoolctl>=2.0.0 in /usr/local/lib/python3.7/dist-packages (from scikit-learn>=0.21.3->seqeval->tf-models-official>=2.9.0->deepconsensus==0.3.0rc) (3.1.0)\n",
            "Requirement already satisfied: joblib>=0.11 in /usr/local/lib/python3.7/dist-packages (from scikit-learn>=0.21.3->seqeval->tf-models-official>=2.9.0->deepconsensus==0.3.0rc) (1.1.0)\n",
            "Requirement already satisfied: typeguard>=2.7 in /usr/local/lib/python3.7/dist-packages (from tensorflow-addons->tf-models-official>=2.9.0->deepconsensus==0.3.0rc) (2.7.1)\n",
            "Requirement already satisfied: dill in /usr/local/lib/python3.7/dist-packages (from tensorflow-datasets->tf-models-official>=2.9.0->deepconsensus==0.3.0rc) (0.3.5.1)\n",
            "Requirement already satisfied: tensorflow-metadata in /usr/local/lib/python3.7/dist-packages (from tensorflow-datasets->tf-models-official>=2.9.0->deepconsensus==0.3.0rc) (1.8.0)\n",
            "Requirement already satisfied: promise in /usr/local/lib/python3.7/dist-packages (from tensorflow-datasets->tf-models-official>=2.9.0->deepconsensus==0.3.0rc) (2.3)\n",
            "Requirement already satisfied: attrs>=18.1.0 in /usr/local/lib/python3.7/dist-packages (from tensorflow-datasets->tf-models-official>=2.9.0->deepconsensus==0.3.0rc) (21.4.0)\n",
            "Requirement already satisfied: importlib-resources in /usr/local/lib/python3.7/dist-packages (from tensorflow-datasets->tf-models-official>=2.9.0->deepconsensus==0.3.0rc) (5.7.1)\n",
            "Requirement already satisfied: future in /usr/local/lib/python3.7/dist-packages (from tensorflow-datasets->tf-models-official>=2.9.0->deepconsensus==0.3.0rc) (0.16.0)\n",
            "Collecting pbr>=1.8\n",
            "  Downloading pbr-5.9.0-py2.py3-none-any.whl (112 kB)\n",
            "\u001b[K     |████████████████████████████████| 112 kB 52.3 MB/s \n",
            "\u001b[?25hBuilding wheels for collected packages: ml-collections, py-cpuinfo, seqeval\n",
            "  Building wheel for ml-collections (setup.py) ... \u001b[?25l\u001b[?25hdone\n",
            "  Created wheel for ml-collections: filename=ml_collections-0.1.1-py3-none-any.whl size=94524 sha256=b50480c62a5573247d481d55353f0fb8d1766ccfa761f48ef6e62be4ee2bca1a\n",
            "  Stored in directory: /root/.cache/pip/wheels/b7/da/64/33c926a1b10ff19791081b705879561b715a8341a856a3bbd2\n",
            "  Building wheel for py-cpuinfo (setup.py) ... \u001b[?25l\u001b[?25hdone\n",
            "  Created wheel for py-cpuinfo: filename=py_cpuinfo-8.0.0-py3-none-any.whl size=22257 sha256=7f28c7f5563140c0ff4821e92143d9d85c7671e958c030713ef99ddf84e8c0e0\n",
            "  Stored in directory: /root/.cache/pip/wheels/d2/f1/1f/041add21dc9c4220157f1bd2bd6afe1f1a49524c3396b94401\n",
            "  Building wheel for seqeval (setup.py) ... \u001b[?25l\u001b[?25hdone\n",
            "  Created wheel for seqeval: filename=seqeval-1.2.2-py3-none-any.whl size=16180 sha256=4dbee3735e169f78e8eb293dadb2abff5a841f8e6d2e79e0c2fa73c2f5388b68\n",
            "  Stored in directory: /root/.cache/pip/wheels/05/96/ee/7cac4e74f3b19e3158dce26a20a1c86b3533c43ec72a549fd7\n",
            "Successfully built ml-collections py-cpuinfo seqeval\n",
            "Installing collected packages: tensorflow-estimator, tensorboard, keras, gast, flatbuffers, tensorflow, portalocker, colorama, tf-slim, tensorflow-text, tensorflow-model-optimization, tensorflow-addons, seqeval, sentencepiece, sacrebleu, PyYAML, py-cpuinfo, pbr, opencv-python-headless, tf-models-official, testresources, pysam, ml-collections, deepconsensus\n",
            "  Attempting uninstall: tensorflow-estimator\n",
            "    Found existing installation: tensorflow-estimator 2.8.0\n",
            "    Uninstalling tensorflow-estimator-2.8.0:\n",
            "      Successfully uninstalled tensorflow-estimator-2.8.0\n",
            "  Attempting uninstall: tensorboard\n",
            "    Found existing installation: tensorboard 2.8.0\n",
            "    Uninstalling tensorboard-2.8.0:\n",
            "      Successfully uninstalled tensorboard-2.8.0\n",
            "  Attempting uninstall: keras\n",
            "    Found existing installation: keras 2.8.0\n",
            "    Uninstalling keras-2.8.0:\n",
            "      Successfully uninstalled keras-2.8.0\n",
            "  Attempting uninstall: gast\n",
            "    Found existing installation: gast 0.5.3\n",
            "    Uninstalling gast-0.5.3:\n",
            "      Successfully uninstalled gast-0.5.3\n",
            "  Attempting uninstall: flatbuffers\n",
            "    Found existing installation: flatbuffers 2.0\n",
            "    Uninstalling flatbuffers-2.0:\n",
            "      Successfully uninstalled flatbuffers-2.0\n",
            "  Attempting uninstall: tensorflow\n",
            "    Found existing installation: tensorflow 2.8.2+zzzcolab20220527125636\n",
            "    Uninstalling tensorflow-2.8.2+zzzcolab20220527125636:\n",
            "      Successfully uninstalled tensorflow-2.8.2+zzzcolab20220527125636\n",
            "  Attempting uninstall: PyYAML\n",
            "    Found existing installation: PyYAML 3.13\n",
            "    Uninstalling PyYAML-3.13:\n",
            "      Successfully uninstalled PyYAML-3.13\n",
            "Successfully installed PyYAML-5.4.1 colorama-0.4.5 deepconsensus-0.3.0rc0 flatbuffers-1.12 gast-0.4.0 keras-2.9.0 ml-collections-0.1.1 opencv-python-headless-4.6.0.66 pbr-5.9.0 portalocker-2.4.0 py-cpuinfo-8.0.0 pysam-0.19.0 sacrebleu-2.1.0 sentencepiece-0.1.96 seqeval-1.2.2 tensorboard-2.9.1 tensorflow-2.9.1 tensorflow-addons-0.17.1 tensorflow-estimator-2.9.0 tensorflow-model-optimization-0.7.2 tensorflow-text-2.9.0 testresources-2.0.1 tf-models-official-2.9.2 tf-slim-1.1.0\n"
          ]
        },
        {
          "output_type": "display_data",
          "data": {
            "application/vnd.colab-display-data+json": {
              "pip_warning": {
                "packages": [
                  "flatbuffers",
                  "gast",
                  "keras",
                  "tensorboard",
                  "tensorflow"
                ]
              }
            }
          },
          "metadata": {}
        }
      ],
      "source": [
        "! pip install deepconsensus==0.3.0"
      ]
    },
    {
      "cell_type": "code",
      "execution_count": 3,
      "metadata": {
        "colab": {
          "base_uri": "https://localhost:8080/"
        },
        "id": "XvW2wgmYSxm_",
        "outputId": "0fad449f-afae-4168-d2ba-1593acb37e77"
      },
      "outputs": [
        {
          "output_type": "stream",
          "name": "stdout",
          "text": [
            "Looking in indexes: https://pypi.org/simple, https://us-python.pkg.dev/colab-wheels/public/simple/\n",
            "Collecting google-nucleus==0.5.9\n",
            "  Downloading google_nucleus-0.5.9.tar.gz (7.4 MB)\n",
            "\u001b[K     |████████████████████████████████| 7.4 MB 6.0 MB/s \n",
            "\u001b[?25hRequirement already satisfied: contextlib2 in /usr/local/lib/python3.7/dist-packages (from google-nucleus==0.5.9) (0.5.5)\n",
            "Requirement already satisfied: intervaltree in /usr/local/lib/python3.7/dist-packages (from google-nucleus==0.5.9) (2.1.0)\n",
            "Requirement already satisfied: absl-py in /usr/local/lib/python3.7/dist-packages (from google-nucleus==0.5.9) (1.1.0)\n",
            "Collecting mock\n",
            "  Downloading mock-4.0.3-py3-none-any.whl (28 kB)\n",
            "Requirement already satisfied: numpy in /usr/local/lib/python3.7/dist-packages (from google-nucleus==0.5.9) (1.21.6)\n",
            "Requirement already satisfied: six in /usr/local/lib/python3.7/dist-packages (from google-nucleus==0.5.9) (1.15.0)\n",
            "Requirement already satisfied: protobuf in /usr/local/lib/python3.7/dist-packages (from google-nucleus==0.5.9) (3.17.3)\n",
            "Requirement already satisfied: Pillow in /usr/local/lib/python3.7/dist-packages (from google-nucleus==0.5.9) (7.1.2)\n",
            "Requirement already satisfied: ipython in /usr/local/lib/python3.7/dist-packages (from google-nucleus==0.5.9) (5.5.0)\n",
            "Requirement already satisfied: sortedcontainers in /usr/local/lib/python3.7/dist-packages (from intervaltree->google-nucleus==0.5.9) (2.4.0)\n",
            "Requirement already satisfied: pickleshare in /usr/local/lib/python3.7/dist-packages (from ipython->google-nucleus==0.5.9) (0.7.5)\n",
            "Requirement already satisfied: setuptools>=18.5 in /usr/local/lib/python3.7/dist-packages (from ipython->google-nucleus==0.5.9) (57.4.0)\n",
            "Requirement already satisfied: pygments in /usr/local/lib/python3.7/dist-packages (from ipython->google-nucleus==0.5.9) (2.6.1)\n",
            "Requirement already satisfied: pexpect in /usr/local/lib/python3.7/dist-packages (from ipython->google-nucleus==0.5.9) (4.8.0)\n",
            "Requirement already satisfied: traitlets>=4.2 in /usr/local/lib/python3.7/dist-packages (from ipython->google-nucleus==0.5.9) (5.1.1)\n",
            "Requirement already satisfied: decorator in /usr/local/lib/python3.7/dist-packages (from ipython->google-nucleus==0.5.9) (4.4.2)\n",
            "Requirement already satisfied: prompt-toolkit<2.0.0,>=1.0.4 in /usr/local/lib/python3.7/dist-packages (from ipython->google-nucleus==0.5.9) (1.0.18)\n",
            "Requirement already satisfied: simplegeneric>0.8 in /usr/local/lib/python3.7/dist-packages (from ipython->google-nucleus==0.5.9) (0.8.1)\n",
            "Requirement already satisfied: wcwidth in /usr/local/lib/python3.7/dist-packages (from prompt-toolkit<2.0.0,>=1.0.4->ipython->google-nucleus==0.5.9) (0.2.5)\n",
            "Requirement already satisfied: ptyprocess>=0.5 in /usr/local/lib/python3.7/dist-packages (from pexpect->ipython->google-nucleus==0.5.9) (0.7.0)\n",
            "Building wheels for collected packages: google-nucleus\n",
            "  Building wheel for google-nucleus (setup.py) ... \u001b[?25lerror\n",
            "\u001b[31m  ERROR: Failed building wheel for google-nucleus\u001b[0m\n",
            "\u001b[?25h  Running setup.py clean for google-nucleus\n",
            "Failed to build google-nucleus\n",
            "Installing collected packages: mock, google-nucleus\n",
            "    Running setup.py install for google-nucleus ... \u001b[?25l\u001b[?25hdone\n",
            "\u001b[33m  DEPRECATION: google-nucleus was installed using the legacy 'setup.py install' method, because a wheel could not be built for it. A possible replacement is to fix the wheel build issue reported above. You can find discussion regarding this at https://github.com/pypa/pip/issues/8368.\u001b[0m\n",
            "Successfully installed google-nucleus-0.5.9 mock-4.0.3\n",
            "Looking in indexes: https://pypi.org/simple, https://us-python.pkg.dev/colab-wheels/public/simple/\n",
            "Requirement already satisfied: colorama in /usr/local/lib/python3.7/dist-packages (0.4.5)\n"
          ]
        }
      ],
      "source": [
        "# This will say \"ERROR: Failed building wheel for google-nucleus\", but that is fine, Nucleus will still work.\n",
        "! pip install google-nucleus==0.5.9  # for visualization only\n",
        "! pip install colorama"
      ]
    },
    {
      "cell_type": "code",
      "execution_count": 4,
      "metadata": {
        "id": "-8acrGN0gO3r"
      },
      "outputs": [],
      "source": [
        "import colorama\n",
        "import numpy as np\n",
        "import random\n",
        "from deepconsensus.models import model_configs\n",
        "from deepconsensus.models import model_utils\n",
        "from deepconsensus.models import data_providers\n",
        "from deepconsensus.utils import dc_constants\n",
        "from nucleus.util import vis"
      ]
    },
    {
      "cell_type": "markdown",
      "metadata": {
        "id": "JeEhJhdjz-L9"
      },
      "source": [
        "## Define some useful visualization utilities"
      ]
    },
    {
      "cell_type": "code",
      "execution_count": 5,
      "metadata": {
        "id": "eaNmK2KvDQu4"
      },
      "outputs": [],
      "source": [
        "def show_rows_for_one_example(rows, max_passes=20):\n",
        "  \"\"\"Break out the black/white matrix into subreads, ccs, PW, IP, etc.\n",
        "\n",
        "  For each of `max_subreads`, we have four pieces of information: bases, PW, IP,\n",
        "  and strand. We also have one row for CCS, and four rows for SN (in that\n",
        "  order).\n",
        "  The information is structured as follows:\n",
        "  Bases: rows 0 to  (params.max_passes - 1)\n",
        "  PW: rows (params.max_passes) to (params.max_passes * 2 - 1)\n",
        "  IP: rows (params.max_passes * 2) to (params.max_passes * 3 - 1)\n",
        "  Strand: rows (params.max_passes * 3) to (params.max_passes * 4 - 1)\n",
        "  CCS+SN: rows (params.max_passes * 4) to (params.max_passes * 4 + 5)\n",
        "  \"\"\"\n",
        "  print('bases:')\n",
        "  vis.array_to_png(rows[0:max_passes])\n",
        "  print('PW: pulse-width')\n",
        "  pw = rows[max_passes:max_passes*2]\n",
        "  vis.array_to_png(pw)\n",
        "  print('IP: inter-pulse duration')\n",
        "  ip = rows[max_passes*2:max_passes*3]\n",
        "  vis.array_to_png(ip)\n",
        "\n",
        "  print('Strand:')\n",
        "  vis.array_to_png(rows[max_passes*3:-5])\n",
        "\n",
        "  print('CCS:')\n",
        "  ccs = rows[-5:-4]\n",
        "  vis.array_to_png(ccs)\n",
        "  print('SN:')\n",
        "  sn = rows[-4:]\n",
        "  vis.array_to_png(sn)"
      ]
    },
    {
      "cell_type": "code",
      "execution_count": 6,
      "metadata": {
        "id": "I6JvBvGDz__7"
      },
      "outputs": [],
      "source": [
        "def encoded_sequence_to_string(encoded_sequence):\n",
        "  \"\"\"Convert an encoded sequence (a series of integers) to a DNA string.\"\"\"\n",
        "  return ''.join([dc_constants.VOCAB[int(base)] for base in encoded_sequence])\n",
        "\n",
        "\n",
        "def get_ccs_matrix(rows_for_one_example):\n",
        "  \"\"\"Slice the encoded CCS out of the 2d rows matrix of one example.\"\"\"\n",
        "  return rows_for_one_example[-5, :]\n",
        "\n",
        "\n",
        "def get_ccs_seq(rows_for_one_example):\n",
        "  \"\"\"Get CCS string out of the 2d rows matrix of one example.\"\"\"\n",
        "  return encoded_sequence_to_string(get_ccs_matrix(rows_for_one_example))\n",
        "\n",
        "\n",
        "def colorful(seq):\n",
        "  \"\"\"Add colors to a sequence of DNA.\"\"\"\n",
        "  fore = colorama.Fore\n",
        "  background = colorama.Back\n",
        "  colors = {\n",
        "      'A': fore.GREEN,\n",
        "      'C': fore.BLUE,\n",
        "      'G': fore.YELLOW,\n",
        "      'T': fore.RED,\n",
        "      dc_constants.GAP_OR_PAD: background.WHITE\n",
        "  }\n",
        "  reset = fore.BLACK + background.RESET\n",
        "  colored_seq = [f'{colors.get(base, reset)}{base}{reset}' for base in seq]\n",
        "  return ''.join(colored_seq)\n",
        "\n",
        "\n",
        "def show_example(batch, example_i, ypreds=None, max_passes=20):\n",
        "  \"\"\"Show an example with subreads, ccs, predictions, and labels.\"\"\"\n",
        "  batch_size = batch['rows'].shape[0]\n",
        "  rows = batch['rows'][example_i, :, :, 0]\n",
        "  ccs_i = get_ccs_seq(rows)\n",
        "  print(f'Example: {example_i} of {batch_size} (batch)')\n",
        "  print('How the sequences are represented for the model:')\n",
        "  subreads = rows[0:max_passes, :]\n",
        "  for subread_i in range(len(subreads)):\n",
        "    print(f'Subread {subread_i + 1}\\t',\n",
        "          colorful(encoded_sequence_to_string(subreads[subread_i, :])))\n",
        "  print('ccs:\\t\\t', colorful(ccs_i))\n",
        "  if ypreds is not None:\n",
        "    predicted_sequence = encoded_sequence_to_string(ypreds[example_i])\n",
        "    print('prediction:\\t', colorful(predicted_sequence))\n",
        "  if 'label' in batch:\n",
        "    label = encoded_sequence_to_string(batch['label'][example_i])\n",
        "    print('label:\\t\\t', colorful(label))\n",
        "  print('\\n')\n"
      ]
    },
    {
      "cell_type": "markdown",
      "metadata": {
        "id": "9ud2PAKoRkPQ"
      },
      "source": [
        "## Load the model"
      ]
    },
    {
      "cell_type": "code",
      "execution_count": 7,
      "metadata": {
        "colab": {
          "base_uri": "https://localhost:8080/"
        },
        "id": "qSChLKTvJbbT",
        "outputId": "4332224f-af21-4ee5-fd1a-e3e54e8cad0b"
      },
      "outputs": [
        {
          "output_type": "stream",
          "name": "stdout",
          "text": [
            "Copying gs://brain-genomics-public/research/deepconsensus/models/v0.3/saved_model/params.json...\n",
            "Copying gs://brain-genomics-public/research/deepconsensus/models/v0.3/saved_model/saved_model.pb...\n",
            "Copying gs://brain-genomics-public/research/deepconsensus/models/v0.3/saved_model/variables/variables.data-00000-of-00001...\n",
            "Copying gs://brain-genomics-public/research/deepconsensus/models/v0.3/saved_model/variables/variables.index...\n",
            "| [4 files][ 38.2 MiB/ 38.2 MiB]                                                \n",
            "Operation completed over 4 objects/38.2 MiB.                                     \n"
          ]
        }
      ],
      "source": [
        "! mkdir deepconsensus_model\n",
        "! gsutil cp -r gs://brain-genomics-public/research/deepconsensus/models/v0.3/saved_model/* deepconsensus_model/"
      ]
    },
    {
      "cell_type": "code",
      "execution_count": 8,
      "metadata": {
        "colab": {
          "base_uri": "https://localhost:8080/"
        },
        "id": "yAUgY-yNKf0-",
        "outputId": "73683ca0-635a-47a2-97c2-557f1be83065"
      },
      "outputs": [
        {
          "output_type": "stream",
          "name": "stdout",
          "text": [
            "Copying gs://brain-genomics-public/research/deepconsensus/test_data/v0.3/tf-test-00001-of-00500.tfrecord.gz...\n",
            "/ [1 files][122.4 MiB/122.4 MiB]                                                \n",
            "Operation completed over 1 objects/122.4 MiB.                                    \n"
          ]
        }
      ],
      "source": [
        "! gsutil cp gs://brain-genomics-public/research/deepconsensus/test_data/v0.3/tf-test-00001-of-00500.tfrecord.gz ./tf-test.tfrecord.gz"
      ]
    },
    {
      "cell_type": "code",
      "execution_count": 9,
      "metadata": {
        "colab": {
          "base_uri": "https://localhost:8080/"
        },
        "id": "4j-SQrmrKOeB",
        "outputId": "8d437fec-93eb-41ba-a747-d8c8e481ff26"
      },
      "outputs": [
        {
          "output_type": "execute_result",
          "data": {
            "text/plain": [
              "<tensorflow.python.saved_model.load.Loader._recreate_base_user_object.<locals>._UserObject at 0x7f306d52cc50>"
            ]
          },
          "metadata": {},
          "execution_count": 9
        }
      ],
      "source": [
        "saved_model_path = 'deepconsensus_model/'\n",
        "model = tf.saved_model.load(saved_model_path)\n",
        "params = model_utils.read_params_from_json(checkpoint_path=saved_model_path)\n",
        "model"
      ]
    },
    {
      "cell_type": "markdown",
      "metadata": {
        "id": "q9l_un5cE7la"
      },
      "source": [
        "# Load examples from tfrecords"
      ]
    },
    {
      "cell_type": "code",
      "execution_count": 10,
      "metadata": {
        "colab": {
          "base_uri": "https://localhost:8080/"
        },
        "id": "5LofUAISLJCk",
        "outputId": "4a5748e0-3c2a-4c1e-ac71-1d31341747e4"
      },
      "outputs": [
        {
          "output_type": "stream",
          "name": "stdout",
          "text": [
            "name.shape: (20, 1)\n",
            "label.shape: (20, 120)\n",
            "rows.shape: (20, 85, 120, 1)\n",
            "num_passes.shape: (20, 1)\n",
            "window_pos.shape: (20, 1)\n"
          ]
        }
      ],
      "source": [
        "tfrecord_path = 'tf-test.tfrecord.gz'\n",
        "\n",
        "# Number of examples:\n",
        "batch_size = 20  #@param\n",
        "\n",
        "ds = data_providers.get_dataset(tfrecord_path,\n",
        "                                num_epochs=None,\n",
        "                                batch_size=batch_size,\n",
        "                                params=params,\n",
        "                                inference=False)\n",
        "\n",
        "# Just get one batch to inspect:\n",
        "for batch in ds.take(1):\n",
        "  break\n",
        "\n",
        "keys = ['name', 'label', 'rows', 'num_passes', 'window_pos']\n",
        "for key in keys:\n",
        "  print(f'{key}.shape: {batch[key].shape}')"
      ]
    },
    {
      "cell_type": "markdown",
      "metadata": {
        "id": "PNQh8unFFBY3"
      },
      "source": [
        "## Visualize the rows of one example. This is what the model sees.\n",
        "\n",
        "Rows is of shape `[batch_size, input_size, length, 1]`.\n",
        "\n",
        "So when we take `rows[example_i,:,:,0]`, that is one example in the batch, and we get a 2D matrix (getting rid of the last dimension that was only a placeholder for model code)."
      ]
    },
    {
      "cell_type": "code",
      "execution_count": 11,
      "metadata": {
        "colab": {
          "base_uri": "https://localhost:8080/",
          "height": 444
        },
        "id": "z_UtiU_a3K7b",
        "outputId": "a8a6729a-1170-43e4-c576-0309efba76c6"
      },
      "outputs": [
        {
          "output_type": "stream",
          "name": "stdout",
          "text": [
            "Example: 3 of 20 (batch)\n",
            "ZMW: b'm64062_190803_042216/393833/ccs'\n",
            "window_pos: 5857 bp (where example starts within the CCS read)\n",
            "num_passes: 6 subreads\n",
            "What the model sees:\n"
          ]
        },
        {
          "output_type": "display_data",
          "data": {
            "text/plain": [
              "<IPython.core.display.Image object>"
            ],
            "image/png": "[encoded data removed]"
          },
          "metadata": {}
        }
      ],
      "source": [
        "example_i = int(random.random() * batch_size)\n",
        "\n",
        "print(f'Example: {example_i} of {batch_size} (batch)')\n",
        "print('ZMW:', batch['name'][example_i].numpy()[0])\n",
        "print('window_pos:', int(batch['window_pos'][example_i].numpy()), 'bp (where example starts within the CCS read)')\n",
        "print('num_passes:', int(batch['num_passes'][example_i]), 'subreads')\n",
        "print('What the model sees:')\n",
        "vis.array_to_png(batch['rows'][example_i,:,:,0])"
      ]
    },
    {
      "cell_type": "markdown",
      "metadata": {
        "id": "vwMpZP4EFKbF"
      },
      "source": [
        "### Let's break that down\n",
        "\n",
        "Each matrix is composed of multiple data types layered in rows. The bases, pulse-width, inter-pulse duration, and strand are per-subread, up to the max number of subreads (this is in params.max_passes, which as of DeepConsensus v0.3 is 20). The input also contains a draft circular consensus sequence (CCS) from PacBio and the signal-to-noise ratio (SN)."
      ]
    },
    {
      "cell_type": "code",
      "execution_count": 12,
      "metadata": {
        "colab": {
          "base_uri": "https://localhost:8080/",
          "height": 493
        },
        "id": "o_n_pl8N6kmL",
        "outputId": "c60685c7-b46b-4bed-8a3d-b979650193cc"
      },
      "outputs": [
        {
          "output_type": "stream",
          "name": "stdout",
          "text": [
            "Example: 3 of 20 (batch)\n",
            "bases:\n"
          ]
        },
        {
          "output_type": "display_data",
          "data": {
            "text/plain": [
              "<IPython.core.display.Image object>"
            ],
            "image/png": "[encoded data removed]"
          },
          "metadata": {}
        },
        {
          "output_type": "stream",
          "name": "stdout",
          "text": [
            "PW: pulse-width\n"
          ]
        },
        {
          "output_type": "display_data",
          "data": {
            "text/plain": [
              "<IPython.core.display.Image object>"
            ],
            "image/png": "[encoded data removed]"
          },
          "metadata": {}
        },
        {
          "output_type": "stream",
          "name": "stdout",
          "text": [
            "IP: inter-pulse duration\n"
          ]
        },
        {
          "output_type": "display_data",
          "data": {
            "text/plain": [
              "<IPython.core.display.Image object>"
            ],
            "image/png": "[encoded data removed]"
          },
          "metadata": {}
        },
        {
          "output_type": "stream",
          "name": "stdout",
          "text": [
            "Strand:\n"
          ]
        },
        {
          "output_type": "display_data",
          "data": {
            "text/plain": [
              "<IPython.core.display.Image object>"
            ],
            "image/png": "[encoded data removed]"
          },
          "metadata": {}
        },
        {
          "output_type": "stream",
          "name": "stdout",
          "text": [
            "CCS:\n"
          ]
        },
        {
          "output_type": "display_data",
          "data": {
            "text/plain": [
              "<IPython.core.display.Image object>"
            ],
            "image/png": "[encoded data removed]"
          },
          "metadata": {}
        },
        {
          "output_type": "stream",
          "name": "stdout",
          "text": [
            "SN:\n"
          ]
        },
        {
          "output_type": "display_data",
          "data": {
            "text/plain": [
              "<IPython.core.display.Image object>"
            ],
            "image/png": "[encoded data removed]"
          },
          "metadata": {}
        }
      ],
      "source": [
        "print(f'Example: {example_i} of {batch_size} (batch)')\n",
        "show_rows_for_one_example(rows=batch['rows'][example_i,:,:,0])"
      ]
    },
    {
      "cell_type": "markdown",
      "metadata": {
        "id": "E1bfS54qJmKS"
      },
      "source": [
        "# Run the model\n",
        "\n",
        "Run the model on `rows`, which is the input data for the model that we visualized above."
      ]
    },
    {
      "cell_type": "code",
      "execution_count": 13,
      "metadata": {
        "colab": {
          "base_uri": "https://localhost:8080/"
        },
        "id": "PhZ9e3c4Ev_q",
        "outputId": "03833da8-36e4-4176-acda-3b66caaf0aa6"
      },
      "outputs": [
        {
          "output_type": "stream",
          "name": "stdout",
          "text": [
            "(20, 120, 5)\n"
          ]
        }
      ],
      "source": [
        "softmax_output = model.signatures['serving_default'](batch['rows'])\n",
        "softmax_output = softmax_output['output_1'].numpy()\n",
        "print(softmax_output.shape)"
      ]
    },
    {
      "cell_type": "code",
      "execution_count": 14,
      "metadata": {
        "colab": {
          "base_uri": "https://localhost:8080/"
        },
        "id": "1fUdN5Qk4BqR",
        "outputId": "2f707da8-4769-44d8-dde0-06d5d2042f1f"
      },
      "outputs": [
        {
          "output_type": "stream",
          "name": "stdout",
          "text": [
            "(20, 120)\n"
          ]
        }
      ],
      "source": [
        "y_preds = np.argmax(softmax_output, -1)\n",
        "print(y_preds.shape)"
      ]
    },
    {
      "cell_type": "markdown",
      "metadata": {
        "id": "ubbKa3ohHnNU"
      },
      "source": [
        "### Interpreting y_preds output"
      ]
    },
    {
      "cell_type": "code",
      "execution_count": 15,
      "metadata": {
        "colab": {
          "base_uri": "https://localhost:8080/"
        },
        "id": "Ccsv4-2tGY_B",
        "outputId": "9f5da396-2759-40cd-becd-20a7d57faa2f"
      },
      "outputs": [
        {
          "output_type": "stream",
          "name": "stdout",
          "text": [
            "Prediction for example 3:\n",
            "[1 2 2 1 4 1 3 3 0 3 2 3 3 1 0 2 2 0 0 2 2 4 2 4 0 2 4 2 3 2 2 3 2 2 4 2 2\n",
            " 2 4 2 4 2 3 2 3 0 2 0 1 1 1 0 2 0 2 1 2 3 3 2 2 2 4 4 0 3 2 2 1 1 2 1 1 2\n",
            " 1 1 2 2 1 1 4 2 3 3 3 2 2 3 2 1 3 4 2 4 3 3 1 4 4 3 0 0 0 0 0 0 0 0 0 0 0\n",
            " 0 0 0 0 0 0 0 0 0]\n",
            "Which translates to:\n",
            "ATTAGACC CTCCA TT  TTGTG TGTCTTCTTGTTTGTGTCTC T AAA T TATCCTTTGG CTTAATAATAATTAAGTCCCTTCTACGTGCCAGGC                    \n"
          ]
        }
      ],
      "source": [
        "prediction = y_preds[example_i]\n",
        "print(f'Prediction for example {example_i}:')\n",
        "print(prediction)\n",
        "print('Which translates to:')\n",
        "print(encoded_sequence_to_string(prediction))"
      ]
    },
    {
      "cell_type": "code",
      "execution_count": 16,
      "metadata": {
        "colab": {
          "base_uri": "https://localhost:8080/"
        },
        "id": "aev-USdKHido",
        "outputId": "bc8e098c-9e03-42bf-bc2b-a667cca5b6ef"
      },
      "outputs": [
        {
          "output_type": "stream",
          "name": "stdout",
          "text": [
            "For reference, the alphabet is:\n",
            "0 -> \" \"\n",
            "1 -> \"A\"\n",
            "2 -> \"T\"\n",
            "3 -> \"C\"\n",
            "4 -> \"G\"\n"
          ]
        }
      ],
      "source": [
        "print('For reference, the alphabet is:')\n",
        "print('\\n'.join([f'{i} -> \"{s}\"' for i,s in enumerate(dc_constants.VOCAB)]))"
      ]
    },
    {
      "cell_type": "markdown",
      "metadata": {
        "id": "-h8WSfZ1xNB8"
      },
      "source": [
        "# Visualize example sequences alongside prediction and label"
      ]
    },
    {
      "cell_type": "code",
      "execution_count": 17,
      "metadata": {
        "colab": {
          "base_uri": "https://localhost:8080/"
        },
        "id": "575Hy7n-xTZS",
        "outputId": "603ffb81-bad4-4607-e7ff-c4d27a6c2a7b"
      },
      "outputs": [
        {
          "output_type": "stream",
          "name": "stdout",
          "text": [
            "Example: 3 of 20 (batch)\n",
            "How the sequences are represented for the model:\n",
            "Subread 1\t \u001b[32mA\u001b[30m\u001b[49m\u001b[31mT\u001b[30m\u001b[49m\u001b[31mT\u001b[30m\u001b[49m\u001b[32mA\u001b[30m\u001b[49m\u001b[33mG\u001b[30m\u001b[49m\u001b[32mA\u001b[30m\u001b[49m\u001b[34mC\u001b[30m\u001b[49m\u001b[34mC\u001b[30m\u001b[49m\u001b[47m \u001b[30m\u001b[49m\u001b[34mC\u001b[30m\u001b[49m\u001b[33mG\u001b[30m\u001b[49m\u001b[34mC\u001b[30m\u001b[49m\u001b[34mC\u001b[30m\u001b[49m\u001b[32mA\u001b[30m\u001b[49m\u001b[47m \u001b[30m\u001b[49m\u001b[31mT\u001b[30m\u001b[49m\u001b[31mT\u001b[30m\u001b[49m\u001b[31mT\u001b[30m\u001b[49m\u001b[33mG\u001b[30m\u001b[49m\u001b[31mT\u001b[30m\u001b[49m\u001b[31mT\u001b[30m\u001b[49m\u001b[33mG\u001b[30m\u001b[49m\u001b[31mT\u001b[30m\u001b[49m\u001b[33mG\u001b[30m\u001b[49m\u001b[47m \u001b[30m\u001b[49m\u001b[31mT\u001b[30m\u001b[49m\u001b[47m \u001b[30m\u001b[49m\u001b[31mT\u001b[30m\u001b[49m\u001b[34mC\u001b[30m\u001b[49m\u001b[31mT\u001b[30m\u001b[49m\u001b[31mT\u001b[30m\u001b[49m\u001b[34mC\u001b[30m\u001b[49m\u001b[31mT\u001b[30m\u001b[49m\u001b[31mT\u001b[30m\u001b[49m\u001b[33mG\u001b[30m\u001b[49m\u001b[31mT\u001b[30m\u001b[49m\u001b[31mT\u001b[30m\u001b[49m\u001b[31mT\u001b[30m\u001b[49m\u001b[47m \u001b[30m\u001b[49m\u001b[31mT\u001b[30m\u001b[49m\u001b[33mG\u001b[30m\u001b[49m\u001b[31mT\u001b[30m\u001b[49m\u001b[34mC\u001b[30m\u001b[49m\u001b[31mT\u001b[30m\u001b[49m\u001b[34mC\u001b[30m\u001b[49m\u001b[47m \u001b[30m\u001b[49m\u001b[31mT\u001b[30m\u001b[49m\u001b[47m \u001b[30m\u001b[49m\u001b[32mA\u001b[30m\u001b[49m\u001b[32mA\u001b[30m\u001b[49m\u001b[32mA\u001b[30m\u001b[49m\u001b[47m \u001b[30m\u001b[49m\u001b[47m \u001b[30m\u001b[49m\u001b[47m \u001b[30m\u001b[49m\u001b[31mT\u001b[30m\u001b[49m\u001b[32mA\u001b[30m\u001b[49m\u001b[31mT\u001b[30m\u001b[49m\u001b[47m \u001b[30m\u001b[49m\u001b[34mC\u001b[30m\u001b[49m\u001b[31mT\u001b[30m\u001b[49m\u001b[31mT\u001b[30m\u001b[49m\u001b[31mT\u001b[30m\u001b[49m\u001b[33mG\u001b[30m\u001b[49m\u001b[33mG\u001b[30m\u001b[49m\u001b[32mA\u001b[30m\u001b[49m\u001b[34mC\u001b[30m\u001b[49m\u001b[31mT\u001b[30m\u001b[49m\u001b[31mT\u001b[30m\u001b[49m\u001b[32mA\u001b[30m\u001b[49m\u001b[32mA\u001b[30m\u001b[49m\u001b[31mT\u001b[30m\u001b[49m\u001b[32mA\u001b[30m\u001b[49m\u001b[32mA\u001b[30m\u001b[49m\u001b[31mT\u001b[30m\u001b[49m\u001b[32mA\u001b[30m\u001b[49m\u001b[32mA\u001b[30m\u001b[49m\u001b[32mA\u001b[30m\u001b[49m\u001b[31mT\u001b[30m\u001b[49m\u001b[32mA\u001b[30m\u001b[49m\u001b[32mA\u001b[30m\u001b[49m\u001b[33mG\u001b[30m\u001b[49m\u001b[31mT\u001b[30m\u001b[49m\u001b[34mC\u001b[30m\u001b[49m\u001b[34mC\u001b[30m\u001b[49m\u001b[34mC\u001b[30m\u001b[49m\u001b[31mT\u001b[30m\u001b[49m\u001b[31mT\u001b[30m\u001b[49m\u001b[34mC\u001b[30m\u001b[49m\u001b[31mT\u001b[30m\u001b[49m\u001b[32mA\u001b[30m\u001b[49m\u001b[34mC\u001b[30m\u001b[49m\u001b[33mG\u001b[30m\u001b[49m\u001b[31mT\u001b[30m\u001b[49m\u001b[47m \u001b[30m\u001b[49m\u001b[34mC\u001b[30m\u001b[49m\u001b[34mC\u001b[30m\u001b[49m\u001b[32mA\u001b[30m\u001b[49m\u001b[33mG\u001b[30m\u001b[49m\u001b[34mC\u001b[30m\u001b[49m\u001b[34mC\u001b[30m\u001b[49m\u001b[47m \u001b[30m\u001b[49m\u001b[47m \u001b[30m\u001b[49m\u001b[47m \u001b[30m\u001b[49m\u001b[47m \u001b[30m\u001b[49m\u001b[47m \u001b[30m\u001b[49m\u001b[47m \u001b[30m\u001b[49m\u001b[47m \u001b[30m\u001b[49m\u001b[47m \u001b[30m\u001b[49m\u001b[47m \u001b[30m\u001b[49m\u001b[47m \u001b[30m\u001b[49m\u001b[47m \u001b[30m\u001b[49m\u001b[47m \u001b[30m\u001b[49m\u001b[47m \u001b[30m\u001b[49m\u001b[47m \u001b[30m\u001b[49m\u001b[47m \u001b[30m\u001b[49m\u001b[47m \u001b[30m\u001b[49m\u001b[47m \u001b[30m\u001b[49m\u001b[47m \u001b[30m\u001b[49m\u001b[47m \u001b[30m\u001b[49m\u001b[47m \u001b[30m\u001b[49m\n",
            "Subread 2\t \u001b[32mA\u001b[30m\u001b[49m\u001b[31mT\u001b[30m\u001b[49m\u001b[31mT\u001b[30m\u001b[49m\u001b[34mC\u001b[30m\u001b[49m\u001b[33mG\u001b[30m\u001b[49m\u001b[32mA\u001b[30m\u001b[49m\u001b[47m \u001b[30m\u001b[49m\u001b[47m \u001b[30m\u001b[49m\u001b[47m \u001b[30m\u001b[49m\u001b[34mC\u001b[30m\u001b[49m\u001b[31mT\u001b[30m\u001b[49m\u001b[47m \u001b[30m\u001b[49m\u001b[34mC\u001b[30m\u001b[49m\u001b[32mA\u001b[30m\u001b[49m\u001b[47m \u001b[30m\u001b[49m\u001b[31mT\u001b[30m\u001b[49m\u001b[31mT\u001b[30m\u001b[49m\u001b[47m \u001b[30m\u001b[49m\u001b[47m \u001b[30m\u001b[49m\u001b[31mT\u001b[30m\u001b[49m\u001b[31mT\u001b[30m\u001b[49m\u001b[33mG\u001b[30m\u001b[49m\u001b[31mT\u001b[30m\u001b[49m\u001b[33mG\u001b[30m\u001b[49m\u001b[32mA\u001b[30m\u001b[49m\u001b[32mA\u001b[30m\u001b[49m\u001b[33mG\u001b[30m\u001b[49m\u001b[31mT\u001b[30m\u001b[49m\u001b[32mA\u001b[30m\u001b[49m\u001b[31mT\u001b[30m\u001b[49m\u001b[31mT\u001b[30m\u001b[49m\u001b[34mC\u001b[30m\u001b[49m\u001b[31mT\u001b[30m\u001b[49m\u001b[31mT\u001b[30m\u001b[49m\u001b[33mG\u001b[30m\u001b[49m\u001b[31mT\u001b[30m\u001b[49m\u001b[31mT\u001b[30m\u001b[49m\u001b[31mT\u001b[30m\u001b[49m\u001b[33mG\u001b[30m\u001b[49m\u001b[31mT\u001b[30m\u001b[49m\u001b[33mG\u001b[30m\u001b[49m\u001b[31mT\u001b[30m\u001b[49m\u001b[34mC\u001b[30m\u001b[49m\u001b[32mA\u001b[30m\u001b[49m\u001b[34mC\u001b[30m\u001b[49m\u001b[47m \u001b[30m\u001b[49m\u001b[31mT\u001b[30m\u001b[49m\u001b[32mA\u001b[30m\u001b[49m\u001b[32mA\u001b[30m\u001b[49m\u001b[32mA\u001b[30m\u001b[49m\u001b[32mA\u001b[30m\u001b[49m\u001b[47m \u001b[30m\u001b[49m\u001b[31mT\u001b[30m\u001b[49m\u001b[47m \u001b[30m\u001b[49m\u001b[31mT\u001b[30m\u001b[49m\u001b[32mA\u001b[30m\u001b[49m\u001b[31mT\u001b[30m\u001b[49m\u001b[34mC\u001b[30m\u001b[49m\u001b[31mT\u001b[30m\u001b[49m\u001b[31mT\u001b[30m\u001b[49m\u001b[31mT\u001b[30m\u001b[49m\u001b[33mG\u001b[30m\u001b[49m\u001b[33mG\u001b[30m\u001b[49m\u001b[33mG\u001b[30m\u001b[49m\u001b[47m \u001b[30m\u001b[49m\u001b[34mC\u001b[30m\u001b[49m\u001b[31mT\u001b[30m\u001b[49m\u001b[31mT\u001b[30m\u001b[49m\u001b[32mA\u001b[30m\u001b[49m\u001b[32mA\u001b[30m\u001b[49m\u001b[31mT\u001b[30m\u001b[49m\u001b[32mA\u001b[30m\u001b[49m\u001b[32mA\u001b[30m\u001b[49m\u001b[31mT\u001b[30m\u001b[49m\u001b[32mA\u001b[30m\u001b[49m\u001b[34mC\u001b[30m\u001b[49m\u001b[31mT\u001b[30m\u001b[49m\u001b[31mT\u001b[30m\u001b[49m\u001b[32mA\u001b[30m\u001b[49m\u001b[32mA\u001b[30m\u001b[49m\u001b[33mG\u001b[30m\u001b[49m\u001b[31mT\u001b[30m\u001b[49m\u001b[47m \u001b[30m\u001b[49m\u001b[47m \u001b[30m\u001b[49m\u001b[34mC\u001b[30m\u001b[49m\u001b[31mT\u001b[30m\u001b[49m\u001b[31mT\u001b[30m\u001b[49m\u001b[34mC\u001b[30m\u001b[49m\u001b[31mT\u001b[30m\u001b[49m\u001b[32mA\u001b[30m\u001b[49m\u001b[34mC\u001b[30m\u001b[49m\u001b[33mG\u001b[30m\u001b[49m\u001b[31mT\u001b[30m\u001b[49m\u001b[33mG\u001b[30m\u001b[49m\u001b[47m \u001b[30m\u001b[49m\u001b[34mC\u001b[30m\u001b[49m\u001b[32mA\u001b[30m\u001b[49m\u001b[33mG\u001b[30m\u001b[49m\u001b[33mG\u001b[30m\u001b[49m\u001b[34mC\u001b[30m\u001b[49m\u001b[47m \u001b[30m\u001b[49m\u001b[47m \u001b[30m\u001b[49m\u001b[47m \u001b[30m\u001b[49m\u001b[47m \u001b[30m\u001b[49m\u001b[47m \u001b[30m\u001b[49m\u001b[47m \u001b[30m\u001b[49m\u001b[47m \u001b[30m\u001b[49m\u001b[47m \u001b[30m\u001b[49m\u001b[47m \u001b[30m\u001b[49m\u001b[47m \u001b[30m\u001b[49m\u001b[47m \u001b[30m\u001b[49m\u001b[47m \u001b[30m\u001b[49m\u001b[47m \u001b[30m\u001b[49m\u001b[47m \u001b[30m\u001b[49m\u001b[47m \u001b[30m\u001b[49m\u001b[47m \u001b[30m\u001b[49m\u001b[47m \u001b[30m\u001b[49m\u001b[47m \u001b[30m\u001b[49m\u001b[47m \u001b[30m\u001b[49m\u001b[47m \u001b[30m\u001b[49m\n",
            "Subread 3\t \u001b[32mA\u001b[30m\u001b[49m\u001b[31mT\u001b[30m\u001b[49m\u001b[31mT\u001b[30m\u001b[49m\u001b[32mA\u001b[30m\u001b[49m\u001b[33mG\u001b[30m\u001b[49m\u001b[32mA\u001b[30m\u001b[49m\u001b[34mC\u001b[30m\u001b[49m\u001b[34mC\u001b[30m\u001b[49m\u001b[47m \u001b[30m\u001b[49m\u001b[34mC\u001b[30m\u001b[49m\u001b[33mG\u001b[30m\u001b[49m\u001b[34mC\u001b[30m\u001b[49m\u001b[34mC\u001b[30m\u001b[49m\u001b[32mA\u001b[30m\u001b[49m\u001b[47m \u001b[30m\u001b[49m\u001b[31mT\u001b[30m\u001b[49m\u001b[33mG\u001b[30m\u001b[49m\u001b[47m \u001b[30m\u001b[49m\u001b[47m \u001b[30m\u001b[49m\u001b[31mT\u001b[30m\u001b[49m\u001b[31mT\u001b[30m\u001b[49m\u001b[33mG\u001b[30m\u001b[49m\u001b[31mT\u001b[30m\u001b[49m\u001b[33mG\u001b[30m\u001b[49m\u001b[47m \u001b[30m\u001b[49m\u001b[31mT\u001b[30m\u001b[49m\u001b[33mG\u001b[30m\u001b[49m\u001b[31mT\u001b[30m\u001b[49m\u001b[34mC\u001b[30m\u001b[49m\u001b[31mT\u001b[30m\u001b[49m\u001b[31mT\u001b[30m\u001b[49m\u001b[34mC\u001b[30m\u001b[49m\u001b[31mT\u001b[30m\u001b[49m\u001b[31mT\u001b[30m\u001b[49m\u001b[33mG\u001b[30m\u001b[49m\u001b[47m \u001b[30m\u001b[49m\u001b[31mT\u001b[30m\u001b[49m\u001b[31mT\u001b[30m\u001b[49m\u001b[33mG\u001b[30m\u001b[49m\u001b[31mT\u001b[30m\u001b[49m\u001b[33mG\u001b[30m\u001b[49m\u001b[31mT\u001b[30m\u001b[49m\u001b[34mC\u001b[30m\u001b[49m\u001b[31mT\u001b[30m\u001b[49m\u001b[34mC\u001b[30m\u001b[49m\u001b[47m \u001b[30m\u001b[49m\u001b[31mT\u001b[30m\u001b[49m\u001b[47m \u001b[30m\u001b[49m\u001b[32mA\u001b[30m\u001b[49m\u001b[32mA\u001b[30m\u001b[49m\u001b[32mA\u001b[30m\u001b[49m\u001b[47m \u001b[30m\u001b[49m\u001b[31mT\u001b[30m\u001b[49m\u001b[33mG\u001b[30m\u001b[49m\u001b[32mA\u001b[30m\u001b[49m\u001b[32mA\u001b[30m\u001b[49m\u001b[31mT\u001b[30m\u001b[49m\u001b[34mC\u001b[30m\u001b[49m\u001b[34mC\u001b[30m\u001b[49m\u001b[31mT\u001b[30m\u001b[49m\u001b[31mT\u001b[30m\u001b[49m\u001b[31mT\u001b[30m\u001b[49m\u001b[33mG\u001b[30m\u001b[49m\u001b[33mG\u001b[30m\u001b[49m\u001b[47m \u001b[30m\u001b[49m\u001b[34mC\u001b[30m\u001b[49m\u001b[31mT\u001b[30m\u001b[49m\u001b[31mT\u001b[30m\u001b[49m\u001b[32mA\u001b[30m\u001b[49m\u001b[32mA\u001b[30m\u001b[49m\u001b[31mT\u001b[30m\u001b[49m\u001b[32mA\u001b[30m\u001b[49m\u001b[32mA\u001b[30m\u001b[49m\u001b[33mG\u001b[30m\u001b[49m\u001b[32mA\u001b[30m\u001b[49m\u001b[32mA\u001b[30m\u001b[49m\u001b[31mT\u001b[30m\u001b[49m\u001b[31mT\u001b[30m\u001b[49m\u001b[32mA\u001b[30m\u001b[49m\u001b[32mA\u001b[30m\u001b[49m\u001b[33mG\u001b[30m\u001b[49m\u001b[31mT\u001b[30m\u001b[49m\u001b[34mC\u001b[30m\u001b[49m\u001b[34mC\u001b[30m\u001b[49m\u001b[34mC\u001b[30m\u001b[49m\u001b[31mT\u001b[30m\u001b[49m\u001b[31mT\u001b[30m\u001b[49m\u001b[34mC\u001b[30m\u001b[49m\u001b[31mT\u001b[30m\u001b[49m\u001b[32mA\u001b[30m\u001b[49m\u001b[34mC\u001b[30m\u001b[49m\u001b[33mG\u001b[30m\u001b[49m\u001b[32mA\u001b[30m\u001b[49m\u001b[33mG\u001b[30m\u001b[49m\u001b[34mC\u001b[30m\u001b[49m\u001b[34mC\u001b[30m\u001b[49m\u001b[47m \u001b[30m\u001b[49m\u001b[47m \u001b[30m\u001b[49m\u001b[34mC\u001b[30m\u001b[49m\u001b[34mC\u001b[30m\u001b[49m\u001b[47m \u001b[30m\u001b[49m\u001b[47m \u001b[30m\u001b[49m\u001b[47m \u001b[30m\u001b[49m\u001b[47m \u001b[30m\u001b[49m\u001b[47m \u001b[30m\u001b[49m\u001b[47m \u001b[30m\u001b[49m\u001b[47m \u001b[30m\u001b[49m\u001b[47m \u001b[30m\u001b[49m\u001b[47m \u001b[30m\u001b[49m\u001b[47m \u001b[30m\u001b[49m\u001b[47m \u001b[30m\u001b[49m\u001b[47m \u001b[30m\u001b[49m\u001b[47m \u001b[30m\u001b[49m\u001b[47m \u001b[30m\u001b[49m\u001b[47m \u001b[30m\u001b[49m\u001b[47m \u001b[30m\u001b[49m\u001b[47m \u001b[30m\u001b[49m\u001b[47m \u001b[30m\u001b[49m\u001b[47m \u001b[30m\u001b[49m\u001b[47m \u001b[30m\u001b[49m\n",
            "Subread 4\t \u001b[32mA\u001b[30m\u001b[49m\u001b[31mT\u001b[30m\u001b[49m\u001b[31mT\u001b[30m\u001b[49m\u001b[32mA\u001b[30m\u001b[49m\u001b[33mG\u001b[30m\u001b[49m\u001b[32mA\u001b[30m\u001b[49m\u001b[34mC\u001b[30m\u001b[49m\u001b[34mC\u001b[30m\u001b[49m\u001b[47m \u001b[30m\u001b[49m\u001b[34mC\u001b[30m\u001b[49m\u001b[31mT\u001b[30m\u001b[49m\u001b[34mC\u001b[30m\u001b[49m\u001b[34mC\u001b[30m\u001b[49m\u001b[32mA\u001b[30m\u001b[49m\u001b[47m \u001b[30m\u001b[49m\u001b[31mT\u001b[30m\u001b[49m\u001b[31mT\u001b[30m\u001b[49m\u001b[47m \u001b[30m\u001b[49m\u001b[47m \u001b[30m\u001b[49m\u001b[31mT\u001b[30m\u001b[49m\u001b[31mT\u001b[30m\u001b[49m\u001b[33mG\u001b[30m\u001b[49m\u001b[31mT\u001b[30m\u001b[49m\u001b[33mG\u001b[30m\u001b[49m\u001b[47m \u001b[30m\u001b[49m\u001b[31mT\u001b[30m\u001b[49m\u001b[33mG\u001b[30m\u001b[49m\u001b[31mT\u001b[30m\u001b[49m\u001b[34mC\u001b[30m\u001b[49m\u001b[31mT\u001b[30m\u001b[49m\u001b[31mT\u001b[30m\u001b[49m\u001b[34mC\u001b[30m\u001b[49m\u001b[31mT\u001b[30m\u001b[49m\u001b[31mT\u001b[30m\u001b[49m\u001b[33mG\u001b[30m\u001b[49m\u001b[31mT\u001b[30m\u001b[49m\u001b[31mT\u001b[30m\u001b[49m\u001b[31mT\u001b[30m\u001b[49m\u001b[33mG\u001b[30m\u001b[49m\u001b[31mT\u001b[30m\u001b[49m\u001b[33mG\u001b[30m\u001b[49m\u001b[31mT\u001b[30m\u001b[49m\u001b[34mC\u001b[30m\u001b[49m\u001b[31mT\u001b[30m\u001b[49m\u001b[34mC\u001b[30m\u001b[49m\u001b[31mT\u001b[30m\u001b[49m\u001b[31mT\u001b[30m\u001b[49m\u001b[47m \u001b[30m\u001b[49m\u001b[32mA\u001b[30m\u001b[49m\u001b[32mA\u001b[30m\u001b[49m\u001b[32mA\u001b[30m\u001b[49m\u001b[34mC\u001b[30m\u001b[49m\u001b[31mT\u001b[30m\u001b[49m\u001b[32mA\u001b[30m\u001b[49m\u001b[31mT\u001b[30m\u001b[49m\u001b[32mA\u001b[30m\u001b[49m\u001b[31mT\u001b[30m\u001b[49m\u001b[34mC\u001b[30m\u001b[49m\u001b[34mC\u001b[30m\u001b[49m\u001b[31mT\u001b[30m\u001b[49m\u001b[31mT\u001b[30m\u001b[49m\u001b[31mT\u001b[30m\u001b[49m\u001b[33mG\u001b[30m\u001b[49m\u001b[33mG\u001b[30m\u001b[49m\u001b[47m \u001b[30m\u001b[49m\u001b[34mC\u001b[30m\u001b[49m\u001b[31mT\u001b[30m\u001b[49m\u001b[31mT\u001b[30m\u001b[49m\u001b[32mA\u001b[30m\u001b[49m\u001b[32mA\u001b[30m\u001b[49m\u001b[31mT\u001b[30m\u001b[49m\u001b[32mA\u001b[30m\u001b[49m\u001b[32mA\u001b[30m\u001b[49m\u001b[31mT\u001b[30m\u001b[49m\u001b[32mA\u001b[30m\u001b[49m\u001b[32mA\u001b[30m\u001b[49m\u001b[31mT\u001b[30m\u001b[49m\u001b[31mT\u001b[30m\u001b[49m\u001b[32mA\u001b[30m\u001b[49m\u001b[31mT\u001b[30m\u001b[49m\u001b[33mG\u001b[30m\u001b[49m\u001b[31mT\u001b[30m\u001b[49m\u001b[34mC\u001b[30m\u001b[49m\u001b[34mC\u001b[30m\u001b[49m\u001b[34mC\u001b[30m\u001b[49m\u001b[31mT\u001b[30m\u001b[49m\u001b[31mT\u001b[30m\u001b[49m\u001b[34mC\u001b[30m\u001b[49m\u001b[31mT\u001b[30m\u001b[49m\u001b[32mA\u001b[30m\u001b[49m\u001b[34mC\u001b[30m\u001b[49m\u001b[33mG\u001b[30m\u001b[49m\u001b[31mT\u001b[30m\u001b[49m\u001b[33mG\u001b[30m\u001b[49m\u001b[34mC\u001b[30m\u001b[49m\u001b[34mC\u001b[30m\u001b[49m\u001b[32mA\u001b[30m\u001b[49m\u001b[33mG\u001b[30m\u001b[49m\u001b[33mG\u001b[30m\u001b[49m\u001b[34mC\u001b[30m\u001b[49m\u001b[47m \u001b[30m\u001b[49m\u001b[47m \u001b[30m\u001b[49m\u001b[47m \u001b[30m\u001b[49m\u001b[47m \u001b[30m\u001b[49m\u001b[47m \u001b[30m\u001b[49m\u001b[47m \u001b[30m\u001b[49m\u001b[47m \u001b[30m\u001b[49m\u001b[47m \u001b[30m\u001b[49m\u001b[47m \u001b[30m\u001b[49m\u001b[47m \u001b[30m\u001b[49m\u001b[47m \u001b[30m\u001b[49m\u001b[47m \u001b[30m\u001b[49m\u001b[47m \u001b[30m\u001b[49m\u001b[47m \u001b[30m\u001b[49m\u001b[47m \u001b[30m\u001b[49m\u001b[47m \u001b[30m\u001b[49m\u001b[47m \u001b[30m\u001b[49m\u001b[47m \u001b[30m\u001b[49m\u001b[47m \u001b[30m\u001b[49m\u001b[47m \u001b[30m\u001b[49m\n",
            "Subread 5\t \u001b[32mA\u001b[30m\u001b[49m\u001b[31mT\u001b[30m\u001b[49m\u001b[31mT\u001b[30m\u001b[49m\u001b[32mA\u001b[30m\u001b[49m\u001b[47m \u001b[30m\u001b[49m\u001b[32mA\u001b[30m\u001b[49m\u001b[34mC\u001b[30m\u001b[49m\u001b[34mC\u001b[30m\u001b[49m\u001b[31mT\u001b[30m\u001b[49m\u001b[34mC\u001b[30m\u001b[49m\u001b[31mT\u001b[30m\u001b[49m\u001b[34mC\u001b[30m\u001b[49m\u001b[34mC\u001b[30m\u001b[49m\u001b[32mA\u001b[30m\u001b[49m\u001b[31mT\u001b[30m\u001b[49m\u001b[31mT\u001b[30m\u001b[49m\u001b[31mT\u001b[30m\u001b[49m\u001b[47m \u001b[30m\u001b[49m\u001b[47m \u001b[30m\u001b[49m\u001b[31mT\u001b[30m\u001b[49m\u001b[31mT\u001b[30m\u001b[49m\u001b[33mG\u001b[30m\u001b[49m\u001b[31mT\u001b[30m\u001b[49m\u001b[33mG\u001b[30m\u001b[49m\u001b[47m \u001b[30m\u001b[49m\u001b[31mT\u001b[30m\u001b[49m\u001b[47m \u001b[30m\u001b[49m\u001b[31mT\u001b[30m\u001b[49m\u001b[34mC\u001b[30m\u001b[49m\u001b[31mT\u001b[30m\u001b[49m\u001b[31mT\u001b[30m\u001b[49m\u001b[34mC\u001b[30m\u001b[49m\u001b[31mT\u001b[30m\u001b[49m\u001b[33mG\u001b[30m\u001b[49m\u001b[33mG\u001b[30m\u001b[49m\u001b[31mT\u001b[30m\u001b[49m\u001b[31mT\u001b[30m\u001b[49m\u001b[47m \u001b[30m\u001b[49m\u001b[47m \u001b[30m\u001b[49m\u001b[31mT\u001b[30m\u001b[49m\u001b[33mG\u001b[30m\u001b[49m\u001b[31mT\u001b[30m\u001b[49m\u001b[34mC\u001b[30m\u001b[49m\u001b[31mT\u001b[30m\u001b[49m\u001b[34mC\u001b[30m\u001b[49m\u001b[47m \u001b[30m\u001b[49m\u001b[31mT\u001b[30m\u001b[49m\u001b[47m \u001b[30m\u001b[49m\u001b[32mA\u001b[30m\u001b[49m\u001b[32mA\u001b[30m\u001b[49m\u001b[32mA\u001b[30m\u001b[49m\u001b[47m \u001b[30m\u001b[49m\u001b[47m \u001b[30m\u001b[49m\u001b[47m \u001b[30m\u001b[49m\u001b[31mT\u001b[30m\u001b[49m\u001b[32mA\u001b[30m\u001b[49m\u001b[31mT\u001b[30m\u001b[49m\u001b[34mC\u001b[30m\u001b[49m\u001b[32mA\u001b[30m\u001b[49m\u001b[31mT\u001b[30m\u001b[49m\u001b[31mT\u001b[30m\u001b[49m\u001b[31mT\u001b[30m\u001b[49m\u001b[47m \u001b[30m\u001b[49m\u001b[33mG\u001b[30m\u001b[49m\u001b[47m \u001b[30m\u001b[49m\u001b[34mC\u001b[30m\u001b[49m\u001b[31mT\u001b[30m\u001b[49m\u001b[31mT\u001b[30m\u001b[49m\u001b[32mA\u001b[30m\u001b[49m\u001b[32mA\u001b[30m\u001b[49m\u001b[31mT\u001b[30m\u001b[49m\u001b[32mA\u001b[30m\u001b[49m\u001b[32mA\u001b[30m\u001b[49m\u001b[31mT\u001b[30m\u001b[49m\u001b[32mA\u001b[30m\u001b[49m\u001b[32mA\u001b[30m\u001b[49m\u001b[31mT\u001b[30m\u001b[49m\u001b[31mT\u001b[30m\u001b[49m\u001b[32mA\u001b[30m\u001b[49m\u001b[32mA\u001b[30m\u001b[49m\u001b[33mG\u001b[30m\u001b[49m\u001b[31mT\u001b[30m\u001b[49m\u001b[34mC\u001b[30m\u001b[49m\u001b[34mC\u001b[30m\u001b[49m\u001b[34mC\u001b[30m\u001b[49m\u001b[31mT\u001b[30m\u001b[49m\u001b[31mT\u001b[30m\u001b[49m\u001b[34mC\u001b[30m\u001b[49m\u001b[31mT\u001b[30m\u001b[49m\u001b[32mA\u001b[30m\u001b[49m\u001b[34mC\u001b[30m\u001b[49m\u001b[31mT\u001b[30m\u001b[49m\u001b[31mT\u001b[30m\u001b[49m\u001b[33mG\u001b[30m\u001b[49m\u001b[34mC\u001b[30m\u001b[49m\u001b[34mC\u001b[30m\u001b[49m\u001b[32mA\u001b[30m\u001b[49m\u001b[47m \u001b[30m\u001b[49m\u001b[33mG\u001b[30m\u001b[49m\u001b[34mC\u001b[30m\u001b[49m\u001b[47m \u001b[30m\u001b[49m\u001b[47m \u001b[30m\u001b[49m\u001b[47m \u001b[30m\u001b[49m\u001b[47m \u001b[30m\u001b[49m\u001b[47m \u001b[30m\u001b[49m\u001b[47m \u001b[30m\u001b[49m\u001b[47m \u001b[30m\u001b[49m\u001b[47m \u001b[30m\u001b[49m\u001b[47m \u001b[30m\u001b[49m\u001b[47m \u001b[30m\u001b[49m\u001b[47m \u001b[30m\u001b[49m\u001b[47m \u001b[30m\u001b[49m\u001b[47m \u001b[30m\u001b[49m\u001b[47m \u001b[30m\u001b[49m\u001b[47m \u001b[30m\u001b[49m\u001b[47m \u001b[30m\u001b[49m\u001b[47m \u001b[30m\u001b[49m\u001b[47m \u001b[30m\u001b[49m\u001b[47m \u001b[30m\u001b[49m\u001b[47m \u001b[30m\u001b[49m\n",
            "Subread 6\t \u001b[32mA\u001b[30m\u001b[49m\u001b[31mT\u001b[30m\u001b[49m\u001b[31mT\u001b[30m\u001b[49m\u001b[32mA\u001b[30m\u001b[49m\u001b[33mG\u001b[30m\u001b[49m\u001b[33mG\u001b[30m\u001b[49m\u001b[32mA\u001b[30m\u001b[49m\u001b[34mC\u001b[30m\u001b[49m\u001b[47m \u001b[30m\u001b[49m\u001b[34mC\u001b[30m\u001b[49m\u001b[31mT\u001b[30m\u001b[49m\u001b[34mC\u001b[30m\u001b[49m\u001b[32mA\u001b[30m\u001b[49m\u001b[32mA\u001b[30m\u001b[49m\u001b[47m \u001b[30m\u001b[49m\u001b[32mA\u001b[30m\u001b[49m\u001b[31mT\u001b[30m\u001b[49m\u001b[47m \u001b[30m\u001b[49m\u001b[47m \u001b[30m\u001b[49m\u001b[32mA\u001b[30m\u001b[49m\u001b[31mT\u001b[30m\u001b[49m\u001b[33mG\u001b[30m\u001b[49m\u001b[31mT\u001b[30m\u001b[49m\u001b[33mG\u001b[30m\u001b[49m\u001b[47m \u001b[30m\u001b[49m\u001b[31mT\u001b[30m\u001b[49m\u001b[33mG\u001b[30m\u001b[49m\u001b[33mG\u001b[30m\u001b[49m\u001b[31mT\u001b[30m\u001b[49m\u001b[31mT\u001b[30m\u001b[49m\u001b[31mT\u001b[30m\u001b[49m\u001b[34mC\u001b[30m\u001b[49m\u001b[47m \u001b[30m\u001b[49m\u001b[31mT\u001b[30m\u001b[49m\u001b[33mG\u001b[30m\u001b[49m\u001b[31mT\u001b[30m\u001b[49m\u001b[31mT\u001b[30m\u001b[49m\u001b[31mT\u001b[30m\u001b[49m\u001b[47m \u001b[30m\u001b[49m\u001b[31mT\u001b[30m\u001b[49m\u001b[33mG\u001b[30m\u001b[49m\u001b[31mT\u001b[30m\u001b[49m\u001b[34mC\u001b[30m\u001b[49m\u001b[31mT\u001b[30m\u001b[49m\u001b[34mC\u001b[30m\u001b[49m\u001b[47m \u001b[30m\u001b[49m\u001b[31mT\u001b[30m\u001b[49m\u001b[32mA\u001b[30m\u001b[49m\u001b[32mA\u001b[30m\u001b[49m\u001b[32mA\u001b[30m\u001b[49m\u001b[32mA\u001b[30m\u001b[49m\u001b[47m \u001b[30m\u001b[49m\u001b[31mT\u001b[30m\u001b[49m\u001b[47m \u001b[30m\u001b[49m\u001b[31mT\u001b[30m\u001b[49m\u001b[34mC\u001b[30m\u001b[49m\u001b[31mT\u001b[30m\u001b[49m\u001b[47m \u001b[30m\u001b[49m\u001b[34mC\u001b[30m\u001b[49m\u001b[31mT\u001b[30m\u001b[49m\u001b[31mT\u001b[30m\u001b[49m\u001b[31mT\u001b[30m\u001b[49m\u001b[33mG\u001b[30m\u001b[49m\u001b[33mG\u001b[30m\u001b[49m\u001b[47m \u001b[30m\u001b[49m\u001b[34mC\u001b[30m\u001b[49m\u001b[31mT\u001b[30m\u001b[49m\u001b[31mT\u001b[30m\u001b[49m\u001b[32mA\u001b[30m\u001b[49m\u001b[32mA\u001b[30m\u001b[49m\u001b[47m \u001b[30m\u001b[49m\u001b[32mA\u001b[30m\u001b[49m\u001b[32mA\u001b[30m\u001b[49m\u001b[31mT\u001b[30m\u001b[49m\u001b[32mA\u001b[30m\u001b[49m\u001b[32mA\u001b[30m\u001b[49m\u001b[31mT\u001b[30m\u001b[49m\u001b[31mT\u001b[30m\u001b[49m\u001b[32mA\u001b[30m\u001b[49m\u001b[32mA\u001b[30m\u001b[49m\u001b[33mG\u001b[30m\u001b[49m\u001b[31mT\u001b[30m\u001b[49m\u001b[47m \u001b[30m\u001b[49m\u001b[34mC\u001b[30m\u001b[49m\u001b[32mA\u001b[30m\u001b[49m\u001b[31mT\u001b[30m\u001b[49m\u001b[31mT\u001b[30m\u001b[49m\u001b[34mC\u001b[30m\u001b[49m\u001b[31mT\u001b[30m\u001b[49m\u001b[32mA\u001b[30m\u001b[49m\u001b[34mC\u001b[30m\u001b[49m\u001b[33mG\u001b[30m\u001b[49m\u001b[31mT\u001b[30m\u001b[49m\u001b[33mG\u001b[30m\u001b[49m\u001b[34mC\u001b[30m\u001b[49m\u001b[34mC\u001b[30m\u001b[49m\u001b[32mA\u001b[30m\u001b[49m\u001b[33mG\u001b[30m\u001b[49m\u001b[33mG\u001b[30m\u001b[49m\u001b[34mC\u001b[30m\u001b[49m\u001b[47m \u001b[30m\u001b[49m\u001b[47m \u001b[30m\u001b[49m\u001b[47m \u001b[30m\u001b[49m\u001b[47m \u001b[30m\u001b[49m\u001b[47m \u001b[30m\u001b[49m\u001b[47m \u001b[30m\u001b[49m\u001b[47m \u001b[30m\u001b[49m\u001b[47m \u001b[30m\u001b[49m\u001b[47m \u001b[30m\u001b[49m\u001b[47m \u001b[30m\u001b[49m\u001b[47m \u001b[30m\u001b[49m\u001b[47m \u001b[30m\u001b[49m\u001b[47m \u001b[30m\u001b[49m\u001b[47m \u001b[30m\u001b[49m\u001b[47m \u001b[30m\u001b[49m\u001b[47m \u001b[30m\u001b[49m\u001b[47m \u001b[30m\u001b[49m\u001b[47m \u001b[30m\u001b[49m\u001b[47m \u001b[30m\u001b[49m\u001b[47m \u001b[30m\u001b[49m\n",
            "Subread 7\t \u001b[47m \u001b[30m\u001b[49m\u001b[47m \u001b[30m\u001b[49m\u001b[47m \u001b[30m\u001b[49m\u001b[47m \u001b[30m\u001b[49m\u001b[47m \u001b[30m\u001b[49m\u001b[47m \u001b[30m\u001b[49m\u001b[47m \u001b[30m\u001b[49m\u001b[47m \u001b[30m\u001b[49m\u001b[47m \u001b[30m\u001b[49m\u001b[47m \u001b[30m\u001b[49m\u001b[47m \u001b[30m\u001b[49m\u001b[47m \u001b[30m\u001b[49m\u001b[47m \u001b[30m\u001b[49m\u001b[47m \u001b[30m\u001b[49m\u001b[47m \u001b[30m\u001b[49m\u001b[47m \u001b[30m\u001b[49m\u001b[47m \u001b[30m\u001b[49m\u001b[47m \u001b[30m\u001b[49m\u001b[47m \u001b[30m\u001b[49m\u001b[47m \u001b[30m\u001b[49m\u001b[47m \u001b[30m\u001b[49m\u001b[47m \u001b[30m\u001b[49m\u001b[47m \u001b[30m\u001b[49m\u001b[47m \u001b[30m\u001b[49m\u001b[47m \u001b[30m\u001b[49m\u001b[47m \u001b[30m\u001b[49m\u001b[47m \u001b[30m\u001b[49m\u001b[47m \u001b[30m\u001b[49m\u001b[47m \u001b[30m\u001b[49m\u001b[47m \u001b[30m\u001b[49m\u001b[47m \u001b[30m\u001b[49m\u001b[47m \u001b[30m\u001b[49m\u001b[47m \u001b[30m\u001b[49m\u001b[47m \u001b[30m\u001b[49m\u001b[47m \u001b[30m\u001b[49m\u001b[47m \u001b[30m\u001b[49m\u001b[47m \u001b[30m\u001b[49m\u001b[47m \u001b[30m\u001b[49m\u001b[47m \u001b[30m\u001b[49m\u001b[47m \u001b[30m\u001b[49m\u001b[47m \u001b[30m\u001b[49m\u001b[47m \u001b[30m\u001b[49m\u001b[47m \u001b[30m\u001b[49m\u001b[47m \u001b[30m\u001b[49m\u001b[47m \u001b[30m\u001b[49m\u001b[47m \u001b[30m\u001b[49m\u001b[47m \u001b[30m\u001b[49m\u001b[47m \u001b[30m\u001b[49m\u001b[47m \u001b[30m\u001b[49m\u001b[47m \u001b[30m\u001b[49m\u001b[47m \u001b[30m\u001b[49m\u001b[47m \u001b[30m\u001b[49m\u001b[47m \u001b[30m\u001b[49m\u001b[47m \u001b[30m\u001b[49m\u001b[47m \u001b[30m\u001b[49m\u001b[47m \u001b[30m\u001b[49m\u001b[47m \u001b[30m\u001b[49m\u001b[47m \u001b[30m\u001b[49m\u001b[47m \u001b[30m\u001b[49m\u001b[47m \u001b[30m\u001b[49m\u001b[47m \u001b[30m\u001b[49m\u001b[47m \u001b[30m\u001b[49m\u001b[47m \u001b[30m\u001b[49m\u001b[47m \u001b[30m\u001b[49m\u001b[47m \u001b[30m\u001b[49m\u001b[47m \u001b[30m\u001b[49m\u001b[47m \u001b[30m\u001b[49m\u001b[47m \u001b[30m\u001b[49m\u001b[47m \u001b[30m\u001b[49m\u001b[47m \u001b[30m\u001b[49m\u001b[47m \u001b[30m\u001b[49m\u001b[47m \u001b[30m\u001b[49m\u001b[47m \u001b[30m\u001b[49m\u001b[47m \u001b[30m\u001b[49m\u001b[47m \u001b[30m\u001b[49m\u001b[47m \u001b[30m\u001b[49m\u001b[47m \u001b[30m\u001b[49m\u001b[47m \u001b[30m\u001b[49m\u001b[47m \u001b[30m\u001b[49m\u001b[47m \u001b[30m\u001b[49m\u001b[47m \u001b[30m\u001b[49m\u001b[47m \u001b[30m\u001b[49m\u001b[47m \u001b[30m\u001b[49m\u001b[47m \u001b[30m\u001b[49m\u001b[47m \u001b[30m\u001b[49m\u001b[47m \u001b[30m\u001b[49m\u001b[47m \u001b[30m\u001b[49m\u001b[47m \u001b[30m\u001b[49m\u001b[47m \u001b[30m\u001b[49m\u001b[47m \u001b[30m\u001b[49m\u001b[47m \u001b[30m\u001b[49m\u001b[47m \u001b[30m\u001b[49m\u001b[47m \u001b[30m\u001b[49m\u001b[47m \u001b[30m\u001b[49m\u001b[47m \u001b[30m\u001b[49m\u001b[47m \u001b[30m\u001b[49m\u001b[47m \u001b[30m\u001b[49m\u001b[47m \u001b[30m\u001b[49m\u001b[47m \u001b[30m\u001b[49m\u001b[47m \u001b[30m\u001b[49m\u001b[47m \u001b[30m\u001b[49m\u001b[47m \u001b[30m\u001b[49m\u001b[47m \u001b[30m\u001b[49m\u001b[47m \u001b[30m\u001b[49m\u001b[47m \u001b[30m\u001b[49m\u001b[47m \u001b[30m\u001b[49m\u001b[47m \u001b[30m\u001b[49m\u001b[47m \u001b[30m\u001b[49m\u001b[47m \u001b[30m\u001b[49m\u001b[47m \u001b[30m\u001b[49m\u001b[47m \u001b[30m\u001b[49m\u001b[47m \u001b[30m\u001b[49m\u001b[47m \u001b[30m\u001b[49m\u001b[47m \u001b[30m\u001b[49m\u001b[47m \u001b[30m\u001b[49m\u001b[47m \u001b[30m\u001b[49m\u001b[47m \u001b[30m\u001b[49m\u001b[47m \u001b[30m\u001b[49m\u001b[47m \u001b[30m\u001b[49m\u001b[47m \u001b[30m\u001b[49m\n",
            "Subread 8\t \u001b[47m \u001b[30m\u001b[49m\u001b[47m \u001b[30m\u001b[49m\u001b[47m \u001b[30m\u001b[49m\u001b[47m \u001b[30m\u001b[49m\u001b[47m \u001b[30m\u001b[49m\u001b[47m \u001b[30m\u001b[49m\u001b[47m \u001b[30m\u001b[49m\u001b[47m \u001b[30m\u001b[49m\u001b[47m \u001b[30m\u001b[49m\u001b[47m \u001b[30m\u001b[49m\u001b[47m \u001b[30m\u001b[49m\u001b[47m \u001b[30m\u001b[49m\u001b[47m \u001b[30m\u001b[49m\u001b[47m \u001b[30m\u001b[49m\u001b[47m \u001b[30m\u001b[49m\u001b[47m \u001b[30m\u001b[49m\u001b[47m \u001b[30m\u001b[49m\u001b[47m \u001b[30m\u001b[49m\u001b[47m \u001b[30m\u001b[49m\u001b[47m \u001b[30m\u001b[49m\u001b[47m \u001b[30m\u001b[49m\u001b[47m \u001b[30m\u001b[49m\u001b[47m \u001b[30m\u001b[49m\u001b[47m \u001b[30m\u001b[49m\u001b[47m \u001b[30m\u001b[49m\u001b[47m \u001b[30m\u001b[49m\u001b[47m \u001b[30m\u001b[49m\u001b[47m \u001b[30m\u001b[49m\u001b[47m \u001b[30m\u001b[49m\u001b[47m \u001b[30m\u001b[49m\u001b[47m \u001b[30m\u001b[49m\u001b[47m \u001b[30m\u001b[49m\u001b[47m \u001b[30m\u001b[49m\u001b[47m \u001b[30m\u001b[49m\u001b[47m \u001b[30m\u001b[49m\u001b[47m \u001b[30m\u001b[49m\u001b[47m \u001b[30m\u001b[49m\u001b[47m \u001b[30m\u001b[49m\u001b[47m \u001b[30m\u001b[49m\u001b[47m \u001b[30m\u001b[49m\u001b[47m \u001b[30m\u001b[49m\u001b[47m \u001b[30m\u001b[49m\u001b[47m \u001b[30m\u001b[49m\u001b[47m \u001b[30m\u001b[49m\u001b[47m \u001b[30m\u001b[49m\u001b[47m \u001b[30m\u001b[49m\u001b[47m \u001b[30m\u001b[49m\u001b[47m \u001b[30m\u001b[49m\u001b[47m \u001b[30m\u001b[49m\u001b[47m \u001b[30m\u001b[49m\u001b[47m \u001b[30m\u001b[49m\u001b[47m \u001b[30m\u001b[49m\u001b[47m \u001b[30m\u001b[49m\u001b[47m \u001b[30m\u001b[49m\u001b[47m \u001b[30m\u001b[49m\u001b[47m \u001b[30m\u001b[49m\u001b[47m \u001b[30m\u001b[49m\u001b[47m \u001b[30m\u001b[49m\u001b[47m \u001b[30m\u001b[49m\u001b[47m \u001b[30m\u001b[49m\u001b[47m \u001b[30m\u001b[49m\u001b[47m \u001b[30m\u001b[49m\u001b[47m \u001b[30m\u001b[49m\u001b[47m \u001b[30m\u001b[49m\u001b[47m \u001b[30m\u001b[49m\u001b[47m \u001b[30m\u001b[49m\u001b[47m \u001b[30m\u001b[49m\u001b[47m \u001b[30m\u001b[49m\u001b[47m \u001b[30m\u001b[49m\u001b[47m \u001b[30m\u001b[49m\u001b[47m \u001b[30m\u001b[49m\u001b[47m \u001b[30m\u001b[49m\u001b[47m \u001b[30m\u001b[49m\u001b[47m \u001b[30m\u001b[49m\u001b[47m \u001b[30m\u001b[49m\u001b[47m \u001b[30m\u001b[49m\u001b[47m \u001b[30m\u001b[49m\u001b[47m \u001b[30m\u001b[49m\u001b[47m \u001b[30m\u001b[49m\u001b[47m \u001b[30m\u001b[49m\u001b[47m \u001b[30m\u001b[49m\u001b[47m \u001b[30m\u001b[49m\u001b[47m \u001b[30m\u001b[49m\u001b[47m \u001b[30m\u001b[49m\u001b[47m \u001b[30m\u001b[49m\u001b[47m \u001b[30m\u001b[49m\u001b[47m \u001b[30m\u001b[49m\u001b[47m \u001b[30m\u001b[49m\u001b[47m \u001b[30m\u001b[49m\u001b[47m \u001b[30m\u001b[49m\u001b[47m \u001b[30m\u001b[49m\u001b[47m \u001b[30m\u001b[49m\u001b[47m \u001b[30m\u001b[49m\u001b[47m \u001b[30m\u001b[49m\u001b[47m \u001b[30m\u001b[49m\u001b[47m \u001b[30m\u001b[49m\u001b[47m \u001b[30m\u001b[49m\u001b[47m \u001b[30m\u001b[49m\u001b[47m \u001b[30m\u001b[49m\u001b[47m \u001b[30m\u001b[49m\u001b[47m \u001b[30m\u001b[49m\u001b[47m \u001b[30m\u001b[49m\u001b[47m \u001b[30m\u001b[49m\u001b[47m \u001b[30m\u001b[49m\u001b[47m \u001b[30m\u001b[49m\u001b[47m \u001b[30m\u001b[49m\u001b[47m \u001b[30m\u001b[49m\u001b[47m \u001b[30m\u001b[49m\u001b[47m \u001b[30m\u001b[49m\u001b[47m \u001b[30m\u001b[49m\u001b[47m \u001b[30m\u001b[49m\u001b[47m \u001b[30m\u001b[49m\u001b[47m \u001b[30m\u001b[49m\u001b[47m \u001b[30m\u001b[49m\u001b[47m \u001b[30m\u001b[49m\u001b[47m \u001b[30m\u001b[49m\u001b[47m \u001b[30m\u001b[49m\u001b[47m \u001b[30m\u001b[49m\u001b[47m \u001b[30m\u001b[49m\u001b[47m \u001b[30m\u001b[49m\n",
            "Subread 9\t \u001b[47m \u001b[30m\u001b[49m\u001b[47m \u001b[30m\u001b[49m\u001b[47m \u001b[30m\u001b[49m\u001b[47m \u001b[30m\u001b[49m\u001b[47m \u001b[30m\u001b[49m\u001b[47m \u001b[30m\u001b[49m\u001b[47m \u001b[30m\u001b[49m\u001b[47m \u001b[30m\u001b[49m\u001b[47m \u001b[30m\u001b[49m\u001b[47m \u001b[30m\u001b[49m\u001b[47m \u001b[30m\u001b[49m\u001b[47m \u001b[30m\u001b[49m\u001b[47m \u001b[30m\u001b[49m\u001b[47m \u001b[30m\u001b[49m\u001b[47m \u001b[30m\u001b[49m\u001b[47m \u001b[30m\u001b[49m\u001b[47m \u001b[30m\u001b[49m\u001b[47m \u001b[30m\u001b[49m\u001b[47m \u001b[30m\u001b[49m\u001b[47m \u001b[30m\u001b[49m\u001b[47m \u001b[30m\u001b[49m\u001b[47m \u001b[30m\u001b[49m\u001b[47m \u001b[30m\u001b[49m\u001b[47m \u001b[30m\u001b[49m\u001b[47m \u001b[30m\u001b[49m\u001b[47m \u001b[30m\u001b[49m\u001b[47m \u001b[30m\u001b[49m\u001b[47m \u001b[30m\u001b[49m\u001b[47m \u001b[30m\u001b[49m\u001b[47m \u001b[30m\u001b[49m\u001b[47m \u001b[30m\u001b[49m\u001b[47m \u001b[30m\u001b[49m\u001b[47m \u001b[30m\u001b[49m\u001b[47m \u001b[30m\u001b[49m\u001b[47m \u001b[30m\u001b[49m\u001b[47m \u001b[30m\u001b[49m\u001b[47m \u001b[30m\u001b[49m\u001b[47m \u001b[30m\u001b[49m\u001b[47m \u001b[30m\u001b[49m\u001b[47m \u001b[30m\u001b[49m\u001b[47m \u001b[30m\u001b[49m\u001b[47m \u001b[30m\u001b[49m\u001b[47m \u001b[30m\u001b[49m\u001b[47m \u001b[30m\u001b[49m\u001b[47m \u001b[30m\u001b[49m\u001b[47m \u001b[30m\u001b[49m\u001b[47m \u001b[30m\u001b[49m\u001b[47m \u001b[30m\u001b[49m\u001b[47m \u001b[30m\u001b[49m\u001b[47m \u001b[30m\u001b[49m\u001b[47m \u001b[30m\u001b[49m\u001b[47m \u001b[30m\u001b[49m\u001b[47m \u001b[30m\u001b[49m\u001b[47m \u001b[30m\u001b[49m\u001b[47m \u001b[30m\u001b[49m\u001b[47m \u001b[30m\u001b[49m\u001b[47m \u001b[30m\u001b[49m\u001b[47m \u001b[30m\u001b[49m\u001b[47m \u001b[30m\u001b[49m\u001b[47m \u001b[30m\u001b[49m\u001b[47m \u001b[30m\u001b[49m\u001b[47m \u001b[30m\u001b[49m\u001b[47m \u001b[30m\u001b[49m\u001b[47m \u001b[30m\u001b[49m\u001b[47m \u001b[30m\u001b[49m\u001b[47m \u001b[30m\u001b[49m\u001b[47m \u001b[30m\u001b[49m\u001b[47m \u001b[30m\u001b[49m\u001b[47m \u001b[30m\u001b[49m\u001b[47m \u001b[30m\u001b[49m\u001b[47m \u001b[30m\u001b[49m\u001b[47m \u001b[30m\u001b[49m\u001b[47m \u001b[30m\u001b[49m\u001b[47m \u001b[30m\u001b[49m\u001b[47m \u001b[30m\u001b[49m\u001b[47m \u001b[30m\u001b[49m\u001b[47m \u001b[30m\u001b[49m\u001b[47m \u001b[30m\u001b[49m\u001b[47m \u001b[30m\u001b[49m\u001b[47m \u001b[30m\u001b[49m\u001b[47m \u001b[30m\u001b[49m\u001b[47m \u001b[30m\u001b[49m\u001b[47m \u001b[30m\u001b[49m\u001b[47m \u001b[30m\u001b[49m\u001b[47m \u001b[30m\u001b[49m\u001b[47m \u001b[30m\u001b[49m\u001b[47m \u001b[30m\u001b[49m\u001b[47m \u001b[30m\u001b[49m\u001b[47m \u001b[30m\u001b[49m\u001b[47m \u001b[30m\u001b[49m\u001b[47m \u001b[30m\u001b[49m\u001b[47m \u001b[30m\u001b[49m\u001b[47m \u001b[30m\u001b[49m\u001b[47m \u001b[30m\u001b[49m\u001b[47m \u001b[30m\u001b[49m\u001b[47m \u001b[30m\u001b[49m\u001b[47m \u001b[30m\u001b[49m\u001b[47m \u001b[30m\u001b[49m\u001b[47m \u001b[30m\u001b[49m\u001b[47m \u001b[30m\u001b[49m\u001b[47m \u001b[30m\u001b[49m\u001b[47m \u001b[30m\u001b[49m\u001b[47m \u001b[30m\u001b[49m\u001b[47m \u001b[30m\u001b[49m\u001b[47m \u001b[30m\u001b[49m\u001b[47m \u001b[30m\u001b[49m\u001b[47m \u001b[30m\u001b[49m\u001b[47m \u001b[30m\u001b[49m\u001b[47m \u001b[30m\u001b[49m\u001b[47m \u001b[30m\u001b[49m\u001b[47m \u001b[30m\u001b[49m\u001b[47m \u001b[30m\u001b[49m\u001b[47m \u001b[30m\u001b[49m\u001b[47m \u001b[30m\u001b[49m\u001b[47m \u001b[30m\u001b[49m\u001b[47m \u001b[30m\u001b[49m\u001b[47m \u001b[30m\u001b[49m\u001b[47m \u001b[30m\u001b[49m\u001b[47m \u001b[30m\u001b[49m\u001b[47m \u001b[30m\u001b[49m\n",
            "Subread 10\t \u001b[47m \u001b[30m\u001b[49m\u001b[47m \u001b[30m\u001b[49m\u001b[47m \u001b[30m\u001b[49m\u001b[47m \u001b[30m\u001b[49m\u001b[47m \u001b[30m\u001b[49m\u001b[47m \u001b[30m\u001b[49m\u001b[47m \u001b[30m\u001b[49m\u001b[47m \u001b[30m\u001b[49m\u001b[47m \u001b[30m\u001b[49m\u001b[47m \u001b[30m\u001b[49m\u001b[47m \u001b[30m\u001b[49m\u001b[47m \u001b[30m\u001b[49m\u001b[47m \u001b[30m\u001b[49m\u001b[47m \u001b[30m\u001b[49m\u001b[47m \u001b[30m\u001b[49m\u001b[47m \u001b[30m\u001b[49m\u001b[47m \u001b[30m\u001b[49m\u001b[47m \u001b[30m\u001b[49m\u001b[47m \u001b[30m\u001b[49m\u001b[47m \u001b[30m\u001b[49m\u001b[47m \u001b[30m\u001b[49m\u001b[47m \u001b[30m\u001b[49m\u001b[47m \u001b[30m\u001b[49m\u001b[47m \u001b[30m\u001b[49m\u001b[47m \u001b[30m\u001b[49m\u001b[47m \u001b[30m\u001b[49m\u001b[47m \u001b[30m\u001b[49m\u001b[47m \u001b[30m\u001b[49m\u001b[47m \u001b[30m\u001b[49m\u001b[47m \u001b[30m\u001b[49m\u001b[47m \u001b[30m\u001b[49m\u001b[47m \u001b[30m\u001b[49m\u001b[47m \u001b[30m\u001b[49m\u001b[47m \u001b[30m\u001b[49m\u001b[47m \u001b[30m\u001b[49m\u001b[47m \u001b[30m\u001b[49m\u001b[47m \u001b[30m\u001b[49m\u001b[47m \u001b[30m\u001b[49m\u001b[47m \u001b[30m\u001b[49m\u001b[47m \u001b[30m\u001b[49m\u001b[47m \u001b[30m\u001b[49m\u001b[47m \u001b[30m\u001b[49m\u001b[47m \u001b[30m\u001b[49m\u001b[47m \u001b[30m\u001b[49m\u001b[47m \u001b[30m\u001b[49m\u001b[47m \u001b[30m\u001b[49m\u001b[47m \u001b[30m\u001b[49m\u001b[47m \u001b[30m\u001b[49m\u001b[47m \u001b[30m\u001b[49m\u001b[47m \u001b[30m\u001b[49m\u001b[47m \u001b[30m\u001b[49m\u001b[47m \u001b[30m\u001b[49m\u001b[47m \u001b[30m\u001b[49m\u001b[47m \u001b[30m\u001b[49m\u001b[47m \u001b[30m\u001b[49m\u001b[47m \u001b[30m\u001b[49m\u001b[47m \u001b[30m\u001b[49m\u001b[47m \u001b[30m\u001b[49m\u001b[47m \u001b[30m\u001b[49m\u001b[47m \u001b[30m\u001b[49m\u001b[47m \u001b[30m\u001b[49m\u001b[47m \u001b[30m\u001b[49m\u001b[47m \u001b[30m\u001b[49m\u001b[47m \u001b[30m\u001b[49m\u001b[47m \u001b[30m\u001b[49m\u001b[47m \u001b[30m\u001b[49m\u001b[47m \u001b[30m\u001b[49m\u001b[47m \u001b[30m\u001b[49m\u001b[47m \u001b[30m\u001b[49m\u001b[47m \u001b[30m\u001b[49m\u001b[47m \u001b[30m\u001b[49m\u001b[47m \u001b[30m\u001b[49m\u001b[47m \u001b[30m\u001b[49m\u001b[47m \u001b[30m\u001b[49m\u001b[47m \u001b[30m\u001b[49m\u001b[47m \u001b[30m\u001b[49m\u001b[47m \u001b[30m\u001b[49m\u001b[47m \u001b[30m\u001b[49m\u001b[47m \u001b[30m\u001b[49m\u001b[47m \u001b[30m\u001b[49m\u001b[47m \u001b[30m\u001b[49m\u001b[47m \u001b[30m\u001b[49m\u001b[47m \u001b[30m\u001b[49m\u001b[47m \u001b[30m\u001b[49m\u001b[47m \u001b[30m\u001b[49m\u001b[47m \u001b[30m\u001b[49m\u001b[47m \u001b[30m\u001b[49m\u001b[47m \u001b[30m\u001b[49m\u001b[47m \u001b[30m\u001b[49m\u001b[47m \u001b[30m\u001b[49m\u001b[47m \u001b[30m\u001b[49m\u001b[47m \u001b[30m\u001b[49m\u001b[47m \u001b[30m\u001b[49m\u001b[47m \u001b[30m\u001b[49m\u001b[47m \u001b[30m\u001b[49m\u001b[47m \u001b[30m\u001b[49m\u001b[47m \u001b[30m\u001b[49m\u001b[47m \u001b[30m\u001b[49m\u001b[47m \u001b[30m\u001b[49m\u001b[47m \u001b[30m\u001b[49m\u001b[47m \u001b[30m\u001b[49m\u001b[47m \u001b[30m\u001b[49m\u001b[47m \u001b[30m\u001b[49m\u001b[47m \u001b[30m\u001b[49m\u001b[47m \u001b[30m\u001b[49m\u001b[47m \u001b[30m\u001b[49m\u001b[47m \u001b[30m\u001b[49m\u001b[47m \u001b[30m\u001b[49m\u001b[47m \u001b[30m\u001b[49m\u001b[47m \u001b[30m\u001b[49m\u001b[47m \u001b[30m\u001b[49m\u001b[47m \u001b[30m\u001b[49m\u001b[47m \u001b[30m\u001b[49m\u001b[47m \u001b[30m\u001b[49m\u001b[47m \u001b[30m\u001b[49m\u001b[47m \u001b[30m\u001b[49m\u001b[47m \u001b[30m\u001b[49m\u001b[47m \u001b[30m\u001b[49m\u001b[47m \u001b[30m\u001b[49m\u001b[47m \u001b[30m\u001b[49m\n",
            "Subread 11\t \u001b[47m \u001b[30m\u001b[49m\u001b[47m \u001b[30m\u001b[49m\u001b[47m \u001b[30m\u001b[49m\u001b[47m \u001b[30m\u001b[49m\u001b[47m \u001b[30m\u001b[49m\u001b[47m \u001b[30m\u001b[49m\u001b[47m \u001b[30m\u001b[49m\u001b[47m \u001b[30m\u001b[49m\u001b[47m \u001b[30m\u001b[49m\u001b[47m \u001b[30m\u001b[49m\u001b[47m \u001b[30m\u001b[49m\u001b[47m \u001b[30m\u001b[49m\u001b[47m \u001b[30m\u001b[49m\u001b[47m \u001b[30m\u001b[49m\u001b[47m \u001b[30m\u001b[49m\u001b[47m \u001b[30m\u001b[49m\u001b[47m \u001b[30m\u001b[49m\u001b[47m \u001b[30m\u001b[49m\u001b[47m \u001b[30m\u001b[49m\u001b[47m \u001b[30m\u001b[49m\u001b[47m \u001b[30m\u001b[49m\u001b[47m \u001b[30m\u001b[49m\u001b[47m \u001b[30m\u001b[49m\u001b[47m \u001b[30m\u001b[49m\u001b[47m \u001b[30m\u001b[49m\u001b[47m \u001b[30m\u001b[49m\u001b[47m \u001b[30m\u001b[49m\u001b[47m \u001b[30m\u001b[49m\u001b[47m \u001b[30m\u001b[49m\u001b[47m \u001b[30m\u001b[49m\u001b[47m \u001b[30m\u001b[49m\u001b[47m \u001b[30m\u001b[49m\u001b[47m \u001b[30m\u001b[49m\u001b[47m \u001b[30m\u001b[49m\u001b[47m \u001b[30m\u001b[49m\u001b[47m \u001b[30m\u001b[49m\u001b[47m \u001b[30m\u001b[49m\u001b[47m \u001b[30m\u001b[49m\u001b[47m \u001b[30m\u001b[49m\u001b[47m \u001b[30m\u001b[49m\u001b[47m \u001b[30m\u001b[49m\u001b[47m \u001b[30m\u001b[49m\u001b[47m \u001b[30m\u001b[49m\u001b[47m \u001b[30m\u001b[49m\u001b[47m \u001b[30m\u001b[49m\u001b[47m \u001b[30m\u001b[49m\u001b[47m \u001b[30m\u001b[49m\u001b[47m \u001b[30m\u001b[49m\u001b[47m \u001b[30m\u001b[49m\u001b[47m \u001b[30m\u001b[49m\u001b[47m \u001b[30m\u001b[49m\u001b[47m \u001b[30m\u001b[49m\u001b[47m \u001b[30m\u001b[49m\u001b[47m \u001b[30m\u001b[49m\u001b[47m \u001b[30m\u001b[49m\u001b[47m \u001b[30m\u001b[49m\u001b[47m \u001b[30m\u001b[49m\u001b[47m \u001b[30m\u001b[49m\u001b[47m \u001b[30m\u001b[49m\u001b[47m \u001b[30m\u001b[49m\u001b[47m \u001b[30m\u001b[49m\u001b[47m \u001b[30m\u001b[49m\u001b[47m \u001b[30m\u001b[49m\u001b[47m \u001b[30m\u001b[49m\u001b[47m \u001b[30m\u001b[49m\u001b[47m \u001b[30m\u001b[49m\u001b[47m \u001b[30m\u001b[49m\u001b[47m \u001b[30m\u001b[49m\u001b[47m \u001b[30m\u001b[49m\u001b[47m \u001b[30m\u001b[49m\u001b[47m \u001b[30m\u001b[49m\u001b[47m \u001b[30m\u001b[49m\u001b[47m \u001b[30m\u001b[49m\u001b[47m \u001b[30m\u001b[49m\u001b[47m \u001b[30m\u001b[49m\u001b[47m \u001b[30m\u001b[49m\u001b[47m \u001b[30m\u001b[49m\u001b[47m \u001b[30m\u001b[49m\u001b[47m \u001b[30m\u001b[49m\u001b[47m \u001b[30m\u001b[49m\u001b[47m \u001b[30m\u001b[49m\u001b[47m \u001b[30m\u001b[49m\u001b[47m \u001b[30m\u001b[49m\u001b[47m \u001b[30m\u001b[49m\u001b[47m \u001b[30m\u001b[49m\u001b[47m \u001b[30m\u001b[49m\u001b[47m \u001b[30m\u001b[49m\u001b[47m \u001b[30m\u001b[49m\u001b[47m \u001b[30m\u001b[49m\u001b[47m \u001b[30m\u001b[49m\u001b[47m \u001b[30m\u001b[49m\u001b[47m \u001b[30m\u001b[49m\u001b[47m \u001b[30m\u001b[49m\u001b[47m \u001b[30m\u001b[49m\u001b[47m \u001b[30m\u001b[49m\u001b[47m \u001b[30m\u001b[49m\u001b[47m \u001b[30m\u001b[49m\u001b[47m \u001b[30m\u001b[49m\u001b[47m \u001b[30m\u001b[49m\u001b[47m \u001b[30m\u001b[49m\u001b[47m \u001b[30m\u001b[49m\u001b[47m \u001b[30m\u001b[49m\u001b[47m \u001b[30m\u001b[49m\u001b[47m \u001b[30m\u001b[49m\u001b[47m \u001b[30m\u001b[49m\u001b[47m \u001b[30m\u001b[49m\u001b[47m \u001b[30m\u001b[49m\u001b[47m \u001b[30m\u001b[49m\u001b[47m \u001b[30m\u001b[49m\u001b[47m \u001b[30m\u001b[49m\u001b[47m \u001b[30m\u001b[49m\u001b[47m \u001b[30m\u001b[49m\u001b[47m \u001b[30m\u001b[49m\u001b[47m \u001b[30m\u001b[49m\u001b[47m \u001b[30m\u001b[49m\u001b[47m \u001b[30m\u001b[49m\u001b[47m \u001b[30m\u001b[49m\u001b[47m \u001b[30m\u001b[49m\u001b[47m \u001b[30m\u001b[49m\u001b[47m \u001b[30m\u001b[49m\n",
            "Subread 12\t \u001b[47m \u001b[30m\u001b[49m\u001b[47m \u001b[30m\u001b[49m\u001b[47m \u001b[30m\u001b[49m\u001b[47m \u001b[30m\u001b[49m\u001b[47m \u001b[30m\u001b[49m\u001b[47m \u001b[30m\u001b[49m\u001b[47m \u001b[30m\u001b[49m\u001b[47m \u001b[30m\u001b[49m\u001b[47m \u001b[30m\u001b[49m\u001b[47m \u001b[30m\u001b[49m\u001b[47m \u001b[30m\u001b[49m\u001b[47m \u001b[30m\u001b[49m\u001b[47m \u001b[30m\u001b[49m\u001b[47m \u001b[30m\u001b[49m\u001b[47m \u001b[30m\u001b[49m\u001b[47m \u001b[30m\u001b[49m\u001b[47m \u001b[30m\u001b[49m\u001b[47m \u001b[30m\u001b[49m\u001b[47m \u001b[30m\u001b[49m\u001b[47m \u001b[30m\u001b[49m\u001b[47m \u001b[30m\u001b[49m\u001b[47m \u001b[30m\u001b[49m\u001b[47m \u001b[30m\u001b[49m\u001b[47m \u001b[30m\u001b[49m\u001b[47m \u001b[30m\u001b[49m\u001b[47m \u001b[30m\u001b[49m\u001b[47m \u001b[30m\u001b[49m\u001b[47m \u001b[30m\u001b[49m\u001b[47m \u001b[30m\u001b[49m\u001b[47m \u001b[30m\u001b[49m\u001b[47m \u001b[30m\u001b[49m\u001b[47m \u001b[30m\u001b[49m\u001b[47m \u001b[30m\u001b[49m\u001b[47m \u001b[30m\u001b[49m\u001b[47m \u001b[30m\u001b[49m\u001b[47m \u001b[30m\u001b[49m\u001b[47m \u001b[30m\u001b[49m\u001b[47m \u001b[30m\u001b[49m\u001b[47m \u001b[30m\u001b[49m\u001b[47m \u001b[30m\u001b[49m\u001b[47m \u001b[30m\u001b[49m\u001b[47m \u001b[30m\u001b[49m\u001b[47m \u001b[30m\u001b[49m\u001b[47m \u001b[30m\u001b[49m\u001b[47m \u001b[30m\u001b[49m\u001b[47m \u001b[30m\u001b[49m\u001b[47m \u001b[30m\u001b[49m\u001b[47m \u001b[30m\u001b[49m\u001b[47m \u001b[30m\u001b[49m\u001b[47m \u001b[30m\u001b[49m\u001b[47m \u001b[30m\u001b[49m\u001b[47m \u001b[30m\u001b[49m\u001b[47m \u001b[30m\u001b[49m\u001b[47m \u001b[30m\u001b[49m\u001b[47m \u001b[30m\u001b[49m\u001b[47m \u001b[30m\u001b[49m\u001b[47m \u001b[30m\u001b[49m\u001b[47m \u001b[30m\u001b[49m\u001b[47m \u001b[30m\u001b[49m\u001b[47m \u001b[30m\u001b[49m\u001b[47m \u001b[30m\u001b[49m\u001b[47m \u001b[30m\u001b[49m\u001b[47m \u001b[30m\u001b[49m\u001b[47m \u001b[30m\u001b[49m\u001b[47m \u001b[30m\u001b[49m\u001b[47m \u001b[30m\u001b[49m\u001b[47m \u001b[30m\u001b[49m\u001b[47m \u001b[30m\u001b[49m\u001b[47m \u001b[30m\u001b[49m\u001b[47m \u001b[30m\u001b[49m\u001b[47m \u001b[30m\u001b[49m\u001b[47m \u001b[30m\u001b[49m\u001b[47m \u001b[30m\u001b[49m\u001b[47m \u001b[30m\u001b[49m\u001b[47m \u001b[30m\u001b[49m\u001b[47m \u001b[30m\u001b[49m\u001b[47m \u001b[30m\u001b[49m\u001b[47m \u001b[30m\u001b[49m\u001b[47m \u001b[30m\u001b[49m\u001b[47m \u001b[30m\u001b[49m\u001b[47m \u001b[30m\u001b[49m\u001b[47m \u001b[30m\u001b[49m\u001b[47m \u001b[30m\u001b[49m\u001b[47m \u001b[30m\u001b[49m\u001b[47m \u001b[30m\u001b[49m\u001b[47m \u001b[30m\u001b[49m\u001b[47m \u001b[30m\u001b[49m\u001b[47m \u001b[30m\u001b[49m\u001b[47m \u001b[30m\u001b[49m\u001b[47m \u001b[30m\u001b[49m\u001b[47m \u001b[30m\u001b[49m\u001b[47m \u001b[30m\u001b[49m\u001b[47m \u001b[30m\u001b[49m\u001b[47m \u001b[30m\u001b[49m\u001b[47m \u001b[30m\u001b[49m\u001b[47m \u001b[30m\u001b[49m\u001b[47m \u001b[30m\u001b[49m\u001b[47m \u001b[30m\u001b[49m\u001b[47m \u001b[30m\u001b[49m\u001b[47m \u001b[30m\u001b[49m\u001b[47m \u001b[30m\u001b[49m\u001b[47m \u001b[30m\u001b[49m\u001b[47m \u001b[30m\u001b[49m\u001b[47m \u001b[30m\u001b[49m\u001b[47m \u001b[30m\u001b[49m\u001b[47m \u001b[30m\u001b[49m\u001b[47m \u001b[30m\u001b[49m\u001b[47m \u001b[30m\u001b[49m\u001b[47m \u001b[30m\u001b[49m\u001b[47m \u001b[30m\u001b[49m\u001b[47m \u001b[30m\u001b[49m\u001b[47m \u001b[30m\u001b[49m\u001b[47m \u001b[30m\u001b[49m\u001b[47m \u001b[30m\u001b[49m\u001b[47m \u001b[30m\u001b[49m\u001b[47m \u001b[30m\u001b[49m\u001b[47m \u001b[30m\u001b[49m\u001b[47m \u001b[30m\u001b[49m\u001b[47m \u001b[30m\u001b[49m\u001b[47m \u001b[30m\u001b[49m\n",
            "Subread 13\t \u001b[47m \u001b[30m\u001b[49m\u001b[47m \u001b[30m\u001b[49m\u001b[47m \u001b[30m\u001b[49m\u001b[47m \u001b[30m\u001b[49m\u001b[47m \u001b[30m\u001b[49m\u001b[47m \u001b[30m\u001b[49m\u001b[47m \u001b[30m\u001b[49m\u001b[47m \u001b[30m\u001b[49m\u001b[47m \u001b[30m\u001b[49m\u001b[47m \u001b[30m\u001b[49m\u001b[47m \u001b[30m\u001b[49m\u001b[47m \u001b[30m\u001b[49m\u001b[47m \u001b[30m\u001b[49m\u001b[47m \u001b[30m\u001b[49m\u001b[47m \u001b[30m\u001b[49m\u001b[47m \u001b[30m\u001b[49m\u001b[47m \u001b[30m\u001b[49m\u001b[47m \u001b[30m\u001b[49m\u001b[47m \u001b[30m\u001b[49m\u001b[47m \u001b[30m\u001b[49m\u001b[47m \u001b[30m\u001b[49m\u001b[47m \u001b[30m\u001b[49m\u001b[47m \u001b[30m\u001b[49m\u001b[47m \u001b[30m\u001b[49m\u001b[47m \u001b[30m\u001b[49m\u001b[47m \u001b[30m\u001b[49m\u001b[47m \u001b[30m\u001b[49m\u001b[47m \u001b[30m\u001b[49m\u001b[47m \u001b[30m\u001b[49m\u001b[47m \u001b[30m\u001b[49m\u001b[47m \u001b[30m\u001b[49m\u001b[47m \u001b[30m\u001b[49m\u001b[47m \u001b[30m\u001b[49m\u001b[47m \u001b[30m\u001b[49m\u001b[47m \u001b[30m\u001b[49m\u001b[47m \u001b[30m\u001b[49m\u001b[47m \u001b[30m\u001b[49m\u001b[47m \u001b[30m\u001b[49m\u001b[47m \u001b[30m\u001b[49m\u001b[47m \u001b[30m\u001b[49m\u001b[47m \u001b[30m\u001b[49m\u001b[47m \u001b[30m\u001b[49m\u001b[47m \u001b[30m\u001b[49m\u001b[47m \u001b[30m\u001b[49m\u001b[47m \u001b[30m\u001b[49m\u001b[47m \u001b[30m\u001b[49m\u001b[47m \u001b[30m\u001b[49m\u001b[47m \u001b[30m\u001b[49m\u001b[47m \u001b[30m\u001b[49m\u001b[47m \u001b[30m\u001b[49m\u001b[47m \u001b[30m\u001b[49m\u001b[47m \u001b[30m\u001b[49m\u001b[47m \u001b[30m\u001b[49m\u001b[47m \u001b[30m\u001b[49m\u001b[47m \u001b[30m\u001b[49m\u001b[47m \u001b[30m\u001b[49m\u001b[47m \u001b[30m\u001b[49m\u001b[47m \u001b[30m\u001b[49m\u001b[47m \u001b[30m\u001b[49m\u001b[47m \u001b[30m\u001b[49m\u001b[47m \u001b[30m\u001b[49m\u001b[47m \u001b[30m\u001b[49m\u001b[47m \u001b[30m\u001b[49m\u001b[47m \u001b[30m\u001b[49m\u001b[47m \u001b[30m\u001b[49m\u001b[47m \u001b[30m\u001b[49m\u001b[47m \u001b[30m\u001b[49m\u001b[47m \u001b[30m\u001b[49m\u001b[47m \u001b[30m\u001b[49m\u001b[47m \u001b[30m\u001b[49m\u001b[47m \u001b[30m\u001b[49m\u001b[47m \u001b[30m\u001b[49m\u001b[47m \u001b[30m\u001b[49m\u001b[47m \u001b[30m\u001b[49m\u001b[47m \u001b[30m\u001b[49m\u001b[47m \u001b[30m\u001b[49m\u001b[47m \u001b[30m\u001b[49m\u001b[47m \u001b[30m\u001b[49m\u001b[47m \u001b[30m\u001b[49m\u001b[47m \u001b[30m\u001b[49m\u001b[47m \u001b[30m\u001b[49m\u001b[47m \u001b[30m\u001b[49m\u001b[47m \u001b[30m\u001b[49m\u001b[47m \u001b[30m\u001b[49m\u001b[47m \u001b[30m\u001b[49m\u001b[47m \u001b[30m\u001b[49m\u001b[47m \u001b[30m\u001b[49m\u001b[47m \u001b[30m\u001b[49m\u001b[47m \u001b[30m\u001b[49m\u001b[47m \u001b[30m\u001b[49m\u001b[47m \u001b[30m\u001b[49m\u001b[47m \u001b[30m\u001b[49m\u001b[47m \u001b[30m\u001b[49m\u001b[47m \u001b[30m\u001b[49m\u001b[47m \u001b[30m\u001b[49m\u001b[47m \u001b[30m\u001b[49m\u001b[47m \u001b[30m\u001b[49m\u001b[47m \u001b[30m\u001b[49m\u001b[47m \u001b[30m\u001b[49m\u001b[47m \u001b[30m\u001b[49m\u001b[47m \u001b[30m\u001b[49m\u001b[47m \u001b[30m\u001b[49m\u001b[47m \u001b[30m\u001b[49m\u001b[47m \u001b[30m\u001b[49m\u001b[47m \u001b[30m\u001b[49m\u001b[47m \u001b[30m\u001b[49m\u001b[47m \u001b[30m\u001b[49m\u001b[47m \u001b[30m\u001b[49m\u001b[47m \u001b[30m\u001b[49m\u001b[47m \u001b[30m\u001b[49m\u001b[47m \u001b[30m\u001b[49m\u001b[47m \u001b[30m\u001b[49m\u001b[47m \u001b[30m\u001b[49m\u001b[47m \u001b[30m\u001b[49m\u001b[47m \u001b[30m\u001b[49m\u001b[47m \u001b[30m\u001b[49m\u001b[47m \u001b[30m\u001b[49m\u001b[47m \u001b[30m\u001b[49m\u001b[47m \u001b[30m\u001b[49m\u001b[47m \u001b[30m\u001b[49m\n",
            "Subread 14\t \u001b[47m \u001b[30m\u001b[49m\u001b[47m \u001b[30m\u001b[49m\u001b[47m \u001b[30m\u001b[49m\u001b[47m \u001b[30m\u001b[49m\u001b[47m \u001b[30m\u001b[49m\u001b[47m \u001b[30m\u001b[49m\u001b[47m \u001b[30m\u001b[49m\u001b[47m \u001b[30m\u001b[49m\u001b[47m \u001b[30m\u001b[49m\u001b[47m \u001b[30m\u001b[49m\u001b[47m \u001b[30m\u001b[49m\u001b[47m \u001b[30m\u001b[49m\u001b[47m \u001b[30m\u001b[49m\u001b[47m \u001b[30m\u001b[49m\u001b[47m \u001b[30m\u001b[49m\u001b[47m \u001b[30m\u001b[49m\u001b[47m \u001b[30m\u001b[49m\u001b[47m \u001b[30m\u001b[49m\u001b[47m \u001b[30m\u001b[49m\u001b[47m \u001b[30m\u001b[49m\u001b[47m \u001b[30m\u001b[49m\u001b[47m \u001b[30m\u001b[49m\u001b[47m \u001b[30m\u001b[49m\u001b[47m \u001b[30m\u001b[49m\u001b[47m \u001b[30m\u001b[49m\u001b[47m \u001b[30m\u001b[49m\u001b[47m \u001b[30m\u001b[49m\u001b[47m \u001b[30m\u001b[49m\u001b[47m \u001b[30m\u001b[49m\u001b[47m \u001b[30m\u001b[49m\u001b[47m \u001b[30m\u001b[49m\u001b[47m \u001b[30m\u001b[49m\u001b[47m \u001b[30m\u001b[49m\u001b[47m \u001b[30m\u001b[49m\u001b[47m \u001b[30m\u001b[49m\u001b[47m \u001b[30m\u001b[49m\u001b[47m \u001b[30m\u001b[49m\u001b[47m \u001b[30m\u001b[49m\u001b[47m \u001b[30m\u001b[49m\u001b[47m \u001b[30m\u001b[49m\u001b[47m \u001b[30m\u001b[49m\u001b[47m \u001b[30m\u001b[49m\u001b[47m \u001b[30m\u001b[49m\u001b[47m \u001b[30m\u001b[49m\u001b[47m \u001b[30m\u001b[49m\u001b[47m \u001b[30m\u001b[49m\u001b[47m \u001b[30m\u001b[49m\u001b[47m \u001b[30m\u001b[49m\u001b[47m \u001b[30m\u001b[49m\u001b[47m \u001b[30m\u001b[49m\u001b[47m \u001b[30m\u001b[49m\u001b[47m \u001b[30m\u001b[49m\u001b[47m \u001b[30m\u001b[49m\u001b[47m \u001b[30m\u001b[49m\u001b[47m \u001b[30m\u001b[49m\u001b[47m \u001b[30m\u001b[49m\u001b[47m \u001b[30m\u001b[49m\u001b[47m \u001b[30m\u001b[49m\u001b[47m \u001b[30m\u001b[49m\u001b[47m \u001b[30m\u001b[49m\u001b[47m \u001b[30m\u001b[49m\u001b[47m \u001b[30m\u001b[49m\u001b[47m \u001b[30m\u001b[49m\u001b[47m \u001b[30m\u001b[49m\u001b[47m \u001b[30m\u001b[49m\u001b[47m \u001b[30m\u001b[49m\u001b[47m \u001b[30m\u001b[49m\u001b[47m \u001b[30m\u001b[49m\u001b[47m \u001b[30m\u001b[49m\u001b[47m \u001b[30m\u001b[49m\u001b[47m \u001b[30m\u001b[49m\u001b[47m \u001b[30m\u001b[49m\u001b[47m \u001b[30m\u001b[49m\u001b[47m \u001b[30m\u001b[49m\u001b[47m \u001b[30m\u001b[49m\u001b[47m \u001b[30m\u001b[49m\u001b[47m \u001b[30m\u001b[49m\u001b[47m \u001b[30m\u001b[49m\u001b[47m \u001b[30m\u001b[49m\u001b[47m \u001b[30m\u001b[49m\u001b[47m \u001b[30m\u001b[49m\u001b[47m \u001b[30m\u001b[49m\u001b[47m \u001b[30m\u001b[49m\u001b[47m \u001b[30m\u001b[49m\u001b[47m \u001b[30m\u001b[49m\u001b[47m \u001b[30m\u001b[49m\u001b[47m \u001b[30m\u001b[49m\u001b[47m \u001b[30m\u001b[49m\u001b[47m \u001b[30m\u001b[49m\u001b[47m \u001b[30m\u001b[49m\u001b[47m \u001b[30m\u001b[49m\u001b[47m \u001b[30m\u001b[49m\u001b[47m \u001b[30m\u001b[49m\u001b[47m \u001b[30m\u001b[49m\u001b[47m \u001b[30m\u001b[49m\u001b[47m \u001b[30m\u001b[49m\u001b[47m \u001b[30m\u001b[49m\u001b[47m \u001b[30m\u001b[49m\u001b[47m \u001b[30m\u001b[49m\u001b[47m \u001b[30m\u001b[49m\u001b[47m \u001b[30m\u001b[49m\u001b[47m \u001b[30m\u001b[49m\u001b[47m \u001b[30m\u001b[49m\u001b[47m \u001b[30m\u001b[49m\u001b[47m \u001b[30m\u001b[49m\u001b[47m \u001b[30m\u001b[49m\u001b[47m \u001b[30m\u001b[49m\u001b[47m \u001b[30m\u001b[49m\u001b[47m \u001b[30m\u001b[49m\u001b[47m \u001b[30m\u001b[49m\u001b[47m \u001b[30m\u001b[49m\u001b[47m \u001b[30m\u001b[49m\u001b[47m \u001b[30m\u001b[49m\u001b[47m \u001b[30m\u001b[49m\u001b[47m \u001b[30m\u001b[49m\u001b[47m \u001b[30m\u001b[49m\u001b[47m \u001b[30m\u001b[49m\u001b[47m \u001b[30m\u001b[49m\u001b[47m \u001b[30m\u001b[49m\u001b[47m \u001b[30m\u001b[49m\n",
            "Subread 15\t \u001b[47m \u001b[30m\u001b[49m\u001b[47m \u001b[30m\u001b[49m\u001b[47m \u001b[30m\u001b[49m\u001b[47m \u001b[30m\u001b[49m\u001b[47m \u001b[30m\u001b[49m\u001b[47m \u001b[30m\u001b[49m\u001b[47m \u001b[30m\u001b[49m\u001b[47m \u001b[30m\u001b[49m\u001b[47m \u001b[30m\u001b[49m\u001b[47m \u001b[30m\u001b[49m\u001b[47m \u001b[30m\u001b[49m\u001b[47m \u001b[30m\u001b[49m\u001b[47m \u001b[30m\u001b[49m\u001b[47m \u001b[30m\u001b[49m\u001b[47m \u001b[30m\u001b[49m\u001b[47m \u001b[30m\u001b[49m\u001b[47m \u001b[30m\u001b[49m\u001b[47m \u001b[30m\u001b[49m\u001b[47m \u001b[30m\u001b[49m\u001b[47m \u001b[30m\u001b[49m\u001b[47m \u001b[30m\u001b[49m\u001b[47m \u001b[30m\u001b[49m\u001b[47m \u001b[30m\u001b[49m\u001b[47m \u001b[30m\u001b[49m\u001b[47m \u001b[30m\u001b[49m\u001b[47m \u001b[30m\u001b[49m\u001b[47m \u001b[30m\u001b[49m\u001b[47m \u001b[30m\u001b[49m\u001b[47m \u001b[30m\u001b[49m\u001b[47m \u001b[30m\u001b[49m\u001b[47m \u001b[30m\u001b[49m\u001b[47m \u001b[30m\u001b[49m\u001b[47m \u001b[30m\u001b[49m\u001b[47m \u001b[30m\u001b[49m\u001b[47m \u001b[30m\u001b[49m\u001b[47m \u001b[30m\u001b[49m\u001b[47m \u001b[30m\u001b[49m\u001b[47m \u001b[30m\u001b[49m\u001b[47m \u001b[30m\u001b[49m\u001b[47m \u001b[30m\u001b[49m\u001b[47m \u001b[30m\u001b[49m\u001b[47m \u001b[30m\u001b[49m\u001b[47m \u001b[30m\u001b[49m\u001b[47m \u001b[30m\u001b[49m\u001b[47m \u001b[30m\u001b[49m\u001b[47m \u001b[30m\u001b[49m\u001b[47m \u001b[30m\u001b[49m\u001b[47m \u001b[30m\u001b[49m\u001b[47m \u001b[30m\u001b[49m\u001b[47m \u001b[30m\u001b[49m\u001b[47m \u001b[30m\u001b[49m\u001b[47m \u001b[30m\u001b[49m\u001b[47m \u001b[30m\u001b[49m\u001b[47m \u001b[30m\u001b[49m\u001b[47m \u001b[30m\u001b[49m\u001b[47m \u001b[30m\u001b[49m\u001b[47m \u001b[30m\u001b[49m\u001b[47m \u001b[30m\u001b[49m\u001b[47m \u001b[30m\u001b[49m\u001b[47m \u001b[30m\u001b[49m\u001b[47m \u001b[30m\u001b[49m\u001b[47m \u001b[30m\u001b[49m\u001b[47m \u001b[30m\u001b[49m\u001b[47m \u001b[30m\u001b[49m\u001b[47m \u001b[30m\u001b[49m\u001b[47m \u001b[30m\u001b[49m\u001b[47m \u001b[30m\u001b[49m\u001b[47m \u001b[30m\u001b[49m\u001b[47m \u001b[30m\u001b[49m\u001b[47m \u001b[30m\u001b[49m\u001b[47m \u001b[30m\u001b[49m\u001b[47m \u001b[30m\u001b[49m\u001b[47m \u001b[30m\u001b[49m\u001b[47m \u001b[30m\u001b[49m\u001b[47m \u001b[30m\u001b[49m\u001b[47m \u001b[30m\u001b[49m\u001b[47m \u001b[30m\u001b[49m\u001b[47m \u001b[30m\u001b[49m\u001b[47m \u001b[30m\u001b[49m\u001b[47m \u001b[30m\u001b[49m\u001b[47m \u001b[30m\u001b[49m\u001b[47m \u001b[30m\u001b[49m\u001b[47m \u001b[30m\u001b[49m\u001b[47m \u001b[30m\u001b[49m\u001b[47m \u001b[30m\u001b[49m\u001b[47m \u001b[30m\u001b[49m\u001b[47m \u001b[30m\u001b[49m\u001b[47m \u001b[30m\u001b[49m\u001b[47m \u001b[30m\u001b[49m\u001b[47m \u001b[30m\u001b[49m\u001b[47m \u001b[30m\u001b[49m\u001b[47m \u001b[30m\u001b[49m\u001b[47m \u001b[30m\u001b[49m\u001b[47m \u001b[30m\u001b[49m\u001b[47m \u001b[30m\u001b[49m\u001b[47m \u001b[30m\u001b[49m\u001b[47m \u001b[30m\u001b[49m\u001b[47m \u001b[30m\u001b[49m\u001b[47m \u001b[30m\u001b[49m\u001b[47m \u001b[30m\u001b[49m\u001b[47m \u001b[30m\u001b[49m\u001b[47m \u001b[30m\u001b[49m\u001b[47m \u001b[30m\u001b[49m\u001b[47m \u001b[30m\u001b[49m\u001b[47m \u001b[30m\u001b[49m\u001b[47m \u001b[30m\u001b[49m\u001b[47m \u001b[30m\u001b[49m\u001b[47m \u001b[30m\u001b[49m\u001b[47m \u001b[30m\u001b[49m\u001b[47m \u001b[30m\u001b[49m\u001b[47m \u001b[30m\u001b[49m\u001b[47m \u001b[30m\u001b[49m\u001b[47m \u001b[30m\u001b[49m\u001b[47m \u001b[30m\u001b[49m\u001b[47m \u001b[30m\u001b[49m\u001b[47m \u001b[30m\u001b[49m\u001b[47m \u001b[30m\u001b[49m\u001b[47m \u001b[30m\u001b[49m\u001b[47m \u001b[30m\u001b[49m\u001b[47m \u001b[30m\u001b[49m\n",
            "Subread 16\t \u001b[47m \u001b[30m\u001b[49m\u001b[47m \u001b[30m\u001b[49m\u001b[47m \u001b[30m\u001b[49m\u001b[47m \u001b[30m\u001b[49m\u001b[47m \u001b[30m\u001b[49m\u001b[47m \u001b[30m\u001b[49m\u001b[47m \u001b[30m\u001b[49m\u001b[47m \u001b[30m\u001b[49m\u001b[47m \u001b[30m\u001b[49m\u001b[47m \u001b[30m\u001b[49m\u001b[47m \u001b[30m\u001b[49m\u001b[47m \u001b[30m\u001b[49m\u001b[47m \u001b[30m\u001b[49m\u001b[47m \u001b[30m\u001b[49m\u001b[47m \u001b[30m\u001b[49m\u001b[47m \u001b[30m\u001b[49m\u001b[47m \u001b[30m\u001b[49m\u001b[47m \u001b[30m\u001b[49m\u001b[47m \u001b[30m\u001b[49m\u001b[47m \u001b[30m\u001b[49m\u001b[47m \u001b[30m\u001b[49m\u001b[47m \u001b[30m\u001b[49m\u001b[47m \u001b[30m\u001b[49m\u001b[47m \u001b[30m\u001b[49m\u001b[47m \u001b[30m\u001b[49m\u001b[47m \u001b[30m\u001b[49m\u001b[47m \u001b[30m\u001b[49m\u001b[47m \u001b[30m\u001b[49m\u001b[47m \u001b[30m\u001b[49m\u001b[47m \u001b[30m\u001b[49m\u001b[47m \u001b[30m\u001b[49m\u001b[47m \u001b[30m\u001b[49m\u001b[47m \u001b[30m\u001b[49m\u001b[47m \u001b[30m\u001b[49m\u001b[47m \u001b[30m\u001b[49m\u001b[47m \u001b[30m\u001b[49m\u001b[47m \u001b[30m\u001b[49m\u001b[47m \u001b[30m\u001b[49m\u001b[47m \u001b[30m\u001b[49m\u001b[47m \u001b[30m\u001b[49m\u001b[47m \u001b[30m\u001b[49m\u001b[47m \u001b[30m\u001b[49m\u001b[47m \u001b[30m\u001b[49m\u001b[47m \u001b[30m\u001b[49m\u001b[47m \u001b[30m\u001b[49m\u001b[47m \u001b[30m\u001b[49m\u001b[47m \u001b[30m\u001b[49m\u001b[47m \u001b[30m\u001b[49m\u001b[47m \u001b[30m\u001b[49m\u001b[47m \u001b[30m\u001b[49m\u001b[47m \u001b[30m\u001b[49m\u001b[47m \u001b[30m\u001b[49m\u001b[47m \u001b[30m\u001b[49m\u001b[47m \u001b[30m\u001b[49m\u001b[47m \u001b[30m\u001b[49m\u001b[47m \u001b[30m\u001b[49m\u001b[47m \u001b[30m\u001b[49m\u001b[47m \u001b[30m\u001b[49m\u001b[47m \u001b[30m\u001b[49m\u001b[47m \u001b[30m\u001b[49m\u001b[47m \u001b[30m\u001b[49m\u001b[47m \u001b[30m\u001b[49m\u001b[47m \u001b[30m\u001b[49m\u001b[47m \u001b[30m\u001b[49m\u001b[47m \u001b[30m\u001b[49m\u001b[47m \u001b[30m\u001b[49m\u001b[47m \u001b[30m\u001b[49m\u001b[47m \u001b[30m\u001b[49m\u001b[47m \u001b[30m\u001b[49m\u001b[47m \u001b[30m\u001b[49m\u001b[47m \u001b[30m\u001b[49m\u001b[47m \u001b[30m\u001b[49m\u001b[47m \u001b[30m\u001b[49m\u001b[47m \u001b[30m\u001b[49m\u001b[47m \u001b[30m\u001b[49m\u001b[47m \u001b[30m\u001b[49m\u001b[47m \u001b[30m\u001b[49m\u001b[47m \u001b[30m\u001b[49m\u001b[47m \u001b[30m\u001b[49m\u001b[47m \u001b[30m\u001b[49m\u001b[47m \u001b[30m\u001b[49m\u001b[47m \u001b[30m\u001b[49m\u001b[47m \u001b[30m\u001b[49m\u001b[47m \u001b[30m\u001b[49m\u001b[47m \u001b[30m\u001b[49m\u001b[47m \u001b[30m\u001b[49m\u001b[47m \u001b[30m\u001b[49m\u001b[47m \u001b[30m\u001b[49m\u001b[47m \u001b[30m\u001b[49m\u001b[47m \u001b[30m\u001b[49m\u001b[47m \u001b[30m\u001b[49m\u001b[47m \u001b[30m\u001b[49m\u001b[47m \u001b[30m\u001b[49m\u001b[47m \u001b[30m\u001b[49m\u001b[47m \u001b[30m\u001b[49m\u001b[47m \u001b[30m\u001b[49m\u001b[47m \u001b[30m\u001b[49m\u001b[47m \u001b[30m\u001b[49m\u001b[47m \u001b[30m\u001b[49m\u001b[47m \u001b[30m\u001b[49m\u001b[47m \u001b[30m\u001b[49m\u001b[47m \u001b[30m\u001b[49m\u001b[47m \u001b[30m\u001b[49m\u001b[47m \u001b[30m\u001b[49m\u001b[47m \u001b[30m\u001b[49m\u001b[47m \u001b[30m\u001b[49m\u001b[47m \u001b[30m\u001b[49m\u001b[47m \u001b[30m\u001b[49m\u001b[47m \u001b[30m\u001b[49m\u001b[47m \u001b[30m\u001b[49m\u001b[47m \u001b[30m\u001b[49m\u001b[47m \u001b[30m\u001b[49m\u001b[47m \u001b[30m\u001b[49m\u001b[47m \u001b[30m\u001b[49m\u001b[47m \u001b[30m\u001b[49m\u001b[47m \u001b[30m\u001b[49m\u001b[47m \u001b[30m\u001b[49m\u001b[47m \u001b[30m\u001b[49m\u001b[47m \u001b[30m\u001b[49m\u001b[47m \u001b[30m\u001b[49m\n",
            "Subread 17\t \u001b[47m \u001b[30m\u001b[49m\u001b[47m \u001b[30m\u001b[49m\u001b[47m \u001b[30m\u001b[49m\u001b[47m \u001b[30m\u001b[49m\u001b[47m \u001b[30m\u001b[49m\u001b[47m \u001b[30m\u001b[49m\u001b[47m \u001b[30m\u001b[49m\u001b[47m \u001b[30m\u001b[49m\u001b[47m \u001b[30m\u001b[49m\u001b[47m \u001b[30m\u001b[49m\u001b[47m \u001b[30m\u001b[49m\u001b[47m \u001b[30m\u001b[49m\u001b[47m \u001b[30m\u001b[49m\u001b[47m \u001b[30m\u001b[49m\u001b[47m \u001b[30m\u001b[49m\u001b[47m \u001b[30m\u001b[49m\u001b[47m \u001b[30m\u001b[49m\u001b[47m \u001b[30m\u001b[49m\u001b[47m \u001b[30m\u001b[49m\u001b[47m \u001b[30m\u001b[49m\u001b[47m \u001b[30m\u001b[49m\u001b[47m \u001b[30m\u001b[49m\u001b[47m \u001b[30m\u001b[49m\u001b[47m \u001b[30m\u001b[49m\u001b[47m \u001b[30m\u001b[49m\u001b[47m \u001b[30m\u001b[49m\u001b[47m \u001b[30m\u001b[49m\u001b[47m \u001b[30m\u001b[49m\u001b[47m \u001b[30m\u001b[49m\u001b[47m \u001b[30m\u001b[49m\u001b[47m \u001b[30m\u001b[49m\u001b[47m \u001b[30m\u001b[49m\u001b[47m \u001b[30m\u001b[49m\u001b[47m \u001b[30m\u001b[49m\u001b[47m \u001b[30m\u001b[49m\u001b[47m \u001b[30m\u001b[49m\u001b[47m \u001b[30m\u001b[49m\u001b[47m \u001b[30m\u001b[49m\u001b[47m \u001b[30m\u001b[49m\u001b[47m \u001b[30m\u001b[49m\u001b[47m \u001b[30m\u001b[49m\u001b[47m \u001b[30m\u001b[49m\u001b[47m \u001b[30m\u001b[49m\u001b[47m \u001b[30m\u001b[49m\u001b[47m \u001b[30m\u001b[49m\u001b[47m \u001b[30m\u001b[49m\u001b[47m \u001b[30m\u001b[49m\u001b[47m \u001b[30m\u001b[49m\u001b[47m \u001b[30m\u001b[49m\u001b[47m \u001b[30m\u001b[49m\u001b[47m \u001b[30m\u001b[49m\u001b[47m \u001b[30m\u001b[49m\u001b[47m \u001b[30m\u001b[49m\u001b[47m \u001b[30m\u001b[49m\u001b[47m \u001b[30m\u001b[49m\u001b[47m \u001b[30m\u001b[49m\u001b[47m \u001b[30m\u001b[49m\u001b[47m \u001b[30m\u001b[49m\u001b[47m \u001b[30m\u001b[49m\u001b[47m \u001b[30m\u001b[49m\u001b[47m \u001b[30m\u001b[49m\u001b[47m \u001b[30m\u001b[49m\u001b[47m \u001b[30m\u001b[49m\u001b[47m \u001b[30m\u001b[49m\u001b[47m \u001b[30m\u001b[49m\u001b[47m \u001b[30m\u001b[49m\u001b[47m \u001b[30m\u001b[49m\u001b[47m \u001b[30m\u001b[49m\u001b[47m \u001b[30m\u001b[49m\u001b[47m \u001b[30m\u001b[49m\u001b[47m \u001b[30m\u001b[49m\u001b[47m \u001b[30m\u001b[49m\u001b[47m \u001b[30m\u001b[49m\u001b[47m \u001b[30m\u001b[49m\u001b[47m \u001b[30m\u001b[49m\u001b[47m \u001b[30m\u001b[49m\u001b[47m \u001b[30m\u001b[49m\u001b[47m \u001b[30m\u001b[49m\u001b[47m \u001b[30m\u001b[49m\u001b[47m \u001b[30m\u001b[49m\u001b[47m \u001b[30m\u001b[49m\u001b[47m \u001b[30m\u001b[49m\u001b[47m \u001b[30m\u001b[49m\u001b[47m \u001b[30m\u001b[49m\u001b[47m \u001b[30m\u001b[49m\u001b[47m \u001b[30m\u001b[49m\u001b[47m \u001b[30m\u001b[49m\u001b[47m \u001b[30m\u001b[49m\u001b[47m \u001b[30m\u001b[49m\u001b[47m \u001b[30m\u001b[49m\u001b[47m \u001b[30m\u001b[49m\u001b[47m \u001b[30m\u001b[49m\u001b[47m \u001b[30m\u001b[49m\u001b[47m \u001b[30m\u001b[49m\u001b[47m \u001b[30m\u001b[49m\u001b[47m \u001b[30m\u001b[49m\u001b[47m \u001b[30m\u001b[49m\u001b[47m \u001b[30m\u001b[49m\u001b[47m \u001b[30m\u001b[49m\u001b[47m \u001b[30m\u001b[49m\u001b[47m \u001b[30m\u001b[49m\u001b[47m \u001b[30m\u001b[49m\u001b[47m \u001b[30m\u001b[49m\u001b[47m \u001b[30m\u001b[49m\u001b[47m \u001b[30m\u001b[49m\u001b[47m \u001b[30m\u001b[49m\u001b[47m \u001b[30m\u001b[49m\u001b[47m \u001b[30m\u001b[49m\u001b[47m \u001b[30m\u001b[49m\u001b[47m \u001b[30m\u001b[49m\u001b[47m \u001b[30m\u001b[49m\u001b[47m \u001b[30m\u001b[49m\u001b[47m \u001b[30m\u001b[49m\u001b[47m \u001b[30m\u001b[49m\u001b[47m \u001b[30m\u001b[49m\u001b[47m \u001b[30m\u001b[49m\u001b[47m \u001b[30m\u001b[49m\u001b[47m \u001b[30m\u001b[49m\u001b[47m \u001b[30m\u001b[49m\u001b[47m \u001b[30m\u001b[49m\n",
            "Subread 18\t \u001b[47m \u001b[30m\u001b[49m\u001b[47m \u001b[30m\u001b[49m\u001b[47m \u001b[30m\u001b[49m\u001b[47m \u001b[30m\u001b[49m\u001b[47m \u001b[30m\u001b[49m\u001b[47m \u001b[30m\u001b[49m\u001b[47m \u001b[30m\u001b[49m\u001b[47m \u001b[30m\u001b[49m\u001b[47m \u001b[30m\u001b[49m\u001b[47m \u001b[30m\u001b[49m\u001b[47m \u001b[30m\u001b[49m\u001b[47m \u001b[30m\u001b[49m\u001b[47m \u001b[30m\u001b[49m\u001b[47m \u001b[30m\u001b[49m\u001b[47m \u001b[30m\u001b[49m\u001b[47m \u001b[30m\u001b[49m\u001b[47m \u001b[30m\u001b[49m\u001b[47m \u001b[30m\u001b[49m\u001b[47m \u001b[30m\u001b[49m\u001b[47m \u001b[30m\u001b[49m\u001b[47m \u001b[30m\u001b[49m\u001b[47m \u001b[30m\u001b[49m\u001b[47m \u001b[30m\u001b[49m\u001b[47m \u001b[30m\u001b[49m\u001b[47m \u001b[30m\u001b[49m\u001b[47m \u001b[30m\u001b[49m\u001b[47m \u001b[30m\u001b[49m\u001b[47m \u001b[30m\u001b[49m\u001b[47m \u001b[30m\u001b[49m\u001b[47m \u001b[30m\u001b[49m\u001b[47m \u001b[30m\u001b[49m\u001b[47m \u001b[30m\u001b[49m\u001b[47m \u001b[30m\u001b[49m\u001b[47m \u001b[30m\u001b[49m\u001b[47m \u001b[30m\u001b[49m\u001b[47m \u001b[30m\u001b[49m\u001b[47m \u001b[30m\u001b[49m\u001b[47m \u001b[30m\u001b[49m\u001b[47m \u001b[30m\u001b[49m\u001b[47m \u001b[30m\u001b[49m\u001b[47m \u001b[30m\u001b[49m\u001b[47m \u001b[30m\u001b[49m\u001b[47m \u001b[30m\u001b[49m\u001b[47m \u001b[30m\u001b[49m\u001b[47m \u001b[30m\u001b[49m\u001b[47m \u001b[30m\u001b[49m\u001b[47m \u001b[30m\u001b[49m\u001b[47m \u001b[30m\u001b[49m\u001b[47m \u001b[30m\u001b[49m\u001b[47m \u001b[30m\u001b[49m\u001b[47m \u001b[30m\u001b[49m\u001b[47m \u001b[30m\u001b[49m\u001b[47m \u001b[30m\u001b[49m\u001b[47m \u001b[30m\u001b[49m\u001b[47m \u001b[30m\u001b[49m\u001b[47m \u001b[30m\u001b[49m\u001b[47m \u001b[30m\u001b[49m\u001b[47m \u001b[30m\u001b[49m\u001b[47m \u001b[30m\u001b[49m\u001b[47m \u001b[30m\u001b[49m\u001b[47m \u001b[30m\u001b[49m\u001b[47m \u001b[30m\u001b[49m\u001b[47m \u001b[30m\u001b[49m\u001b[47m \u001b[30m\u001b[49m\u001b[47m \u001b[30m\u001b[49m\u001b[47m \u001b[30m\u001b[49m\u001b[47m \u001b[30m\u001b[49m\u001b[47m \u001b[30m\u001b[49m\u001b[47m \u001b[30m\u001b[49m\u001b[47m \u001b[30m\u001b[49m\u001b[47m \u001b[30m\u001b[49m\u001b[47m \u001b[30m\u001b[49m\u001b[47m \u001b[30m\u001b[49m\u001b[47m \u001b[30m\u001b[49m\u001b[47m \u001b[30m\u001b[49m\u001b[47m \u001b[30m\u001b[49m\u001b[47m \u001b[30m\u001b[49m\u001b[47m \u001b[30m\u001b[49m\u001b[47m \u001b[30m\u001b[49m\u001b[47m \u001b[30m\u001b[49m\u001b[47m \u001b[30m\u001b[49m\u001b[47m \u001b[30m\u001b[49m\u001b[47m \u001b[30m\u001b[49m\u001b[47m \u001b[30m\u001b[49m\u001b[47m \u001b[30m\u001b[49m\u001b[47m \u001b[30m\u001b[49m\u001b[47m \u001b[30m\u001b[49m\u001b[47m \u001b[30m\u001b[49m\u001b[47m \u001b[30m\u001b[49m\u001b[47m \u001b[30m\u001b[49m\u001b[47m \u001b[30m\u001b[49m\u001b[47m \u001b[30m\u001b[49m\u001b[47m \u001b[30m\u001b[49m\u001b[47m \u001b[30m\u001b[49m\u001b[47m \u001b[30m\u001b[49m\u001b[47m \u001b[30m\u001b[49m\u001b[47m \u001b[30m\u001b[49m\u001b[47m \u001b[30m\u001b[49m\u001b[47m \u001b[30m\u001b[49m\u001b[47m \u001b[30m\u001b[49m\u001b[47m \u001b[30m\u001b[49m\u001b[47m \u001b[30m\u001b[49m\u001b[47m \u001b[30m\u001b[49m\u001b[47m \u001b[30m\u001b[49m\u001b[47m \u001b[30m\u001b[49m\u001b[47m \u001b[30m\u001b[49m\u001b[47m \u001b[30m\u001b[49m\u001b[47m \u001b[30m\u001b[49m\u001b[47m \u001b[30m\u001b[49m\u001b[47m \u001b[30m\u001b[49m\u001b[47m \u001b[30m\u001b[49m\u001b[47m \u001b[30m\u001b[49m\u001b[47m \u001b[30m\u001b[49m\u001b[47m \u001b[30m\u001b[49m\u001b[47m \u001b[30m\u001b[49m\u001b[47m \u001b[30m\u001b[49m\u001b[47m \u001b[30m\u001b[49m\u001b[47m \u001b[30m\u001b[49m\u001b[47m \u001b[30m\u001b[49m\u001b[47m \u001b[30m\u001b[49m\n",
            "Subread 19\t \u001b[47m \u001b[30m\u001b[49m\u001b[47m \u001b[30m\u001b[49m\u001b[47m \u001b[30m\u001b[49m\u001b[47m \u001b[30m\u001b[49m\u001b[47m \u001b[30m\u001b[49m\u001b[47m \u001b[30m\u001b[49m\u001b[47m \u001b[30m\u001b[49m\u001b[47m \u001b[30m\u001b[49m\u001b[47m \u001b[30m\u001b[49m\u001b[47m \u001b[30m\u001b[49m\u001b[47m \u001b[30m\u001b[49m\u001b[47m \u001b[30m\u001b[49m\u001b[47m \u001b[30m\u001b[49m\u001b[47m \u001b[30m\u001b[49m\u001b[47m \u001b[30m\u001b[49m\u001b[47m \u001b[30m\u001b[49m\u001b[47m \u001b[30m\u001b[49m\u001b[47m \u001b[30m\u001b[49m\u001b[47m \u001b[30m\u001b[49m\u001b[47m \u001b[30m\u001b[49m\u001b[47m \u001b[30m\u001b[49m\u001b[47m \u001b[30m\u001b[49m\u001b[47m \u001b[30m\u001b[49m\u001b[47m \u001b[30m\u001b[49m\u001b[47m \u001b[30m\u001b[49m\u001b[47m \u001b[30m\u001b[49m\u001b[47m \u001b[30m\u001b[49m\u001b[47m \u001b[30m\u001b[49m\u001b[47m \u001b[30m\u001b[49m\u001b[47m \u001b[30m\u001b[49m\u001b[47m \u001b[30m\u001b[49m\u001b[47m \u001b[30m\u001b[49m\u001b[47m \u001b[30m\u001b[49m\u001b[47m \u001b[30m\u001b[49m\u001b[47m \u001b[30m\u001b[49m\u001b[47m \u001b[30m\u001b[49m\u001b[47m \u001b[30m\u001b[49m\u001b[47m \u001b[30m\u001b[49m\u001b[47m \u001b[30m\u001b[49m\u001b[47m \u001b[30m\u001b[49m\u001b[47m \u001b[30m\u001b[49m\u001b[47m \u001b[30m\u001b[49m\u001b[47m \u001b[30m\u001b[49m\u001b[47m \u001b[30m\u001b[49m\u001b[47m \u001b[30m\u001b[49m\u001b[47m \u001b[30m\u001b[49m\u001b[47m \u001b[30m\u001b[49m\u001b[47m \u001b[30m\u001b[49m\u001b[47m \u001b[30m\u001b[49m\u001b[47m \u001b[30m\u001b[49m\u001b[47m \u001b[30m\u001b[49m\u001b[47m \u001b[30m\u001b[49m\u001b[47m \u001b[30m\u001b[49m\u001b[47m \u001b[30m\u001b[49m\u001b[47m \u001b[30m\u001b[49m\u001b[47m \u001b[30m\u001b[49m\u001b[47m \u001b[30m\u001b[49m\u001b[47m \u001b[30m\u001b[49m\u001b[47m \u001b[30m\u001b[49m\u001b[47m \u001b[30m\u001b[49m\u001b[47m \u001b[30m\u001b[49m\u001b[47m \u001b[30m\u001b[49m\u001b[47m \u001b[30m\u001b[49m\u001b[47m \u001b[30m\u001b[49m\u001b[47m \u001b[30m\u001b[49m\u001b[47m \u001b[30m\u001b[49m\u001b[47m \u001b[30m\u001b[49m\u001b[47m \u001b[30m\u001b[49m\u001b[47m \u001b[30m\u001b[49m\u001b[47m \u001b[30m\u001b[49m\u001b[47m \u001b[30m\u001b[49m\u001b[47m \u001b[30m\u001b[49m\u001b[47m \u001b[30m\u001b[49m\u001b[47m \u001b[30m\u001b[49m\u001b[47m \u001b[30m\u001b[49m\u001b[47m \u001b[30m\u001b[49m\u001b[47m \u001b[30m\u001b[49m\u001b[47m \u001b[30m\u001b[49m\u001b[47m \u001b[30m\u001b[49m\u001b[47m \u001b[30m\u001b[49m\u001b[47m \u001b[30m\u001b[49m\u001b[47m \u001b[30m\u001b[49m\u001b[47m \u001b[30m\u001b[49m\u001b[47m \u001b[30m\u001b[49m\u001b[47m \u001b[30m\u001b[49m\u001b[47m \u001b[30m\u001b[49m\u001b[47m \u001b[30m\u001b[49m\u001b[47m \u001b[30m\u001b[49m\u001b[47m \u001b[30m\u001b[49m\u001b[47m \u001b[30m\u001b[49m\u001b[47m \u001b[30m\u001b[49m\u001b[47m \u001b[30m\u001b[49m\u001b[47m \u001b[30m\u001b[49m\u001b[47m \u001b[30m\u001b[49m\u001b[47m \u001b[30m\u001b[49m\u001b[47m \u001b[30m\u001b[49m\u001b[47m \u001b[30m\u001b[49m\u001b[47m \u001b[30m\u001b[49m\u001b[47m \u001b[30m\u001b[49m\u001b[47m \u001b[30m\u001b[49m\u001b[47m \u001b[30m\u001b[49m\u001b[47m \u001b[30m\u001b[49m\u001b[47m \u001b[30m\u001b[49m\u001b[47m \u001b[30m\u001b[49m\u001b[47m \u001b[30m\u001b[49m\u001b[47m \u001b[30m\u001b[49m\u001b[47m \u001b[30m\u001b[49m\u001b[47m \u001b[30m\u001b[49m\u001b[47m \u001b[30m\u001b[49m\u001b[47m \u001b[30m\u001b[49m\u001b[47m \u001b[30m\u001b[49m\u001b[47m \u001b[30m\u001b[49m\u001b[47m \u001b[30m\u001b[49m\u001b[47m \u001b[30m\u001b[49m\u001b[47m \u001b[30m\u001b[49m\u001b[47m \u001b[30m\u001b[49m\u001b[47m \u001b[30m\u001b[49m\u001b[47m \u001b[30m\u001b[49m\u001b[47m \u001b[30m\u001b[49m\u001b[47m \u001b[30m\u001b[49m\n",
            "Subread 20\t \u001b[47m \u001b[30m\u001b[49m\u001b[47m \u001b[30m\u001b[49m\u001b[47m \u001b[30m\u001b[49m\u001b[47m \u001b[30m\u001b[49m\u001b[47m \u001b[30m\u001b[49m\u001b[47m \u001b[30m\u001b[49m\u001b[47m \u001b[30m\u001b[49m\u001b[47m \u001b[30m\u001b[49m\u001b[47m \u001b[30m\u001b[49m\u001b[47m \u001b[30m\u001b[49m\u001b[47m \u001b[30m\u001b[49m\u001b[47m \u001b[30m\u001b[49m\u001b[47m \u001b[30m\u001b[49m\u001b[47m \u001b[30m\u001b[49m\u001b[47m \u001b[30m\u001b[49m\u001b[47m \u001b[30m\u001b[49m\u001b[47m \u001b[30m\u001b[49m\u001b[47m \u001b[30m\u001b[49m\u001b[47m \u001b[30m\u001b[49m\u001b[47m \u001b[30m\u001b[49m\u001b[47m \u001b[30m\u001b[49m\u001b[47m \u001b[30m\u001b[49m\u001b[47m \u001b[30m\u001b[49m\u001b[47m \u001b[30m\u001b[49m\u001b[47m \u001b[30m\u001b[49m\u001b[47m \u001b[30m\u001b[49m\u001b[47m \u001b[30m\u001b[49m\u001b[47m \u001b[30m\u001b[49m\u001b[47m \u001b[30m\u001b[49m\u001b[47m \u001b[30m\u001b[49m\u001b[47m \u001b[30m\u001b[49m\u001b[47m \u001b[30m\u001b[49m\u001b[47m \u001b[30m\u001b[49m\u001b[47m \u001b[30m\u001b[49m\u001b[47m \u001b[30m\u001b[49m\u001b[47m \u001b[30m\u001b[49m\u001b[47m \u001b[30m\u001b[49m\u001b[47m \u001b[30m\u001b[49m\u001b[47m \u001b[30m\u001b[49m\u001b[47m \u001b[30m\u001b[49m\u001b[47m \u001b[30m\u001b[49m\u001b[47m \u001b[30m\u001b[49m\u001b[47m \u001b[30m\u001b[49m\u001b[47m \u001b[30m\u001b[49m\u001b[47m \u001b[30m\u001b[49m\u001b[47m \u001b[30m\u001b[49m\u001b[47m \u001b[30m\u001b[49m\u001b[47m \u001b[30m\u001b[49m\u001b[47m \u001b[30m\u001b[49m\u001b[47m \u001b[30m\u001b[49m\u001b[47m \u001b[30m\u001b[49m\u001b[47m \u001b[30m\u001b[49m\u001b[47m \u001b[30m\u001b[49m\u001b[47m \u001b[30m\u001b[49m\u001b[47m \u001b[30m\u001b[49m\u001b[47m \u001b[30m\u001b[49m\u001b[47m \u001b[30m\u001b[49m\u001b[47m \u001b[30m\u001b[49m\u001b[47m \u001b[30m\u001b[49m\u001b[47m \u001b[30m\u001b[49m\u001b[47m \u001b[30m\u001b[49m\u001b[47m \u001b[30m\u001b[49m\u001b[47m \u001b[30m\u001b[49m\u001b[47m \u001b[30m\u001b[49m\u001b[47m \u001b[30m\u001b[49m\u001b[47m \u001b[30m\u001b[49m\u001b[47m \u001b[30m\u001b[49m\u001b[47m \u001b[30m\u001b[49m\u001b[47m \u001b[30m\u001b[49m\u001b[47m \u001b[30m\u001b[49m\u001b[47m \u001b[30m\u001b[49m\u001b[47m \u001b[30m\u001b[49m\u001b[47m \u001b[30m\u001b[49m\u001b[47m \u001b[30m\u001b[49m\u001b[47m \u001b[30m\u001b[49m\u001b[47m \u001b[30m\u001b[49m\u001b[47m \u001b[30m\u001b[49m\u001b[47m \u001b[30m\u001b[49m\u001b[47m \u001b[30m\u001b[49m\u001b[47m \u001b[30m\u001b[49m\u001b[47m \u001b[30m\u001b[49m\u001b[47m \u001b[30m\u001b[49m\u001b[47m \u001b[30m\u001b[49m\u001b[47m \u001b[30m\u001b[49m\u001b[47m \u001b[30m\u001b[49m\u001b[47m \u001b[30m\u001b[49m\u001b[47m \u001b[30m\u001b[49m\u001b[47m \u001b[30m\u001b[49m\u001b[47m \u001b[30m\u001b[49m\u001b[47m \u001b[30m\u001b[49m\u001b[47m \u001b[30m\u001b[49m\u001b[47m \u001b[30m\u001b[49m\u001b[47m \u001b[30m\u001b[49m\u001b[47m \u001b[30m\u001b[49m\u001b[47m \u001b[30m\u001b[49m\u001b[47m \u001b[30m\u001b[49m\u001b[47m \u001b[30m\u001b[49m\u001b[47m \u001b[30m\u001b[49m\u001b[47m \u001b[30m\u001b[49m\u001b[47m \u001b[30m\u001b[49m\u001b[47m \u001b[30m\u001b[49m\u001b[47m \u001b[30m\u001b[49m\u001b[47m \u001b[30m\u001b[49m\u001b[47m \u001b[30m\u001b[49m\u001b[47m \u001b[30m\u001b[49m\u001b[47m \u001b[30m\u001b[49m\u001b[47m \u001b[30m\u001b[49m\u001b[47m \u001b[30m\u001b[49m\u001b[47m \u001b[30m\u001b[49m\u001b[47m \u001b[30m\u001b[49m\u001b[47m \u001b[30m\u001b[49m\u001b[47m \u001b[30m\u001b[49m\u001b[47m \u001b[30m\u001b[49m\u001b[47m \u001b[30m\u001b[49m\u001b[47m \u001b[30m\u001b[49m\u001b[47m \u001b[30m\u001b[49m\u001b[47m \u001b[30m\u001b[49m\u001b[47m \u001b[30m\u001b[49m\u001b[47m \u001b[30m\u001b[49m\u001b[47m \u001b[30m\u001b[49m\n",
            "ccs:\t\t \u001b[32mA\u001b[30m\u001b[49m\u001b[31mT\u001b[30m\u001b[49m\u001b[31mT\u001b[30m\u001b[49m\u001b[32mA\u001b[30m\u001b[49m\u001b[33mG\u001b[30m\u001b[49m\u001b[32mA\u001b[30m\u001b[49m\u001b[34mC\u001b[30m\u001b[49m\u001b[34mC\u001b[30m\u001b[49m\u001b[47m \u001b[30m\u001b[49m\u001b[34mC\u001b[30m\u001b[49m\u001b[31mT\u001b[30m\u001b[49m\u001b[34mC\u001b[30m\u001b[49m\u001b[34mC\u001b[30m\u001b[49m\u001b[32mA\u001b[30m\u001b[49m\u001b[47m \u001b[30m\u001b[49m\u001b[31mT\u001b[30m\u001b[49m\u001b[31mT\u001b[30m\u001b[49m\u001b[47m \u001b[30m\u001b[49m\u001b[47m \u001b[30m\u001b[49m\u001b[31mT\u001b[30m\u001b[49m\u001b[31mT\u001b[30m\u001b[49m\u001b[33mG\u001b[30m\u001b[49m\u001b[31mT\u001b[30m\u001b[49m\u001b[33mG\u001b[30m\u001b[49m\u001b[47m \u001b[30m\u001b[49m\u001b[31mT\u001b[30m\u001b[49m\u001b[33mG\u001b[30m\u001b[49m\u001b[31mT\u001b[30m\u001b[49m\u001b[34mC\u001b[30m\u001b[49m\u001b[31mT\u001b[30m\u001b[49m\u001b[31mT\u001b[30m\u001b[49m\u001b[34mC\u001b[30m\u001b[49m\u001b[31mT\u001b[30m\u001b[49m\u001b[31mT\u001b[30m\u001b[49m\u001b[33mG\u001b[30m\u001b[49m\u001b[31mT\u001b[30m\u001b[49m\u001b[31mT\u001b[30m\u001b[49m\u001b[31mT\u001b[30m\u001b[49m\u001b[33mG\u001b[30m\u001b[49m\u001b[31mT\u001b[30m\u001b[49m\u001b[33mG\u001b[30m\u001b[49m\u001b[31mT\u001b[30m\u001b[49m\u001b[34mC\u001b[30m\u001b[49m\u001b[31mT\u001b[30m\u001b[49m\u001b[34mC\u001b[30m\u001b[49m\u001b[47m \u001b[30m\u001b[49m\u001b[31mT\u001b[30m\u001b[49m\u001b[47m \u001b[30m\u001b[49m\u001b[32mA\u001b[30m\u001b[49m\u001b[32mA\u001b[30m\u001b[49m\u001b[32mA\u001b[30m\u001b[49m\u001b[47m \u001b[30m\u001b[49m\u001b[31mT\u001b[30m\u001b[49m\u001b[47m \u001b[30m\u001b[49m\u001b[31mT\u001b[30m\u001b[49m\u001b[32mA\u001b[30m\u001b[49m\u001b[31mT\u001b[30m\u001b[49m\u001b[34mC\u001b[30m\u001b[49m\u001b[34mC\u001b[30m\u001b[49m\u001b[31mT\u001b[30m\u001b[49m\u001b[31mT\u001b[30m\u001b[49m\u001b[31mT\u001b[30m\u001b[49m\u001b[33mG\u001b[30m\u001b[49m\u001b[33mG\u001b[30m\u001b[49m\u001b[47m \u001b[30m\u001b[49m\u001b[34mC\u001b[30m\u001b[49m\u001b[31mT\u001b[30m\u001b[49m\u001b[31mT\u001b[30m\u001b[49m\u001b[32mA\u001b[30m\u001b[49m\u001b[32mA\u001b[30m\u001b[49m\u001b[31mT\u001b[30m\u001b[49m\u001b[32mA\u001b[30m\u001b[49m\u001b[32mA\u001b[30m\u001b[49m\u001b[31mT\u001b[30m\u001b[49m\u001b[32mA\u001b[30m\u001b[49m\u001b[32mA\u001b[30m\u001b[49m\u001b[31mT\u001b[30m\u001b[49m\u001b[31mT\u001b[30m\u001b[49m\u001b[32mA\u001b[30m\u001b[49m\u001b[32mA\u001b[30m\u001b[49m\u001b[33mG\u001b[30m\u001b[49m\u001b[31mT\u001b[30m\u001b[49m\u001b[34mC\u001b[30m\u001b[49m\u001b[34mC\u001b[30m\u001b[49m\u001b[34mC\u001b[30m\u001b[49m\u001b[31mT\u001b[30m\u001b[49m\u001b[31mT\u001b[30m\u001b[49m\u001b[34mC\u001b[30m\u001b[49m\u001b[31mT\u001b[30m\u001b[49m\u001b[32mA\u001b[30m\u001b[49m\u001b[34mC\u001b[30m\u001b[49m\u001b[33mG\u001b[30m\u001b[49m\u001b[31mT\u001b[30m\u001b[49m\u001b[33mG\u001b[30m\u001b[49m\u001b[34mC\u001b[30m\u001b[49m\u001b[34mC\u001b[30m\u001b[49m\u001b[32mA\u001b[30m\u001b[49m\u001b[33mG\u001b[30m\u001b[49m\u001b[33mG\u001b[30m\u001b[49m\u001b[34mC\u001b[30m\u001b[49m\u001b[47m \u001b[30m\u001b[49m\u001b[47m \u001b[30m\u001b[49m\u001b[47m \u001b[30m\u001b[49m\u001b[47m \u001b[30m\u001b[49m\u001b[47m \u001b[30m\u001b[49m\u001b[47m \u001b[30m\u001b[49m\u001b[47m \u001b[30m\u001b[49m\u001b[47m \u001b[30m\u001b[49m\u001b[47m \u001b[30m\u001b[49m\u001b[47m \u001b[30m\u001b[49m\u001b[47m \u001b[30m\u001b[49m\u001b[47m \u001b[30m\u001b[49m\u001b[47m \u001b[30m\u001b[49m\u001b[47m \u001b[30m\u001b[49m\u001b[47m \u001b[30m\u001b[49m\u001b[47m \u001b[30m\u001b[49m\u001b[47m \u001b[30m\u001b[49m\u001b[47m \u001b[30m\u001b[49m\u001b[47m \u001b[30m\u001b[49m\u001b[47m \u001b[30m\u001b[49m\n",
            "prediction:\t \u001b[32mA\u001b[30m\u001b[49m\u001b[31mT\u001b[30m\u001b[49m\u001b[31mT\u001b[30m\u001b[49m\u001b[32mA\u001b[30m\u001b[49m\u001b[33mG\u001b[30m\u001b[49m\u001b[32mA\u001b[30m\u001b[49m\u001b[34mC\u001b[30m\u001b[49m\u001b[34mC\u001b[30m\u001b[49m\u001b[47m \u001b[30m\u001b[49m\u001b[34mC\u001b[30m\u001b[49m\u001b[31mT\u001b[30m\u001b[49m\u001b[34mC\u001b[30m\u001b[49m\u001b[34mC\u001b[30m\u001b[49m\u001b[32mA\u001b[30m\u001b[49m\u001b[47m \u001b[30m\u001b[49m\u001b[31mT\u001b[30m\u001b[49m\u001b[31mT\u001b[30m\u001b[49m\u001b[47m \u001b[30m\u001b[49m\u001b[47m \u001b[30m\u001b[49m\u001b[31mT\u001b[30m\u001b[49m\u001b[31mT\u001b[30m\u001b[49m\u001b[33mG\u001b[30m\u001b[49m\u001b[31mT\u001b[30m\u001b[49m\u001b[33mG\u001b[30m\u001b[49m\u001b[47m \u001b[30m\u001b[49m\u001b[31mT\u001b[30m\u001b[49m\u001b[33mG\u001b[30m\u001b[49m\u001b[31mT\u001b[30m\u001b[49m\u001b[34mC\u001b[30m\u001b[49m\u001b[31mT\u001b[30m\u001b[49m\u001b[31mT\u001b[30m\u001b[49m\u001b[34mC\u001b[30m\u001b[49m\u001b[31mT\u001b[30m\u001b[49m\u001b[31mT\u001b[30m\u001b[49m\u001b[33mG\u001b[30m\u001b[49m\u001b[31mT\u001b[30m\u001b[49m\u001b[31mT\u001b[30m\u001b[49m\u001b[31mT\u001b[30m\u001b[49m\u001b[33mG\u001b[30m\u001b[49m\u001b[31mT\u001b[30m\u001b[49m\u001b[33mG\u001b[30m\u001b[49m\u001b[31mT\u001b[30m\u001b[49m\u001b[34mC\u001b[30m\u001b[49m\u001b[31mT\u001b[30m\u001b[49m\u001b[34mC\u001b[30m\u001b[49m\u001b[47m \u001b[30m\u001b[49m\u001b[31mT\u001b[30m\u001b[49m\u001b[47m \u001b[30m\u001b[49m\u001b[32mA\u001b[30m\u001b[49m\u001b[32mA\u001b[30m\u001b[49m\u001b[32mA\u001b[30m\u001b[49m\u001b[47m \u001b[30m\u001b[49m\u001b[31mT\u001b[30m\u001b[49m\u001b[47m \u001b[30m\u001b[49m\u001b[31mT\u001b[30m\u001b[49m\u001b[32mA\u001b[30m\u001b[49m\u001b[31mT\u001b[30m\u001b[49m\u001b[34mC\u001b[30m\u001b[49m\u001b[34mC\u001b[30m\u001b[49m\u001b[31mT\u001b[30m\u001b[49m\u001b[31mT\u001b[30m\u001b[49m\u001b[31mT\u001b[30m\u001b[49m\u001b[33mG\u001b[30m\u001b[49m\u001b[33mG\u001b[30m\u001b[49m\u001b[47m \u001b[30m\u001b[49m\u001b[34mC\u001b[30m\u001b[49m\u001b[31mT\u001b[30m\u001b[49m\u001b[31mT\u001b[30m\u001b[49m\u001b[32mA\u001b[30m\u001b[49m\u001b[32mA\u001b[30m\u001b[49m\u001b[31mT\u001b[30m\u001b[49m\u001b[32mA\u001b[30m\u001b[49m\u001b[32mA\u001b[30m\u001b[49m\u001b[31mT\u001b[30m\u001b[49m\u001b[32mA\u001b[30m\u001b[49m\u001b[32mA\u001b[30m\u001b[49m\u001b[31mT\u001b[30m\u001b[49m\u001b[31mT\u001b[30m\u001b[49m\u001b[32mA\u001b[30m\u001b[49m\u001b[32mA\u001b[30m\u001b[49m\u001b[33mG\u001b[30m\u001b[49m\u001b[31mT\u001b[30m\u001b[49m\u001b[34mC\u001b[30m\u001b[49m\u001b[34mC\u001b[30m\u001b[49m\u001b[34mC\u001b[30m\u001b[49m\u001b[31mT\u001b[30m\u001b[49m\u001b[31mT\u001b[30m\u001b[49m\u001b[34mC\u001b[30m\u001b[49m\u001b[31mT\u001b[30m\u001b[49m\u001b[32mA\u001b[30m\u001b[49m\u001b[34mC\u001b[30m\u001b[49m\u001b[33mG\u001b[30m\u001b[49m\u001b[31mT\u001b[30m\u001b[49m\u001b[33mG\u001b[30m\u001b[49m\u001b[34mC\u001b[30m\u001b[49m\u001b[34mC\u001b[30m\u001b[49m\u001b[32mA\u001b[30m\u001b[49m\u001b[33mG\u001b[30m\u001b[49m\u001b[33mG\u001b[30m\u001b[49m\u001b[34mC\u001b[30m\u001b[49m\u001b[47m \u001b[30m\u001b[49m\u001b[47m \u001b[30m\u001b[49m\u001b[47m \u001b[30m\u001b[49m\u001b[47m \u001b[30m\u001b[49m\u001b[47m \u001b[30m\u001b[49m\u001b[47m \u001b[30m\u001b[49m\u001b[47m \u001b[30m\u001b[49m\u001b[47m \u001b[30m\u001b[49m\u001b[47m \u001b[30m\u001b[49m\u001b[47m \u001b[30m\u001b[49m\u001b[47m \u001b[30m\u001b[49m\u001b[47m \u001b[30m\u001b[49m\u001b[47m \u001b[30m\u001b[49m\u001b[47m \u001b[30m\u001b[49m\u001b[47m \u001b[30m\u001b[49m\u001b[47m \u001b[30m\u001b[49m\u001b[47m \u001b[30m\u001b[49m\u001b[47m \u001b[30m\u001b[49m\u001b[47m \u001b[30m\u001b[49m\u001b[47m \u001b[30m\u001b[49m\n",
            "label:\t\t \u001b[32mA\u001b[30m\u001b[49m\u001b[31mT\u001b[30m\u001b[49m\u001b[31mT\u001b[30m\u001b[49m\u001b[32mA\u001b[30m\u001b[49m\u001b[33mG\u001b[30m\u001b[49m\u001b[32mA\u001b[30m\u001b[49m\u001b[34mC\u001b[30m\u001b[49m\u001b[34mC\u001b[30m\u001b[49m\u001b[47m \u001b[30m\u001b[49m\u001b[34mC\u001b[30m\u001b[49m\u001b[31mT\u001b[30m\u001b[49m\u001b[34mC\u001b[30m\u001b[49m\u001b[34mC\u001b[30m\u001b[49m\u001b[32mA\u001b[30m\u001b[49m\u001b[47m \u001b[30m\u001b[49m\u001b[31mT\u001b[30m\u001b[49m\u001b[31mT\u001b[30m\u001b[49m\u001b[47m \u001b[30m\u001b[49m\u001b[47m \u001b[30m\u001b[49m\u001b[31mT\u001b[30m\u001b[49m\u001b[31mT\u001b[30m\u001b[49m\u001b[33mG\u001b[30m\u001b[49m\u001b[31mT\u001b[30m\u001b[49m\u001b[33mG\u001b[30m\u001b[49m\u001b[47m \u001b[30m\u001b[49m\u001b[31mT\u001b[30m\u001b[49m\u001b[33mG\u001b[30m\u001b[49m\u001b[31mT\u001b[30m\u001b[49m\u001b[34mC\u001b[30m\u001b[49m\u001b[31mT\u001b[30m\u001b[49m\u001b[31mT\u001b[30m\u001b[49m\u001b[34mC\u001b[30m\u001b[49m\u001b[31mT\u001b[30m\u001b[49m\u001b[31mT\u001b[30m\u001b[49m\u001b[33mG\u001b[30m\u001b[49m\u001b[31mT\u001b[30m\u001b[49m\u001b[31mT\u001b[30m\u001b[49m\u001b[31mT\u001b[30m\u001b[49m\u001b[33mG\u001b[30m\u001b[49m\u001b[31mT\u001b[30m\u001b[49m\u001b[33mG\u001b[30m\u001b[49m\u001b[31mT\u001b[30m\u001b[49m\u001b[34mC\u001b[30m\u001b[49m\u001b[31mT\u001b[30m\u001b[49m\u001b[34mC\u001b[30m\u001b[49m\u001b[47m \u001b[30m\u001b[49m\u001b[31mT\u001b[30m\u001b[49m\u001b[47m \u001b[30m\u001b[49m\u001b[32mA\u001b[30m\u001b[49m\u001b[32mA\u001b[30m\u001b[49m\u001b[32mA\u001b[30m\u001b[49m\u001b[47m \u001b[30m\u001b[49m\u001b[31mT\u001b[30m\u001b[49m\u001b[47m \u001b[30m\u001b[49m\u001b[31mT\u001b[30m\u001b[49m\u001b[32mA\u001b[30m\u001b[49m\u001b[31mT\u001b[30m\u001b[49m\u001b[34mC\u001b[30m\u001b[49m\u001b[34mC\u001b[30m\u001b[49m\u001b[31mT\u001b[30m\u001b[49m\u001b[31mT\u001b[30m\u001b[49m\u001b[31mT\u001b[30m\u001b[49m\u001b[33mG\u001b[30m\u001b[49m\u001b[33mG\u001b[30m\u001b[49m\u001b[47m \u001b[30m\u001b[49m\u001b[34mC\u001b[30m\u001b[49m\u001b[31mT\u001b[30m\u001b[49m\u001b[31mT\u001b[30m\u001b[49m\u001b[32mA\u001b[30m\u001b[49m\u001b[32mA\u001b[30m\u001b[49m\u001b[31mT\u001b[30m\u001b[49m\u001b[32mA\u001b[30m\u001b[49m\u001b[32mA\u001b[30m\u001b[49m\u001b[31mT\u001b[30m\u001b[49m\u001b[32mA\u001b[30m\u001b[49m\u001b[32mA\u001b[30m\u001b[49m\u001b[31mT\u001b[30m\u001b[49m\u001b[31mT\u001b[30m\u001b[49m\u001b[32mA\u001b[30m\u001b[49m\u001b[32mA\u001b[30m\u001b[49m\u001b[33mG\u001b[30m\u001b[49m\u001b[31mT\u001b[30m\u001b[49m\u001b[34mC\u001b[30m\u001b[49m\u001b[34mC\u001b[30m\u001b[49m\u001b[34mC\u001b[30m\u001b[49m\u001b[31mT\u001b[30m\u001b[49m\u001b[31mT\u001b[30m\u001b[49m\u001b[34mC\u001b[30m\u001b[49m\u001b[31mT\u001b[30m\u001b[49m\u001b[32mA\u001b[30m\u001b[49m\u001b[34mC\u001b[30m\u001b[49m\u001b[33mG\u001b[30m\u001b[49m\u001b[31mT\u001b[30m\u001b[49m\u001b[33mG\u001b[30m\u001b[49m\u001b[34mC\u001b[30m\u001b[49m\u001b[34mC\u001b[30m\u001b[49m\u001b[32mA\u001b[30m\u001b[49m\u001b[33mG\u001b[30m\u001b[49m\u001b[33mG\u001b[30m\u001b[49m\u001b[34mC\u001b[30m\u001b[49m\u001b[47m \u001b[30m\u001b[49m\u001b[47m \u001b[30m\u001b[49m\u001b[47m \u001b[30m\u001b[49m\u001b[47m \u001b[30m\u001b[49m\u001b[47m \u001b[30m\u001b[49m\u001b[47m \u001b[30m\u001b[49m\u001b[47m \u001b[30m\u001b[49m\u001b[47m \u001b[30m\u001b[49m\u001b[47m \u001b[30m\u001b[49m\u001b[47m \u001b[30m\u001b[49m\u001b[47m \u001b[30m\u001b[49m\u001b[47m \u001b[30m\u001b[49m\u001b[47m \u001b[30m\u001b[49m\u001b[47m \u001b[30m\u001b[49m\u001b[47m \u001b[30m\u001b[49m\u001b[47m \u001b[30m\u001b[49m\u001b[47m \u001b[30m\u001b[49m\u001b[47m \u001b[30m\u001b[49m\u001b[47m \u001b[30m\u001b[49m\u001b[47m \u001b[30m\u001b[49m\n",
            "\n",
            "\n"
          ]
        }
      ],
      "source": [
        "show_example(batch, example_i, ypreds=y_preds)"
      ]
    }
  ],
  "metadata": {
    "colab": {
      "collapsed_sections": [
        "UyUxIkM832Mf",
        "JeEhJhdjz-L9"
      ],
      "name": "Inspecting_DeepConsensus_examples_and_running_model.ipynb",
      "provenance": [],
      "toc_visible": true
    },
    "kernelspec": {
      "display_name": "Python 3",
      "name": "python3"
    },
    "language_info": {
      "name": "python"
    }
  },
  "nbformat": 4,
  "nbformat_minor": 0
}
